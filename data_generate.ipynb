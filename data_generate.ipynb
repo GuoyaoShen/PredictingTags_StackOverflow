{
 "cells": [
  {
   "cell_type": "markdown",
   "metadata": {
    "_uuid": "9e2bd514fbb5fa41ff5faa1edae0899cc14d3e85",
    "colab_type": "text",
    "id": "s03tr1y31Zkr"
   },
   "source": [
    "![](https://i.imgur.com/sWyuy4Y.jpg)"
   ]
  },
  {
   "cell_type": "markdown",
   "metadata": {
    "_uuid": "929bb7239d67aa71cd065830de8680218023d9ae",
    "colab_type": "text",
    "id": "W_Cx-3an1Zkv"
   },
   "source": [
    "In this notebook, I'll use the dataset \"StackSample: 10% of Stack Overflow Q&A\", I'll only use the questions and the tags. \n",
    "I will implement a tag suggestion system. I'll both try machine learning models and deep learning models like Word2Vec. I'll then compare the performance of both approaches. \n",
    "\n",
    "This notebook will be divided in 2 parts:\n",
    "* PART 1 : Cleaning data and EDA\n",
    "* PART 2 : Classical classifiers implemented (SGC classifier, MultiNomial Naive Bayes Classifier, Random Forest Classfier, ...\n"
   ]
  },
  {
   "cell_type": "markdown",
   "metadata": {
    "_uuid": "a7cf70d54413735fe632aaa5df43f34e353e0ff4",
    "colab_type": "text",
    "id": "n-xo62bB1Zkw"
   },
   "source": [
    "**PART 1: Cleaning Data and Exploratory Data Analysis**"
   ]
  },
  {
   "cell_type": "markdown",
   "metadata": {
    "_uuid": "abe58b6f63ad6fc975f6b62c1a47d3af54a943e5",
    "colab_type": "text",
    "id": "QoubOsyM1Zkx"
   },
   "source": [
    "**1.1 Setting up the dataset for later training**"
   ]
  },
  {
   "cell_type": "markdown",
   "metadata": {
    "_uuid": "6ddb1e9c1032972f4c87204650195ee00fb3bb29",
    "colab_type": "text",
    "id": "n2Ewycd61Zky"
   },
   "source": [
    "Importing useful libraries at first"
   ]
  },
  {
   "cell_type": "code",
   "execution_count": 1,
   "metadata": {
    "_cell_guid": "b1076dfc-b9ad-4769-8c92-a6c4dae69d19",
    "_kg_hide-input": true,
    "_uuid": "8f2839f25d086af736a60e9eeb907d3b93b6e0e5",
    "colab": {},
    "colab_type": "code",
    "id": "piqoXlRh1Zk0",
    "scrolled": false
   },
   "outputs": [],
   "source": [
    "import pandas as pd\n",
    "import numpy as np\n",
    "\n",
    "\n",
    "import matplotlib.pyplot as plt\n",
    "import matplotlib.lines as mlines\n",
    "import seaborn as sns\n",
    "\n",
    "import warnings\n",
    "\n",
    "import pickle\n",
    "import time\n",
    "\n",
    "import re\n",
    "from bs4 import BeautifulSoup\n",
    "import nltk\n",
    "from nltk.tokenize import ToktokTokenizer\n",
    "from nltk.stem.wordnet import WordNetLemmatizer\n",
    "from nltk.corpus import stopwords\n",
    "from string import punctuation\n",
    "\n",
    "from sklearn.feature_extraction.text import TfidfVectorizer\n",
    "from sklearn.decomposition import LatentDirichletAllocation\n",
    "from sklearn.preprocessing import MultiLabelBinarizer\n",
    "from sklearn.model_selection import train_test_split\n",
    "from sklearn.model_selection import learning_curve\n",
    "from sklearn.model_selection import ShuffleSplit\n",
    "from sklearn.dummy import DummyClassifier\n",
    "from sklearn.naive_bayes import MultinomialNB\n",
    "from sklearn.linear_model import SGDClassifier\n",
    "from sklearn.linear_model import LogisticRegression\n",
    "from sklearn.multiclass import OneVsRestClassifier\n",
    "from sklearn.svm import LinearSVC\n",
    "from sklearn.linear_model import Perceptron\n",
    "from sklearn.linear_model import PassiveAggressiveClassifier\n",
    "from sklearn.neural_network import MLPClassifier\n",
    "from sklearn.ensemble import RandomForestClassifier\n",
    "from sklearn import model_selection\n",
    "from sklearn.metrics import make_scorer\n",
    "from sklearn.metrics import confusion_matrix\n",
    "from sklearn.metrics import hamming_loss\n",
    "from sklearn.cluster import KMeans\n",
    "\n",
    "\n",
    "import logging\n",
    "\n",
    "from scipy.sparse import hstack\n",
    "\n",
    "warnings.filterwarnings(\"ignore\")\n",
    "plt.style.use('bmh')\n",
    "%matplotlib inline"
   ]
  },
  {
   "cell_type": "code",
   "execution_count": 2,
   "metadata": {
    "_cell_guid": "79c7e3d0-c299-4dcb-8224-4455121ee9b0",
    "_uuid": "d629ff2d2480ee46fbb7e2d37f6b5fab8052498a",
    "colab": {},
    "colab_type": "code",
    "id": "QtnVV9uI1Zk4",
    "scrolled": false
   },
   "outputs": [],
   "source": [
    "# Setting a random seed in order to keep the same random results each time I run the notebook\n",
    "np.random.seed(seed=11)"
   ]
  },
  {
   "cell_type": "code",
   "execution_count": 3,
   "metadata": {
    "_uuid": "dc1c92bf4166de1e2ce4bfb229b40b32eb94374a",
    "colab": {},
    "colab_type": "code",
    "id": "_pIvXQuv1Zk8",
    "outputId": "4e4a007c-d401-4702-8b94-f08ddfc03db2",
    "scrolled": false
   },
   "outputs": [
    {
     "name": "stdout",
     "output_type": "stream",
     "text": [
      "['Answers.csv', 'Answers.csv.zip', 'Questions.csv', 'Questions.csv.zip', 'Tags.csv', 'Tags.csv.zip']\n"
     ]
    }
   ],
   "source": [
    "import os \n",
    "print(os.listdir(\"input\"))"
   ]
  },
  {
   "cell_type": "code",
   "execution_count": 4,
   "metadata": {
    "_uuid": "120edf8b2306a6391ad992cf3f48598739ec1940",
    "colab": {},
    "colab_type": "code",
    "id": "7MKGgqUT1ZlC",
    "scrolled": false
   },
   "outputs": [],
   "source": [
    "# Importing the database \n",
    "\n",
    "df = pd.read_csv(\"input\\\\Questions.csv\\\\Questions.csv\", encoding=\"ISO-8859-1\")"
   ]
  },
  {
   "cell_type": "code",
   "execution_count": 5,
   "metadata": {
    "_uuid": "40c3e09d38aecf03ce13fd0d88809e80a67d3d1a",
    "colab": {},
    "colab_type": "code",
    "id": "vTfXlq_b1ZlG",
    "outputId": "1acc1960-15d9-4ea0-bcdb-372e2d4d976b",
    "scrolled": false
   },
   "outputs": [
    {
     "data": {
      "text/html": [
       "<div>\n",
       "<style scoped>\n",
       "    .dataframe tbody tr th:only-of-type {\n",
       "        vertical-align: middle;\n",
       "    }\n",
       "\n",
       "    .dataframe tbody tr th {\n",
       "        vertical-align: top;\n",
       "    }\n",
       "\n",
       "    .dataframe thead th {\n",
       "        text-align: right;\n",
       "    }\n",
       "</style>\n",
       "<table border=\"1\" class=\"dataframe\">\n",
       "  <thead>\n",
       "    <tr style=\"text-align: right;\">\n",
       "      <th></th>\n",
       "      <th>Id</th>\n",
       "      <th>OwnerUserId</th>\n",
       "      <th>CreationDate</th>\n",
       "      <th>ClosedDate</th>\n",
       "      <th>Score</th>\n",
       "      <th>Title</th>\n",
       "      <th>Body</th>\n",
       "    </tr>\n",
       "  </thead>\n",
       "  <tbody>\n",
       "    <tr>\n",
       "      <th>0</th>\n",
       "      <td>80</td>\n",
       "      <td>26.0</td>\n",
       "      <td>2008-08-01T13:57:07Z</td>\n",
       "      <td>NaN</td>\n",
       "      <td>26</td>\n",
       "      <td>SQLStatement.execute() - multiple queries in o...</td>\n",
       "      <td>&lt;p&gt;I've written a database generation script i...</td>\n",
       "    </tr>\n",
       "    <tr>\n",
       "      <th>1</th>\n",
       "      <td>90</td>\n",
       "      <td>58.0</td>\n",
       "      <td>2008-08-01T14:41:24Z</td>\n",
       "      <td>2012-12-26T03:45:49Z</td>\n",
       "      <td>144</td>\n",
       "      <td>Good branching and merging tutorials for Torto...</td>\n",
       "      <td>&lt;p&gt;Are there any really good tutorials explain...</td>\n",
       "    </tr>\n",
       "    <tr>\n",
       "      <th>2</th>\n",
       "      <td>120</td>\n",
       "      <td>83.0</td>\n",
       "      <td>2008-08-01T15:50:08Z</td>\n",
       "      <td>NaN</td>\n",
       "      <td>21</td>\n",
       "      <td>ASP.NET Site Maps</td>\n",
       "      <td>&lt;p&gt;Has anyone got experience creating &lt;strong&gt;...</td>\n",
       "    </tr>\n",
       "    <tr>\n",
       "      <th>3</th>\n",
       "      <td>180</td>\n",
       "      <td>2089740.0</td>\n",
       "      <td>2008-08-01T18:42:19Z</td>\n",
       "      <td>NaN</td>\n",
       "      <td>53</td>\n",
       "      <td>Function for creating color wheels</td>\n",
       "      <td>&lt;p&gt;This is something I've pseudo-solved many t...</td>\n",
       "    </tr>\n",
       "    <tr>\n",
       "      <th>4</th>\n",
       "      <td>260</td>\n",
       "      <td>91.0</td>\n",
       "      <td>2008-08-01T23:22:08Z</td>\n",
       "      <td>NaN</td>\n",
       "      <td>49</td>\n",
       "      <td>Adding scripting functionality to .NET applica...</td>\n",
       "      <td>&lt;p&gt;I have a little game written in C#. It uses...</td>\n",
       "    </tr>\n",
       "  </tbody>\n",
       "</table>\n",
       "</div>"
      ],
      "text/plain": [
       "    Id  OwnerUserId          CreationDate            ClosedDate  Score  \\\n",
       "0   80         26.0  2008-08-01T13:57:07Z                   NaN     26   \n",
       "1   90         58.0  2008-08-01T14:41:24Z  2012-12-26T03:45:49Z    144   \n",
       "2  120         83.0  2008-08-01T15:50:08Z                   NaN     21   \n",
       "3  180    2089740.0  2008-08-01T18:42:19Z                   NaN     53   \n",
       "4  260         91.0  2008-08-01T23:22:08Z                   NaN     49   \n",
       "\n",
       "                                               Title  \\\n",
       "0  SQLStatement.execute() - multiple queries in o...   \n",
       "1  Good branching and merging tutorials for Torto...   \n",
       "2                                  ASP.NET Site Maps   \n",
       "3                 Function for creating color wheels   \n",
       "4  Adding scripting functionality to .NET applica...   \n",
       "\n",
       "                                                Body  \n",
       "0  <p>I've written a database generation script i...  \n",
       "1  <p>Are there any really good tutorials explain...  \n",
       "2  <p>Has anyone got experience creating <strong>...  \n",
       "3  <p>This is something I've pseudo-solved many t...  \n",
       "4  <p>I have a little game written in C#. It uses...  "
      ]
     },
     "execution_count": 5,
     "metadata": {},
     "output_type": "execute_result"
    }
   ],
   "source": [
    "df.head(5)"
   ]
  },
  {
   "cell_type": "code",
   "execution_count": 6,
   "metadata": {
    "_uuid": "9beed1bea78dd1ed930caeef2923aef03420e1cc",
    "colab": {},
    "colab_type": "code",
    "id": "wTfYowht1ZlL",
    "scrolled": false
   },
   "outputs": [],
   "source": [
    "tags = pd.read_csv(\"input\\\\Tags.csv\\\\Tags.csv\", encoding=\"ISO-8859-1\", dtype={'Tag': str})"
   ]
  },
  {
   "cell_type": "code",
   "execution_count": 7,
   "metadata": {
    "_uuid": "3f4a7e6a7ee2745fc207f19fccb9c0dbc3a571a4",
    "colab": {},
    "colab_type": "code",
    "id": "4bIR36VL1ZlP",
    "outputId": "f3232674-0e82-45c7-e4fe-90579aa8363f",
    "scrolled": false
   },
   "outputs": [],
   "source": [
    "# tags.head(5)"
   ]
  },
  {
   "cell_type": "code",
   "execution_count": 8,
   "metadata": {
    "_uuid": "ab191660e879734a6c26d1c1f2afd0e1218a50fc",
    "colab": {},
    "colab_type": "code",
    "id": "L8oFYITE1ZlS",
    "outputId": "c041f875-2160-4558-c22a-968787de860b",
    "scrolled": false
   },
   "outputs": [
    {
     "name": "stdout",
     "output_type": "stream",
     "text": [
      "<class 'pandas.core.frame.DataFrame'>\n",
      "RangeIndex: 1264216 entries, 0 to 1264215\n",
      "Data columns (total 7 columns):\n",
      "Id              1264216 non-null int64\n",
      "OwnerUserId     1249762 non-null float64\n",
      "CreationDate    1264216 non-null object\n",
      "ClosedDate      55959 non-null object\n",
      "Score           1264216 non-null int64\n",
      "Title           1264216 non-null object\n",
      "Body            1264216 non-null object\n",
      "dtypes: float64(1), int64(2), object(4)\n",
      "memory usage: 67.5+ MB\n"
     ]
    }
   ],
   "source": [
    "df.info()"
   ]
  },
  {
   "cell_type": "code",
   "execution_count": 9,
   "metadata": {
    "_uuid": "b71d45e2c86152d95f22679f01d8f855b042a62e",
    "colab": {},
    "colab_type": "code",
    "id": "LemBGLnN1ZlU",
    "outputId": "6bd16066-8482-402d-d3e7-aec27ea13707",
    "scrolled": false
   },
   "outputs": [
    {
     "name": "stdout",
     "output_type": "stream",
     "text": [
      "<class 'pandas.core.frame.DataFrame'>\n",
      "RangeIndex: 3750994 entries, 0 to 3750993\n",
      "Data columns (total 2 columns):\n",
      "Id     int64\n",
      "Tag    object\n",
      "dtypes: int64(1), object(1)\n",
      "memory usage: 57.2+ MB\n"
     ]
    }
   ],
   "source": [
    "tags.info()"
   ]
  },
  {
   "cell_type": "markdown",
   "metadata": {
    "_uuid": "ec6a03e07edd3ce3de1f20f073bdf18ffca87f4c",
    "colab_type": "text",
    "id": "UrJGnzVm1ZlX"
   },
   "source": [
    "First, what I want to do is to merge both dataframes. In order to do that, I'll have to group tags by the id of the post since a post can have multiple tags. I'll just use the groupeby function and then merge the dataframes on the id. "
   ]
  },
  {
   "cell_type": "code",
   "execution_count": 10,
   "metadata": {
    "_uuid": "933761c8b2bdb668e0bca3c9ea9cab36dd1a4391",
    "colab": {},
    "colab_type": "code",
    "id": "27tZkuuq1ZlX",
    "scrolled": false
   },
   "outputs": [],
   "source": [
    "tags['Tag'] = tags['Tag'].astype(str)"
   ]
  },
  {
   "cell_type": "code",
   "execution_count": 11,
   "metadata": {
    "_kg_hide-output": true,
    "_uuid": "267d7c8f01a3b427ab139d689ce5d13ab8820913",
    "colab": {},
    "colab_type": "code",
    "id": "ds1QBt3b1Zlc",
    "scrolled": false
   },
   "outputs": [],
   "source": [
    "grouped_tags = tags.groupby(\"Id\")['Tag'].apply(lambda tags: ' '.join(tags))"
   ]
  },
  {
   "cell_type": "code",
   "execution_count": 12,
   "metadata": {
    "_uuid": "d4096130e47ec904f9bbe27822d1ddf403a675dc",
    "colab": {},
    "colab_type": "code",
    "id": "juhIyqKs1Zlf",
    "outputId": "b165d19e-d98d-430d-b9c3-6daea6cfa92e",
    "scrolled": false
   },
   "outputs": [],
   "source": [
    "# grouped_tags.head(5)"
   ]
  },
  {
   "cell_type": "code",
   "execution_count": 13,
   "metadata": {
    "_kg_hide-output": true,
    "_uuid": "a9ecae8a6445c671d9c0a1b207df8b530bae70ab",
    "colab": {},
    "colab_type": "code",
    "id": "N0GdgTaZ1Zli",
    "outputId": "071352f9-155f-4648-c8f0-4b4b2970af0a",
    "scrolled": false
   },
   "outputs": [
    {
     "data": {
      "text/html": [
       "<div>\n",
       "<style scoped>\n",
       "    .dataframe tbody tr th:only-of-type {\n",
       "        vertical-align: middle;\n",
       "    }\n",
       "\n",
       "    .dataframe tbody tr th {\n",
       "        vertical-align: top;\n",
       "    }\n",
       "\n",
       "    .dataframe thead th {\n",
       "        text-align: right;\n",
       "    }\n",
       "</style>\n",
       "<table border=\"1\" class=\"dataframe\">\n",
       "  <thead>\n",
       "    <tr style=\"text-align: right;\">\n",
       "      <th></th>\n",
       "      <th>Id</th>\n",
       "      <th>Tag</th>\n",
       "    </tr>\n",
       "  </thead>\n",
       "  <tbody>\n",
       "    <tr>\n",
       "      <th>0</th>\n",
       "      <td>80</td>\n",
       "      <td>flex actionscript-3 air</td>\n",
       "    </tr>\n",
       "    <tr>\n",
       "      <th>1</th>\n",
       "      <td>90</td>\n",
       "      <td>svn tortoisesvn branch branching-and-merging</td>\n",
       "    </tr>\n",
       "    <tr>\n",
       "      <th>2</th>\n",
       "      <td>120</td>\n",
       "      <td>sql asp.net sitemap</td>\n",
       "    </tr>\n",
       "    <tr>\n",
       "      <th>3</th>\n",
       "      <td>180</td>\n",
       "      <td>algorithm language-agnostic colors color-space</td>\n",
       "    </tr>\n",
       "    <tr>\n",
       "      <th>4</th>\n",
       "      <td>260</td>\n",
       "      <td>c# .net scripting compiler-construction</td>\n",
       "    </tr>\n",
       "    <tr>\n",
       "      <th>5</th>\n",
       "      <td>330</td>\n",
       "      <td>c++ oop class nested-class</td>\n",
       "    </tr>\n",
       "    <tr>\n",
       "      <th>6</th>\n",
       "      <td>470</td>\n",
       "      <td>.net web-services</td>\n",
       "    </tr>\n",
       "    <tr>\n",
       "      <th>7</th>\n",
       "      <td>580</td>\n",
       "      <td>sql-server sql-server-2005 deployment release-...</td>\n",
       "    </tr>\n",
       "    <tr>\n",
       "      <th>8</th>\n",
       "      <td>650</td>\n",
       "      <td>c# visual-studio versioning</td>\n",
       "    </tr>\n",
       "    <tr>\n",
       "      <th>9</th>\n",
       "      <td>810</td>\n",
       "      <td>windows visual-studio registry installation</td>\n",
       "    </tr>\n",
       "    <tr>\n",
       "      <th>10</th>\n",
       "      <td>930</td>\n",
       "      <td>c# database loops connection</td>\n",
       "    </tr>\n",
       "    <tr>\n",
       "      <th>11</th>\n",
       "      <td>1010</td>\n",
       "      <td>c# asp.net</td>\n",
       "    </tr>\n",
       "    <tr>\n",
       "      <th>12</th>\n",
       "      <td>1040</td>\n",
       "      <td>c# file-locking</td>\n",
       "    </tr>\n",
       "    <tr>\n",
       "      <th>13</th>\n",
       "      <td>1070</td>\n",
       "      <td>unix size</td>\n",
       "    </tr>\n",
       "    <tr>\n",
       "      <th>14</th>\n",
       "      <td>1160</td>\n",
       "      <td>svn msbuild cruisecontrol.net</td>\n",
       "    </tr>\n",
       "    <tr>\n",
       "      <th>15</th>\n",
       "      <td>1180</td>\n",
       "      <td>web-applications dns subdomain account</td>\n",
       "    </tr>\n",
       "    <tr>\n",
       "      <th>16</th>\n",
       "      <td>1300</td>\n",
       "      <td>.net .net-3.5 msbuild nant</td>\n",
       "    </tr>\n",
       "    <tr>\n",
       "      <th>17</th>\n",
       "      <td>1390</td>\n",
       "      <td>sql-server windows-server-2008</td>\n",
       "    </tr>\n",
       "    <tr>\n",
       "      <th>18</th>\n",
       "      <td>1600</td>\n",
       "      <td>sql-server sql-server-2008</td>\n",
       "    </tr>\n",
       "    <tr>\n",
       "      <th>19</th>\n",
       "      <td>1610</td>\n",
       "      <td>sql-server</td>\n",
       "    </tr>\n",
       "    <tr>\n",
       "      <th>20</th>\n",
       "      <td>1760</td>\n",
       "      <td>c# .net unit-testing testing</td>\n",
       "    </tr>\n",
       "    <tr>\n",
       "      <th>21</th>\n",
       "      <td>1790</td>\n",
       "      <td>svn version-control</td>\n",
       "    </tr>\n",
       "    <tr>\n",
       "      <th>22</th>\n",
       "      <td>1970</td>\n",
       "      <td>sql database postgresql stored-procedures trig...</td>\n",
       "    </tr>\n",
       "    <tr>\n",
       "      <th>23</th>\n",
       "      <td>2120</td>\n",
       "      <td>sql sql-server</td>\n",
       "    </tr>\n",
       "    <tr>\n",
       "      <th>24</th>\n",
       "      <td>2250</td>\n",
       "      <td>c# dataset datatable</td>\n",
       "    </tr>\n",
       "    <tr>\n",
       "      <th>25</th>\n",
       "      <td>2300</td>\n",
       "      <td>asp-classic vbscript</td>\n",
       "    </tr>\n",
       "    <tr>\n",
       "      <th>26</th>\n",
       "      <td>2530</td>\n",
       "      <td>html autocomplete</td>\n",
       "    </tr>\n",
       "    <tr>\n",
       "      <th>27</th>\n",
       "      <td>2540</td>\n",
       "      <td>c architecture data-structures</td>\n",
       "    </tr>\n",
       "    <tr>\n",
       "      <th>28</th>\n",
       "      <td>2550</td>\n",
       "      <td>asp.net flash video embed</td>\n",
       "    </tr>\n",
       "    <tr>\n",
       "      <th>29</th>\n",
       "      <td>2630</td>\n",
       "      <td>powershell cmdlets</td>\n",
       "    </tr>\n",
       "    <tr>\n",
       "      <th>...</th>\n",
       "      <td>...</td>\n",
       "      <td>...</td>\n",
       "    </tr>\n",
       "    <tr>\n",
       "      <th>1264186</th>\n",
       "      <td>40142590</td>\n",
       "      <td>javascript jquery html date</td>\n",
       "    </tr>\n",
       "    <tr>\n",
       "      <th>1264187</th>\n",
       "      <td>40142600</td>\n",
       "      <td>python</td>\n",
       "    </tr>\n",
       "    <tr>\n",
       "      <th>1264188</th>\n",
       "      <td>40142610</td>\n",
       "      <td>audio soundcloud</td>\n",
       "    </tr>\n",
       "    <tr>\n",
       "      <th>1264189</th>\n",
       "      <td>40142700</td>\n",
       "      <td>php jquery ajax binary x-sendfile</td>\n",
       "    </tr>\n",
       "    <tr>\n",
       "      <th>1264190</th>\n",
       "      <td>40142730</td>\n",
       "      <td>angular2 typescript</td>\n",
       "    </tr>\n",
       "    <tr>\n",
       "      <th>1264191</th>\n",
       "      <td>40142750</td>\n",
       "      <td>amazon-dynamodb</td>\n",
       "    </tr>\n",
       "    <tr>\n",
       "      <th>1264192</th>\n",
       "      <td>40142760</td>\n",
       "      <td>javascript google-apps-script</td>\n",
       "    </tr>\n",
       "    <tr>\n",
       "      <th>1264193</th>\n",
       "      <td>40142780</td>\n",
       "      <td>c</td>\n",
       "    </tr>\n",
       "    <tr>\n",
       "      <th>1264194</th>\n",
       "      <td>40142790</td>\n",
       "      <td>c++</td>\n",
       "    </tr>\n",
       "    <tr>\n",
       "      <th>1264195</th>\n",
       "      <td>40142820</td>\n",
       "      <td>asp.net-mvc kendo-ui treelist kendo-treelist</td>\n",
       "    </tr>\n",
       "    <tr>\n",
       "      <th>1264196</th>\n",
       "      <td>40142840</td>\n",
       "      <td>python django amazon-web-services internal-ser...</td>\n",
       "    </tr>\n",
       "    <tr>\n",
       "      <th>1264197</th>\n",
       "      <td>40142860</td>\n",
       "      <td>excel excel-formula</td>\n",
       "    </tr>\n",
       "    <tr>\n",
       "      <th>1264198</th>\n",
       "      <td>40142870</td>\n",
       "      <td>c# asp.net-mvc remote-validation</td>\n",
       "    </tr>\n",
       "    <tr>\n",
       "      <th>1264199</th>\n",
       "      <td>40142880</td>\n",
       "      <td>cmake cross-compiling</td>\n",
       "    </tr>\n",
       "    <tr>\n",
       "      <th>1264200</th>\n",
       "      <td>40142900</td>\n",
       "      <td>api oauth linkedin</td>\n",
       "    </tr>\n",
       "    <tr>\n",
       "      <th>1264201</th>\n",
       "      <td>40142910</td>\n",
       "      <td>ruby-on-rails validation ruby-on-rails-4</td>\n",
       "    </tr>\n",
       "    <tr>\n",
       "      <th>1264202</th>\n",
       "      <td>40142920</td>\n",
       "      <td>linux ubuntu gcc gcc4.6</td>\n",
       "    </tr>\n",
       "    <tr>\n",
       "      <th>1264203</th>\n",
       "      <td>40142940</td>\n",
       "      <td>c++</td>\n",
       "    </tr>\n",
       "    <tr>\n",
       "      <th>1264204</th>\n",
       "      <td>40143010</td>\n",
       "      <td>jquery ajax</td>\n",
       "    </tr>\n",
       "    <tr>\n",
       "      <th>1264205</th>\n",
       "      <td>40143070</td>\n",
       "      <td>haskell types functional-programming agda lamb...</td>\n",
       "    </tr>\n",
       "    <tr>\n",
       "      <th>1264206</th>\n",
       "      <td>40143110</td>\n",
       "      <td>android android-activity android-lifecycle</td>\n",
       "    </tr>\n",
       "    <tr>\n",
       "      <th>1264207</th>\n",
       "      <td>40143140</td>\n",
       "      <td>spring-data-rest</td>\n",
       "    </tr>\n",
       "    <tr>\n",
       "      <th>1264208</th>\n",
       "      <td>40143150</td>\n",
       "      <td>javascript youtube youtube-iframe-api</td>\n",
       "    </tr>\n",
       "    <tr>\n",
       "      <th>1264209</th>\n",
       "      <td>40143170</td>\n",
       "      <td>laravel binding model routes</td>\n",
       "    </tr>\n",
       "    <tr>\n",
       "      <th>1264210</th>\n",
       "      <td>40143190</td>\n",
       "      <td>python bash multiline</td>\n",
       "    </tr>\n",
       "    <tr>\n",
       "      <th>1264211</th>\n",
       "      <td>40143210</td>\n",
       "      <td>php .htaccess</td>\n",
       "    </tr>\n",
       "    <tr>\n",
       "      <th>1264212</th>\n",
       "      <td>40143300</td>\n",
       "      <td>google-bigquery</td>\n",
       "    </tr>\n",
       "    <tr>\n",
       "      <th>1264213</th>\n",
       "      <td>40143340</td>\n",
       "      <td>android android-studio</td>\n",
       "    </tr>\n",
       "    <tr>\n",
       "      <th>1264214</th>\n",
       "      <td>40143360</td>\n",
       "      <td>javascript vue.js</td>\n",
       "    </tr>\n",
       "    <tr>\n",
       "      <th>1264215</th>\n",
       "      <td>40143380</td>\n",
       "      <td>npm mocha babel</td>\n",
       "    </tr>\n",
       "  </tbody>\n",
       "</table>\n",
       "<p>1264216 rows × 2 columns</p>\n",
       "</div>"
      ],
      "text/plain": [
       "               Id                                                Tag\n",
       "0              80                            flex actionscript-3 air\n",
       "1              90       svn tortoisesvn branch branching-and-merging\n",
       "2             120                                sql asp.net sitemap\n",
       "3             180     algorithm language-agnostic colors color-space\n",
       "4             260            c# .net scripting compiler-construction\n",
       "5             330                         c++ oop class nested-class\n",
       "6             470                                  .net web-services\n",
       "7             580  sql-server sql-server-2005 deployment release-...\n",
       "8             650                        c# visual-studio versioning\n",
       "9             810        windows visual-studio registry installation\n",
       "10            930                       c# database loops connection\n",
       "11           1010                                         c# asp.net\n",
       "12           1040                                    c# file-locking\n",
       "13           1070                                          unix size\n",
       "14           1160                      svn msbuild cruisecontrol.net\n",
       "15           1180             web-applications dns subdomain account\n",
       "16           1300                         .net .net-3.5 msbuild nant\n",
       "17           1390                     sql-server windows-server-2008\n",
       "18           1600                         sql-server sql-server-2008\n",
       "19           1610                                         sql-server\n",
       "20           1760                       c# .net unit-testing testing\n",
       "21           1790                                svn version-control\n",
       "22           1970  sql database postgresql stored-procedures trig...\n",
       "23           2120                                     sql sql-server\n",
       "24           2250                               c# dataset datatable\n",
       "25           2300                               asp-classic vbscript\n",
       "26           2530                                  html autocomplete\n",
       "27           2540                     c architecture data-structures\n",
       "28           2550                          asp.net flash video embed\n",
       "29           2630                                 powershell cmdlets\n",
       "...           ...                                                ...\n",
       "1264186  40142590                        javascript jquery html date\n",
       "1264187  40142600                                             python\n",
       "1264188  40142610                                   audio soundcloud\n",
       "1264189  40142700                  php jquery ajax binary x-sendfile\n",
       "1264190  40142730                                angular2 typescript\n",
       "1264191  40142750                                    amazon-dynamodb\n",
       "1264192  40142760                      javascript google-apps-script\n",
       "1264193  40142780                                                  c\n",
       "1264194  40142790                                                c++\n",
       "1264195  40142820       asp.net-mvc kendo-ui treelist kendo-treelist\n",
       "1264196  40142840  python django amazon-web-services internal-ser...\n",
       "1264197  40142860                                excel excel-formula\n",
       "1264198  40142870                   c# asp.net-mvc remote-validation\n",
       "1264199  40142880                              cmake cross-compiling\n",
       "1264200  40142900                                 api oauth linkedin\n",
       "1264201  40142910           ruby-on-rails validation ruby-on-rails-4\n",
       "1264202  40142920                            linux ubuntu gcc gcc4.6\n",
       "1264203  40142940                                                c++\n",
       "1264204  40143010                                        jquery ajax\n",
       "1264205  40143070  haskell types functional-programming agda lamb...\n",
       "1264206  40143110         android android-activity android-lifecycle\n",
       "1264207  40143140                                   spring-data-rest\n",
       "1264208  40143150              javascript youtube youtube-iframe-api\n",
       "1264209  40143170                       laravel binding model routes\n",
       "1264210  40143190                              python bash multiline\n",
       "1264211  40143210                                      php .htaccess\n",
       "1264212  40143300                                    google-bigquery\n",
       "1264213  40143340                             android android-studio\n",
       "1264214  40143360                                  javascript vue.js\n",
       "1264215  40143380                                    npm mocha babel\n",
       "\n",
       "[1264216 rows x 2 columns]"
      ]
     },
     "execution_count": 13,
     "metadata": {},
     "output_type": "execute_result"
    }
   ],
   "source": [
    "grouped_tags.reset_index()"
   ]
  },
  {
   "cell_type": "code",
   "execution_count": 14,
   "metadata": {
    "_uuid": "8da81a33552cd273c80e159e0c1cc8dddc98399c",
    "colab": {},
    "colab_type": "code",
    "id": "e6ZIvdqY1Zlk",
    "scrolled": false
   },
   "outputs": [],
   "source": [
    "grouped_tags_final = pd.DataFrame({'Id':grouped_tags.index, 'Tags':grouped_tags.values})"
   ]
  },
  {
   "cell_type": "code",
   "execution_count": 15,
   "metadata": {
    "_uuid": "9968760c364a005b7de54bd908cfc612fc9defe8",
    "colab": {},
    "colab_type": "code",
    "id": "eaqjPsv11Zln",
    "outputId": "eb0750bf-79e4-4083-de1f-6e2b8bf15f83",
    "scrolled": false
   },
   "outputs": [],
   "source": [
    "# grouped_tags_final.head(5)"
   ]
  },
  {
   "cell_type": "code",
   "execution_count": 16,
   "metadata": {
    "_uuid": "2612dea031562d420f8dac14801d167721d2bcc9",
    "colab": {},
    "colab_type": "code",
    "id": "4ZqogExY1Zlq",
    "scrolled": false
   },
   "outputs": [],
   "source": [
    "df.drop(columns=['OwnerUserId', 'CreationDate', 'ClosedDate'], inplace=True)"
   ]
  },
  {
   "cell_type": "code",
   "execution_count": 17,
   "metadata": {
    "_uuid": "bd794a28df6e19818c754702ed5f3745262d866f",
    "colab": {},
    "colab_type": "code",
    "id": "gz4hIo3D1Zlu",
    "scrolled": false
   },
   "outputs": [],
   "source": [
    "df = df.merge(grouped_tags_final, on='Id')"
   ]
  },
  {
   "cell_type": "code",
   "execution_count": 18,
   "metadata": {
    "_uuid": "132c4501747d2832eaf8d95f5d9cb3acaadc97f4",
    "colab": {},
    "colab_type": "code",
    "id": "oSqjG86t1Zlw",
    "outputId": "1dce2126-07c1-4bd3-e5c5-c2ea17640125",
    "scrolled": true
   },
   "outputs": [],
   "source": [
    "# df.head(5)"
   ]
  },
  {
   "cell_type": "markdown",
   "metadata": {
    "_uuid": "df4a7b2e88af524f4bd778c223d580de76c57cf7",
    "colab_type": "text",
    "id": "cdNFkikS1Zl0"
   },
   "source": [
    "Now, I'll take only quesions witha score greater than 5. I'm doing that for 2 reasons:\n",
    "* 1- I'll require less computational resources from kaggle.\n",
    "* 2- The posts will probably be with a better quality and will be better tagged since they have lots of upvotes. \n"
   ]
  },
  {
   "cell_type": "code",
   "execution_count": 19,
   "metadata": {
    "_uuid": "ecebe90606c70e84e4e87e1661e49a11c37e529f",
    "colab": {},
    "colab_type": "code",
    "id": "AlI6G86W1Zl3",
    "scrolled": false
   },
   "outputs": [],
   "source": [
    "new_df = df[df['Score']>5]"
   ]
  },
  {
   "cell_type": "markdown",
   "metadata": {
    "_uuid": "e462e56ec2d84a0f3810d53bee3715cb570907f1",
    "colab_type": "text",
    "id": "A5Qrwpw11Zl-"
   },
   "source": [
    "**1.2 Cleaning Data**"
   ]
  },
  {
   "cell_type": "code",
   "execution_count": 20,
   "metadata": {
    "_uuid": "2f966f3733dfc5668fd20af7850302c8c2bbdbf7",
    "colab": {},
    "colab_type": "code",
    "id": "ochmDYtw1ZmB",
    "outputId": "0164f4a5-54b1-4b77-8367-905077f73ab8",
    "scrolled": false
   },
   "outputs": [
    {
     "data": {
      "text/plain": [
       "Text(0.5, 1.0, 'Ratio of missing values per columns')"
      ]
     },
     "execution_count": 20,
     "metadata": {},
     "output_type": "execute_result"
    },
    {
     "data": {
      "image/png": "[encoded data removed]",
      "text/plain": [
       "<Figure size 360x360 with 1 Axes>"
      ]
     },
     "metadata": {
      "needs_background": "light"
     },
     "output_type": "display_data"
    }
   ],
   "source": [
    "plt.figure(figsize=(5, 5))\n",
    "new_df.isnull().mean(axis=0).plot.barh()\n",
    "plt.title(\"Ratio of missing values per columns\")"
   ]
  },
  {
   "cell_type": "code",
   "execution_count": 21,
   "metadata": {
    "_uuid": "1550d62d082219a8c8564f8a95afb121d9096c67",
    "colab": {},
    "colab_type": "code",
    "id": "Ur3ziG_U1ZmE",
    "outputId": "5b61968f-a706-4663-d4c5-0006826a66a8",
    "scrolled": true
   },
   "outputs": [
    {
     "name": "stdout",
     "output_type": "stream",
     "text": [
      "Dupplicate entries: 0\n"
     ]
    }
   ],
   "source": [
    "print('Dupplicate entries: {}'.format(new_df.duplicated().sum()))\n",
    "new_df.drop_duplicates(inplace = True)"
   ]
  },
  {
   "cell_type": "markdown",
   "metadata": {
    "_uuid": "097a6864ce893217365a3dca22bb68b442746740",
    "colab_type": "text",
    "id": "fsXt8zN_1ZmG"
   },
   "source": [
    "This is a very good dataset since there are no missing valeus or dupplicate values. "
   ]
  },
  {
   "cell_type": "code",
   "execution_count": 22,
   "metadata": {
    "_uuid": "6ed21b85891cb57be8273aa41443e6c8198c0d0c",
    "colab": {},
    "colab_type": "code",
    "id": "ziggU6hW1ZmH",
    "scrolled": false
   },
   "outputs": [],
   "source": [
    "new_df.drop(columns=['Id', 'Score'], inplace=True)"
   ]
  },
  {
   "cell_type": "markdown",
   "metadata": {
    "_uuid": "4c6033e87a6ca08eeca49f64b8ca1bf6a9a2d11b",
    "colab_type": "text",
    "id": "QWSKjy4x1ZmJ"
   },
   "source": [
    "Now we only need 3 columns: Body, Title and Tags. "
   ]
  },
  {
   "cell_type": "markdown",
   "metadata": {
    "_uuid": "d3a6dc67414c2faf61fc32adf821d5d6c5a00e4e",
    "colab_type": "text",
    "id": "spvQ89M41ZmK"
   },
   "source": [
    "**1.2.1 Tags**"
   ]
  },
  {
   "cell_type": "markdown",
   "metadata": {
    "_uuid": "7d52b54ca515eb7ef5a9545b9f722090abc4c683",
    "colab_type": "text",
    "id": "uUW6-E-G1ZmL"
   },
   "source": [
    "Let's do some cleaning on the tags' column. Furthermore, I decided to keep the 100 most popular tags because I'll be easier to predict the right tag from 100 words than from 14,000 and because we want to keep macro tags and not be too specific since it's only a recommendation for a post, the user can add more specific tags himself. "
   ]
  },
  {
   "cell_type": "code",
   "execution_count": 23,
   "metadata": {
    "_uuid": "f52f8b1079382f88516dd1df91aeaebe6d4f1dc4",
    "colab": {},
    "colab_type": "code",
    "id": "LrWt2L-V1ZmM",
    "outputId": "11d047ff-e081-4d0d-8387-ec09cd48c8a5",
    "scrolled": false
   },
   "outputs": [],
   "source": [
    "# new_df.head(5)"
   ]
  },
  {
   "cell_type": "code",
   "execution_count": 24,
   "metadata": {
    "_kg_hide-output": true,
    "_uuid": "d112c6cca7ac7b8fecfafdecfe3c75820a8b6f8c",
    "colab": {},
    "colab_type": "code",
    "id": "kITqjN8r1ZmQ",
    "scrolled": false
   },
   "outputs": [],
   "source": [
    "new_df['Tags'] = new_df['Tags'].apply(lambda x: x.split())"
   ]
  },
  {
   "cell_type": "code",
   "execution_count": 25,
   "metadata": {
    "_uuid": "84505cde455a6d528b08e72688caa6c092893388",
    "colab": {},
    "colab_type": "code",
    "id": "LRa791Wo1ZmS",
    "scrolled": false
   },
   "outputs": [],
   "source": [
    "all_tags = [item for sublist in new_df['Tags'].values for item in sublist]"
   ]
  },
  {
   "cell_type": "code",
   "execution_count": 26,
   "metadata": {
    "_uuid": "79be7667451d41ac7cd9ef52b7edae19a8c9e846",
    "colab": {},
    "colab_type": "code",
    "id": "hgBETWVG1ZmU",
    "outputId": "f145fe04-1f50-4575-8c0f-d8847980f149",
    "scrolled": false
   },
   "outputs": [
    {
     "data": {
      "text/plain": [
       "224129"
      ]
     },
     "execution_count": 26,
     "metadata": {},
     "output_type": "execute_result"
    }
   ],
   "source": [
    "len(all_tags)"
   ]
  },
  {
   "cell_type": "code",
   "execution_count": 27,
   "metadata": {
    "_uuid": "0a7e3c76664f2bbcbab52d1ecbf445e8451d877d",
    "colab": {},
    "colab_type": "code",
    "id": "WnLjcRjG1ZmW",
    "outputId": "0e3ec4af-5d89-4ced-9188-ca2c90fc6679",
    "scrolled": false
   },
   "outputs": [
    {
     "data": {
      "text/plain": [
       "14883"
      ]
     },
     "execution_count": 27,
     "metadata": {},
     "output_type": "execute_result"
    }
   ],
   "source": [
    "my_set = set(all_tags)\n",
    "unique_tags = list(my_set)\n",
    "len(unique_tags)"
   ]
  },
  {
   "cell_type": "code",
   "execution_count": 28,
   "metadata": {
    "_uuid": "56cecaeb6a313c81202a08fbcca65e33da95b3be",
    "colab": {},
    "colab_type": "code",
    "id": "aGl_WhFj1Zmb",
    "scrolled": false
   },
   "outputs": [],
   "source": [
    "flat_list = [item for sublist in new_df['Tags'].values for item in sublist]\n",
    "\n",
    "keywords = nltk.FreqDist(flat_list)\n",
    "\n",
    "keywords = nltk.FreqDist(keywords)\n",
    "\n",
    "frequencies_words = keywords.most_common(100)\n",
    "tags_features = [word[0] for word in frequencies_words]"
   ]
  },
  {
   "cell_type": "code",
   "execution_count": 29,
   "metadata": {
    "_uuid": "a97a5e5d2e1031394382558d4dc3b54530400005",
    "colab": {},
    "colab_type": "code",
    "id": "GDwplCW01Zmh",
    "outputId": "e355cc36-d5a8-42bc-e36b-204b7838642c",
    "scrolled": false
   },
   "outputs": [],
   "source": [
    "# tags_features"
   ]
  },
  {
   "cell_type": "code",
   "execution_count": 30,
   "metadata": {
    "_uuid": "e4a1cb0882531f0de6aef354e468cd0711bbb432",
    "colab": {},
    "colab_type": "code",
    "id": "93h9G1lV1Zmj",
    "outputId": "8c93f578-edc4-4c91-da6e-13bfac08638e",
    "scrolled": false
   },
   "outputs": [],
   "source": [
    "# fig, ax = plt.subplots(figsize=(15, 10))\n",
    "# keywords.plot(100, cumulative=False)"
   ]
  },
  {
   "cell_type": "code",
   "execution_count": 31,
   "metadata": {
    "_uuid": "3dabce5e92dc9314e7042384add46fc2c31f3112",
    "colab": {},
    "colab_type": "code",
    "id": "i8ZaYcpK1Zmm",
    "scrolled": false
   },
   "outputs": [],
   "source": [
    "def most_common(tags):\n",
    "    tags_filtered = []\n",
    "    for i in range(0, len(tags)):\n",
    "        if tags[i] in tags_features:\n",
    "            tags_filtered.append(tags[i])\n",
    "    return tags_filtered"
   ]
  },
  {
   "cell_type": "code",
   "execution_count": 32,
   "metadata": {
    "_uuid": "e1b1f8eefaf9b94b5bffdbd295b5770fae7b2984",
    "colab": {},
    "colab_type": "code",
    "id": "vi5PdvjW1Zmo",
    "scrolled": false
   },
   "outputs": [],
   "source": [
    "new_df['Tags'] = new_df['Tags'].apply(lambda x: most_common(x))\n",
    "new_df['Tags'] = new_df['Tags'].apply(lambda x: x if len(x)>0 else None)"
   ]
  },
  {
   "cell_type": "code",
   "execution_count": 33,
   "metadata": {
    "_uuid": "be6aae9b05c9d212cb26adb487df1476e6040c48",
    "colab": {},
    "colab_type": "code",
    "id": "Kd4vNDZK1Zmq",
    "outputId": "e4decb31-9c41-4e20-ec96-60d7778e4dfb",
    "scrolled": false
   },
   "outputs": [
    {
     "data": {
      "text/plain": [
       "(72950, 3)"
      ]
     },
     "execution_count": 33,
     "metadata": {},
     "output_type": "execute_result"
    }
   ],
   "source": [
    "new_df.shape"
   ]
  },
  {
   "cell_type": "code",
   "execution_count": 34,
   "metadata": {
    "_uuid": "1f9ffd9e9e0dfe7c2e4c595e31559e2f5ec513f4",
    "colab": {},
    "colab_type": "code",
    "id": "VlilMfyO1Zmr",
    "scrolled": false
   },
   "outputs": [],
   "source": [
    "new_df.dropna(subset=['Tags'], inplace=True)"
   ]
  },
  {
   "cell_type": "code",
   "execution_count": 35,
   "metadata": {
    "_uuid": "608e36814e0b2befb41bb9dc6eca073edf48fbe4",
    "colab": {},
    "colab_type": "code",
    "id": "vHdBysN_1Zmx",
    "outputId": "6acb7581-3382-4513-9bf3-bf0da0ba8083",
    "scrolled": false
   },
   "outputs": [
    {
     "data": {
      "text/plain": [
       "(63167, 3)"
      ]
     },
     "execution_count": 35,
     "metadata": {},
     "output_type": "execute_result"
    }
   ],
   "source": [
    "new_df.shape"
   ]
  },
  {
   "cell_type": "markdown",
   "metadata": {
    "_uuid": "8864db3bccbe04abb7656fa580fbbb87b0528c43",
    "colab_type": "text",
    "id": "550ivTqs1Zmz"
   },
   "source": [
    "We are here loosing 10000 rows but the it's for the greater good. "
   ]
  },
  {
   "cell_type": "markdown",
   "metadata": {
    "_uuid": "0240dc179aeabfdd8bbd6638d0e1b3ae5cb56877",
    "colab_type": "text",
    "id": "2JIKkXbd1Zmz"
   },
   "source": [
    "**1.2.2 Body**"
   ]
  },
  {
   "cell_type": "markdown",
   "metadata": {
    "_uuid": "598869f86fd4f9a6fe1e41f9acce43d392cb50aa",
    "colab_type": "text",
    "id": "ZORSuqnx1Zm0"
   },
   "source": [
    "In the next two columns: Body and Title, I'll use lots of text processing:\n",
    "* Removing html format \n",
    "* Lowering text\n",
    "* Transforming abbreviations \n",
    "* Removing punctuation (but keeping words like c# since it's the most popular tag)\n",
    "* Lemmatizing words\n",
    "* Removing stop words"
   ]
  },
  {
   "cell_type": "code",
   "execution_count": 36,
   "metadata": {
    "_uuid": "e1b8ccc185a38ec08ee74deecd749b187053e444",
    "colab": {},
    "colab_type": "code",
    "id": "xhkizIZ01Zm1",
    "scrolled": false
   },
   "outputs": [],
   "source": [
    "# Converting html to text in the body\n",
    "\n",
    "new_df['Body'] = new_df['Body'].apply(lambda x: BeautifulSoup(x).get_text()) "
   ]
  },
  {
   "cell_type": "code",
   "execution_count": 37,
   "metadata": {
    "_uuid": "b25cd0dd5fd7bc22eaa629bdabfa9ce882661f85",
    "colab": {},
    "colab_type": "code",
    "id": "H2V371iw1Zm3",
    "scrolled": false
   },
   "outputs": [],
   "source": [
    "def clean_text(text):\n",
    "    text = text.lower()\n",
    "    text = re.sub(r\"what's\", \"what is \", text)\n",
    "    text = re.sub(r\"\\'s\", \" \", text)\n",
    "    text = re.sub(r\"\\'ve\", \" have \", text)\n",
    "    text = re.sub(r\"can't\", \"can not \", text)\n",
    "    text = re.sub(r\"n't\", \" not \", text)\n",
    "    text = re.sub(r\"i'm\", \"i am \", text)\n",
    "    text = re.sub(r\"\\'re\", \" are \", text)\n",
    "    text = re.sub(r\"\\'d\", \" would \", text)\n",
    "    text = re.sub(r\"\\'ll\", \" will \", text)\n",
    "    text = re.sub(r\"\\'scuse\", \" excuse \", text)\n",
    "    text = re.sub(r\"\\'\\n\", \" \", text)\n",
    "    text = re.sub(r\"\\'\\xa0\", \" \", text)\n",
    "    text = re.sub('\\s+', ' ', text)\n",
    "    text = text.strip(' ')\n",
    "    return text"
   ]
  },
  {
   "cell_type": "code",
   "execution_count": 38,
   "metadata": {
    "_uuid": "d39a9d9c3221288d7d72076070219cb861ad399e",
    "colab": {},
    "colab_type": "code",
    "id": "7rQbyizC1Zm5",
    "scrolled": false
   },
   "outputs": [],
   "source": [
    "new_df['Body'] = new_df['Body'].apply(lambda x: clean_text(x)) "
   ]
  },
  {
   "cell_type": "code",
   "execution_count": 39,
   "metadata": {
    "_uuid": "e2b3cfc4fbb0482324dc1937d8411feb5334f7d2",
    "colab": {},
    "colab_type": "code",
    "id": "25Kw2qcd1Zm7",
    "scrolled": false
   },
   "outputs": [],
   "source": [
    "token=ToktokTokenizer()"
   ]
  },
  {
   "cell_type": "code",
   "execution_count": 40,
   "metadata": {
    "_uuid": "e96435d0bb6d758f5868ae7cf1561e28293b21e0",
    "colab": {},
    "colab_type": "code",
    "id": "7Sd3TC5J1Zm9",
    "outputId": "3a52c53a-a4aa-4d23-bdd0-4e7f6bd2571e",
    "scrolled": false
   },
   "outputs": [
    {
     "data": {
      "text/plain": [
       "'!\"#$%&\\'()*+,-./:;<=>?@[\\\\]^_`{|}~'"
      ]
     },
     "execution_count": 40,
     "metadata": {},
     "output_type": "execute_result"
    }
   ],
   "source": [
    "punctuation"
   ]
  },
  {
   "cell_type": "code",
   "execution_count": 41,
   "metadata": {
    "_uuid": "52c525eabf07b51a54af954f4adc7404febdf27e",
    "colab": {},
    "colab_type": "code",
    "id": "gntmAcyJ1ZnD",
    "scrolled": false
   },
   "outputs": [],
   "source": [
    "punct = '!\"#$%&\\'()*+,./:;<=>?@[\\\\]^_`{|}~'"
   ]
  },
  {
   "cell_type": "code",
   "execution_count": 42,
   "metadata": {
    "_uuid": "7681b82ec0d4e8fb87fc7c2a2d7e90f00184bdb7",
    "colab": {},
    "colab_type": "code",
    "id": "HmVLyaAB1ZnI",
    "scrolled": false
   },
   "outputs": [],
   "source": [
    "def strip_list_noempty(mylist):\n",
    "    newlist = (item.strip() if hasattr(item, 'strip') else item for item in mylist)\n",
    "    return [item for item in newlist if item != '']"
   ]
  },
  {
   "cell_type": "code",
   "execution_count": 43,
   "metadata": {
    "_uuid": "e8d4bb83559025f06a5bae00aa511f5985bb56bd",
    "colab": {},
    "colab_type": "code",
    "id": "OzkDRIdl1ZnL",
    "scrolled": false
   },
   "outputs": [],
   "source": [
    "def clean_punct(text): \n",
    "    words=token.tokenize(text)\n",
    "    punctuation_filtered = []\n",
    "    regex = re.compile('[%s]' % re.escape(punct))\n",
    "    remove_punctuation = str.maketrans(' ', ' ', punct)\n",
    "    for w in words:\n",
    "        if w in tags_features:\n",
    "            punctuation_filtered.append(w)\n",
    "        else:\n",
    "            punctuation_filtered.append(regex.sub('', w))\n",
    "  \n",
    "    filtered_list = strip_list_noempty(punctuation_filtered)\n",
    "        \n",
    "    return ' '.join(map(str, filtered_list))\n",
    "\n",
    "\n"
   ]
  },
  {
   "cell_type": "code",
   "execution_count": 44,
   "metadata": {
    "_uuid": "997064cd595544af307751a19ac0680a392a79a4",
    "colab": {},
    "colab_type": "code",
    "id": "Kek_30Nm1ZnN",
    "scrolled": false
   },
   "outputs": [],
   "source": [
    "new_df['Body'] = new_df['Body'].apply(lambda x: clean_punct(x)) "
   ]
  },
  {
   "cell_type": "code",
   "execution_count": 45,
   "metadata": {
    "_uuid": "c32de0e6fb753123485706a2655a68260de9741a",
    "colab": {},
    "colab_type": "code",
    "id": "WadwSJ-D1ZnT",
    "outputId": "887fd10e-a94e-4b60-942d-06e3dc6f41c2",
    "scrolled": false
   },
   "outputs": [
    {
     "data": {
      "text/plain": [
       "'has anyone got experience creating sql-based asp.net site-map providers i have got the default xml file websitemap working properly with my menu and sitemappath controls but i will need a way for the users of my site to create and modify pages dynamically i need to tie page viewing permissions into the standard asp.net membership system as well'"
      ]
     },
     "execution_count": 45,
     "metadata": {},
     "output_type": "execute_result"
    }
   ],
   "source": [
    "new_df['Body'][2]"
   ]
  },
  {
   "cell_type": "code",
   "execution_count": 46,
   "metadata": {
    "scrolled": false
   },
   "outputs": [
    {
     "name": "stderr",
     "output_type": "stream",
     "text": [
      "[nltk_data] Downloading package stopwords to\n",
      "[nltk_data]     C:\\Users\\Guoya\\AppData\\Roaming\\nltk_data...\n",
      "[nltk_data]   Package stopwords is already up-to-date!\n",
      "[nltk_data] Downloading package wordnet to\n",
      "[nltk_data]     C:\\Users\\Guoya\\AppData\\Roaming\\nltk_data...\n",
      "[nltk_data]   Package wordnet is already up-to-date!\n"
     ]
    },
    {
     "data": {
      "text/plain": [
       "True"
      ]
     },
     "execution_count": 46,
     "metadata": {},
     "output_type": "execute_result"
    }
   ],
   "source": [
    "import nltk\n",
    "nltk.download('stopwords')\n",
    "nltk.download('wordnet')"
   ]
  },
  {
   "cell_type": "code",
   "execution_count": 47,
   "metadata": {
    "_uuid": "b18fd3ceb79801c3737758607e39ff6881dc1f0b",
    "colab": {},
    "colab_type": "code",
    "id": "arcScD6k1ZnV",
    "scrolled": false
   },
   "outputs": [],
   "source": [
    "lemma=WordNetLemmatizer()\n",
    "stop_words = set(stopwords.words(\"english\"))"
   ]
  },
  {
   "cell_type": "code",
   "execution_count": 48,
   "metadata": {
    "_uuid": "7adfb53ebffef9af3068171d4f4e8e7b4b959527",
    "colab": {},
    "colab_type": "code",
    "id": "7zzR3EMf1ZnY",
    "scrolled": false
   },
   "outputs": [],
   "source": [
    "def lemitizeWords(text):\n",
    "    words=token.tokenize(text)\n",
    "    listLemma=[]\n",
    "    for w in words:\n",
    "        x=lemma.lemmatize(w, pos=\"v\")\n",
    "        listLemma.append(x)\n",
    "    return ' '.join(map(str, listLemma))\n",
    "\n",
    "def stopWordsRemove(text):\n",
    "    \n",
    "    stop_words = set(stopwords.words(\"english\"))\n",
    "    \n",
    "    words=token.tokenize(text)\n",
    "    \n",
    "    filtered = [w for w in words if not w in stop_words]\n",
    "    \n",
    "    return ' '.join(map(str, filtered))"
   ]
  },
  {
   "cell_type": "code",
   "execution_count": 49,
   "metadata": {
    "_uuid": "32e75ae4b01dcafb295fceb59a1f973b1d5d4b86",
    "colab": {},
    "colab_type": "code",
    "id": "RJq0S8Tw1Znb",
    "scrolled": false
   },
   "outputs": [],
   "source": [
    "new_df['Body'] = new_df['Body'].apply(lambda x: lemitizeWords(x)) \n",
    "new_df['Body'] = new_df['Body'].apply(lambda x: stopWordsRemove(x)) "
   ]
  },
  {
   "cell_type": "markdown",
   "metadata": {
    "_uuid": "8ae7426282e33a923238b13dddf083700bfaa360",
    "colab_type": "text",
    "id": "wSG3mNdR1Znj"
   },
   "source": [
    "**1.2.3 Title**"
   ]
  },
  {
   "cell_type": "code",
   "execution_count": 50,
   "metadata": {
    "_uuid": "5151ce53b67e2a7a94565e28171d4dded9f3c390",
    "colab": {},
    "colab_type": "code",
    "id": "GVH77k7W1Znj",
    "scrolled": false
   },
   "outputs": [],
   "source": [
    "new_df['Title'] = new_df['Title'].apply(lambda x: str(x))\n",
    "new_df['Title'] = new_df['Title'].apply(lambda x: clean_text(x)) \n",
    "new_df['Title'] = new_df['Title'].apply(lambda x: clean_punct(x)) \n",
    "new_df['Title'] = new_df['Title'].apply(lambda x: lemitizeWords(x)) \n",
    "new_df['Title'] = new_df['Title'].apply(lambda x: stopWordsRemove(x)) "
   ]
  },
  {
   "cell_type": "markdown",
   "metadata": {
    "_uuid": "fe90f28a386d20375d1ec8c40dec91684802142e",
    "colab_type": "text",
    "id": "3b4zmjvx1Znr"
   },
   "source": [
    "**1.3 EDA**"
   ]
  },
  {
   "cell_type": "markdown",
   "metadata": {
    "_uuid": "7103674c5e35809eb0b89c0fa86bdb1ec2f76af9",
    "colab_type": "text",
    "id": "Fy7aJpnT1Znr"
   },
   "source": [
    "Here I'll just use some LDA to see if shows any paterns in words and the main topics.  "
   ]
  },
  {
   "cell_type": "code",
   "execution_count": 51,
   "metadata": {
    "_uuid": "14aee1be48cf9da95ba0b6f4425ba99a13713d40",
    "colab": {},
    "colab_type": "code",
    "id": "nNhNwbZQ1Zns",
    "scrolled": false
   },
   "outputs": [],
   "source": [
    "no_topics = 20"
   ]
  },
  {
   "cell_type": "code",
   "execution_count": 52,
   "metadata": {
    "_uuid": "bdba110b6091d86d5af652c2c54caf688690e82f",
    "colab": {},
    "colab_type": "code",
    "id": "rkOBE81K1Znt",
    "scrolled": false
   },
   "outputs": [],
   "source": [
    "text = new_df['Body']"
   ]
  },
  {
   "cell_type": "code",
   "execution_count": 53,
   "metadata": {
    "_uuid": "42b4c014172c9e2b55705d5e80f7e0a0d5d0424f",
    "colab": {},
    "colab_type": "code",
    "id": "JSIQ59tA1Znx",
    "scrolled": false
   },
   "outputs": [],
   "source": [
    "vectorizer_train = TfidfVectorizer(analyzer = 'word',\n",
    "                                       min_df=0.0,\n",
    "                                       max_df = 1.0,\n",
    "                                       strip_accents = None,\n",
    "                                       encoding = 'utf-8', \n",
    "                                       preprocessor=None,\n",
    "                                       token_pattern=r\"(?u)\\S\\S+\", # Need to repeat token pattern\n",
    "                                       max_features=1000)"
   ]
  },
  {
   "cell_type": "code",
   "execution_count": 54,
   "metadata": {
    "_uuid": "70c71f3bd686f989e504d8574b645b3bc3026e84",
    "colab": {},
    "colab_type": "code",
    "id": "OrXCWjQF1Znz",
    "scrolled": false
   },
   "outputs": [],
   "source": [
    "TF_IDF_matrix = vectorizer_train.fit_transform(text)"
   ]
  },
  {
   "cell_type": "code",
   "execution_count": 55,
   "metadata": {
    "_uuid": "6f8c7f50bea68a8b3878bdf91da12d87434863de",
    "colab": {},
    "colab_type": "code",
    "id": "uAChqQMe1Zn1",
    "scrolled": false
   },
   "outputs": [],
   "source": [
    "lda = LatentDirichletAllocation(n_components=no_topics, max_iter=5, learning_method='online', learning_offset=50,random_state=11).fit(TF_IDF_matrix)"
   ]
  },
  {
   "cell_type": "code",
   "execution_count": 56,
   "metadata": {
    "_uuid": "07526c92eb492e38f47d9d1bddeedbfdb36a25a9",
    "colab": {},
    "colab_type": "code",
    "id": "QuohqT9m1Zn3",
    "outputId": "9fb85598-13e8-4f02-82e4-dbd44e3da8dc",
    "scrolled": false
   },
   "outputs": [],
   "source": [
    "def display_topics(model, feature_names, no_top_words):\n",
    "    for topic_idx, topic in enumerate(model.components_):\n",
    "        print(\"--------------------------------------------\")\n",
    "        print(\"Topic %d:\" % (topic_idx))\n",
    "        print(\" \".join([feature_names[i]\n",
    "                        for i in topic.argsort()[:-no_top_words - 1:-1]]))\n",
    "        print(\"--------------------------------------------\")\n",
    "        \n",
    "\n",
    "no_top_words = 10\n",
    "# display_topics(lda, vectorizer_train.get_feature_names(), no_top_words)"
   ]
  },
  {
   "cell_type": "markdown",
   "metadata": {
    "_uuid": "709f989864c43312c2a3606583be434572b75e40",
    "colab_type": "text",
    "id": "73ltfygW1Zn5"
   },
   "source": [
    "It's a bit disappointing but I'm certain that it can be done better. "
   ]
  },
  {
   "cell_type": "markdown",
   "metadata": {
    "_uuid": "119c8c35293cccd9627b58544acaaf06b4cb32d2",
    "colab_type": "text",
    "id": "KNSXjs8f1Zn5"
   },
   "source": [
    "**PART 2: Classical classifiers**"
   ]
  },
  {
   "cell_type": "markdown",
   "metadata": {
    "_uuid": "4d7d89ca6323645d6bf722bd572852edc2b9571c",
    "colab_type": "text",
    "id": "GCGhFhwM1Zn8"
   },
   "source": [
    "**2.1 Data preparation**"
   ]
  },
  {
   "cell_type": "markdown",
   "metadata": {
    "_uuid": "ccbc4065cdf68e9ef58fcad2889fc7454372425a",
    "colab_type": "text",
    "id": "Jk0kB2tH1Zn9"
   },
   "source": [
    "Now our data is almost ready to be put into a classifier. I just need to:\n",
    "* Binarize the tags\n",
    "* Use a TFIDF for body and Title\n",
    "The parameters in the TFIDF are very important for the performance of our tags since we don't want him to delete words like c# or.net. To do that we need to use the following pattern : token_pattern=r\"(?u)\\S\\S+\""
   ]
  },
  {
   "cell_type": "code",
   "execution_count": 57,
   "metadata": {
    "_uuid": "8640de349b18ea297f15c3d3eed3836d3ed19e14",
    "colab": {},
    "colab_type": "code",
    "id": "USboTJiF1Zn9",
    "scrolled": false
   },
   "outputs": [],
   "source": [
    "X1 = new_df['Body']\n",
    "X2 = new_df['Title']\n",
    "y = new_df['Tags']\n",
    "\n",
    "\n",
    "# save original data as raw\n",
    "df_raw = new_df\n",
    "X1_raw = X1\n",
    "X2_raw = X2\n",
    "y_raw = y"
   ]
  },
  {
   "cell_type": "code",
   "execution_count": 58,
   "metadata": {
    "scrolled": false
   },
   "outputs": [
    {
     "name": "stdout",
     "output_type": "stream",
     "text": [
      "(63167,)\n",
      "really good tutorials explain branch merge apache subversion better specific tortoisesvn client\n"
     ]
    }
   ],
   "source": [
    "print(X1.shape)\n",
    "print(X1[1])"
   ]
  },
  {
   "cell_type": "code",
   "execution_count": 59,
   "metadata": {
    "_uuid": "a4669f647cb5a147710294f1116ac4e2f29f50d7",
    "colab": {},
    "colab_type": "code",
    "id": "ZrQ0jNSx1ZoA",
    "scrolled": false
   },
   "outputs": [
    {
     "name": "stdout",
     "output_type": "stream",
     "text": [
      "[[0 0 0 ... 0 0 0]\n",
      " [0 0 0 ... 0 0 0]\n",
      " [0 0 1 ... 0 0 0]\n",
      " ...\n",
      " [0 0 0 ... 0 0 0]\n",
      " [0 0 0 ... 0 0 0]\n",
      " [0 0 0 ... 0 0 0]]\n"
     ]
    }
   ],
   "source": [
    "multilabel_binarizer = MultiLabelBinarizer()\n",
    "y_bin = multilabel_binarizer.fit_transform(y)\n",
    "print(y_bin)"
   ]
  },
  {
   "cell_type": "code",
   "execution_count": 60,
   "metadata": {
    "_uuid": "e8fd01469710da8a69fc45de00d37901d570814a",
    "colab": {},
    "colab_type": "code",
    "id": "9P_6-MYI1ZoB",
    "scrolled": false
   },
   "outputs": [],
   "source": [
    "vectorizer_X1 = TfidfVectorizer(analyzer = 'word',\n",
    "                                       min_df=0.0,\n",
    "                                       max_df = 1.0,\n",
    "                                       strip_accents = None,\n",
    "                                       encoding = 'utf-8', \n",
    "                                       preprocessor=None,\n",
    "                                       token_pattern=r\"(?u)\\S\\S+\",\n",
    "                                       max_features=1000)\n",
    "\n",
    "vectorizer_X2 = TfidfVectorizer(analyzer = 'word',\n",
    "                                       min_df=0.0,\n",
    "                                       max_df = 1.0,\n",
    "                                       strip_accents = None,\n",
    "                                       encoding = 'utf-8', \n",
    "                                       preprocessor=None,\n",
    "                                       token_pattern=r\"(?u)\\S\\S+\",\n",
    "                                       max_features=1000)"
   ]
  },
  {
   "cell_type": "code",
   "execution_count": 61,
   "metadata": {
    "_uuid": "2fa0c121a6510f161df99e7fd882534214a8e380",
    "colab": {},
    "colab_type": "code",
    "id": "lRgz6v4M1ZoD",
    "scrolled": false
   },
   "outputs": [
    {
     "name": "stdout",
     "output_type": "stream",
     "text": [
      "X1.SHAPE (63167,)\n",
      "X2.SHAPE (63167,)\n",
      "X1_tfidf.SHAPE (63167, 1000)\n",
      "X2_tfidf.SHAPE (63167, 1000)\n"
     ]
    }
   ],
   "source": [
    "print('X1.SHAPE', X1.shape)\n",
    "print('X2.SHAPE', X2.shape)\n",
    "\n",
    "X1_tfidf = vectorizer_X1.fit_transform(X1)\n",
    "X2_tfidf = vectorizer_X2.fit_transform(X2)\n",
    "\n",
    "print('X1_tfidf.SHAPE', X1_tfidf.shape)\n",
    "print('X2_tfidf.SHAPE', X2_tfidf.shape)"
   ]
  },
  {
   "cell_type": "code",
   "execution_count": 62,
   "metadata": {
    "_uuid": "d241fca148de1384e5323d2b194feb52727d14e1",
    "colab": {},
    "colab_type": "code",
    "id": "TmkDgJWR1ZoE",
    "scrolled": false
   },
   "outputs": [],
   "source": [
    "X_tfidf = hstack([X1_tfidf,X2_tfidf])"
   ]
  },
  {
   "cell_type": "code",
   "execution_count": 63,
   "metadata": {
    "_uuid": "1219d6cdc1f1d27c90910659f1be21a917f9288e",
    "colab": {},
    "colab_type": "code",
    "id": "5v2AwiZs1ZoG",
    "scrolled": false
   },
   "outputs": [],
   "source": [
    "X_train, X_test, y_train, y_test = train_test_split(X_tfidf, y_bin, test_size = 0.2, random_state = 0) # Do 80/20 split"
   ]
  },
  {
   "cell_type": "markdown",
   "metadata": {
    "_uuid": "d9ba6707c5aef3d55a7a5a8d33182c87d83af703",
    "colab_type": "text",
    "id": "G3cYoMun1ZoI"
   },
   "source": [
    "Now it's finally ready. "
   ]
  },
  {
   "cell_type": "code",
   "execution_count": 64,
   "metadata": {
    "scrolled": false
   },
   "outputs": [
    {
     "name": "stdout",
     "output_type": "stream",
     "text": [
      "X_train.shape (50533, 2000)\n",
      "**************************\n",
      "y_train.shape (50533, 100)\n"
     ]
    }
   ],
   "source": [
    "# test========================================================================================================================================\n",
    "import scipy\n",
    "\n",
    "# print(X_train[0])\n",
    "print('X_train.shape', X_train.shape)\n",
    "print('**************************')\n",
    "print('y_train.shape', y_train.shape)\n",
    "# print(y_train[0])\n",
    "\n",
    "\n",
    "# from sparse to full\n",
    "X_train_sc = scipy.sparse.csr_matrix(X_train)\n",
    "X_train_np = X_train_sc.A\n",
    "X_train_np = X_train_np.astype(float)\n",
    "\n",
    "y_train_sc = scipy.sparse.csr_matrix(y_train)\n",
    "y_train_np = y_train_sc.A\n",
    "y_train_np = y_train_np.astype(float)\n",
    "\n",
    "X_test_sc = scipy.sparse.csr_matrix(X_test)\n",
    "X_test_np = X_test_sc.A\n",
    "X_test_np = X_test_np.astype(float)\n",
    "\n",
    "y_test_sc = scipy.sparse.csr_matrix(y_test)\n",
    "y_test_np = y_test_sc.A\n",
    "y_test_np = y_test_np.astype(float)"
   ]
  },
  {
   "cell_type": "code",
   "execution_count": 121,
   "metadata": {},
   "outputs": [
    {
     "name": "stdout",
     "output_type": "stream",
     "text": [
      "63167\n",
      "63167\n",
      "63167\n",
      "<class 'pandas.core.series.Series'>\n",
      "<class 'pandas.core.series.Series'>\n",
      "<class 'pandas.core.series.Series'>\n",
      "================================================\n",
      "1                                [svn]\n",
      "2                       [sql, asp.net]\n",
      "3                          [algorithm]\n",
      "4                           [c#, .net]\n",
      "5                    [c++, oop, class]\n",
      "6                               [.net]\n",
      "7                         [sql-server]\n",
      "8                  [c#, visual-studio]\n",
      "9             [windows, visual-studio]\n",
      "10                      [c#, database]\n",
      "11                       [c#, asp.net]\n",
      "12                                [c#]\n",
      "14                               [svn]\n",
      "16                              [.net]\n",
      "17                        [sql-server]\n",
      "18                        [sql-server]\n",
      "19                        [sql-server]\n",
      "20            [c#, .net, unit-testing]\n",
      "21                               [svn]\n",
      "22         [sql, database, postgresql]\n",
      "23                   [sql, sql-server]\n",
      "24                                [c#]\n",
      "26                              [html]\n",
      "27                                 [c]\n",
      "28                           [asp.net]\n",
      "30                      [optimization]\n",
      "31                          [winforms]\n",
      "32                                [c#]\n",
      "33                               [sql]\n",
      "34                        [php, mysql]\n",
      "                      ...             \n",
      "1253577              [html, css, css3]\n",
      "1253820                         [java]\n",
      "1254396                            [c]\n",
      "1254507                      [mongodb]\n",
      "1254605          [javascript, node.js]\n",
      "1254742               [javascript, c#]\n",
      "1254759     [ios, swift, optimization]\n",
      "1254885                           [c#]\n",
      "1255445        [c++, templates, c++11]\n",
      "1255643            [c++, linux, c++11]\n",
      "1255755                   [c#, arrays]\n",
      "1255937                          [c++]\n",
      "1256569       [c#, linq, unit-testing]\n",
      "1256873                       [python]\n",
      "1256924                         [java]\n",
      "1256972                      [android]\n",
      "1257324                  [asp.net-mvc]\n",
      "1257356            [php, unit-testing]\n",
      "1257677        [javascript, html, css]\n",
      "1260719                       [python]\n",
      "1261242                         [bash]\n",
      "1261621                   [c++, c++11]\n",
      "1261840                            [r]\n",
      "1262332                          [c++]\n",
      "1262668                          [c++]\n",
      "1262834                    [c++, list]\n",
      "1262915                       [python]\n",
      "1263065                       [python]\n",
      "1263454                          [c++]\n",
      "1264205                      [haskell]\n",
      "Name: Tags, Length: 63167, dtype: object\n",
      "False\n",
      "False\n",
      "False\n"
     ]
    }
   ],
   "source": [
    "# check raw data\n",
    "print(len(X1_raw))  #63167\n",
    "print(len(X2_raw))  #63167\n",
    "print(len(y_raw))  #63167\n",
    "print(type(X1_raw))\n",
    "print(type(X2_raw))\n",
    "print(type(y_raw))\n",
    "# print(X1_raw[110])\n",
    "print('================================================')\n",
    "# print(X1_raw)\n",
    "print(y_raw)\n",
    "\n",
    "# null check\n",
    "print(X1_raw.isnull().values.any())\n",
    "print(X2_raw.isnull().values.any())\n",
    "print(y_raw.isnull().values.any())\n",
    "\n",
    "# for i, ele in enumerate(X1_raw):\n",
    "#     if i>63000:\n",
    "#         print(i)\n",
    "#         print(ele)\n",
    "#         print('***********************************')\n",
    "#     if pd.isnull(ele):\n",
    "#         print(i)"
   ]
  },
  {
   "cell_type": "markdown",
   "metadata": {},
   "source": [
    "### torchtext embedding"
   ]
  },
  {
   "cell_type": "code",
   "execution_count": 125,
   "metadata": {},
   "outputs": [
    {
     "name": "stdout",
     "output_type": "stream",
     "text": [
      "<torchtext.data.field.Field object at 0x00000237D6ACC518>\n",
      "<class 'torchtext.data.field.Field'>\n",
      "100\n"
     ]
    }
   ],
   "source": [
    "import torchtext as tt\n",
    "# import spacy\n",
    "# spacy_en = spacy.load('en')\n",
    "TEXT = tt.data.Field(tokenize='spacy')\n",
    "TEXT.build_vocab(X1_raw, max_size=10000, vectors='glove.6B.100d')\n",
    "\n",
    "print(TEXT)\n",
    "print(type(TEXT))\n",
    "print(TEXT.preprocess(100))"
   ]
  }
 ],
 "metadata": {
  "colab": {
   "name": "predicting-tags-for-stackoverflow.ipynb",
   "provenance": []
  },
  "kernelspec": {
   "display_name": "Python 3",
   "language": "python",
   "name": "python3"
  },
  "language_info": {
   "codemirror_mode": {
    "name": "ipython",
    "version": 3
   },
   "file_extension": ".py",
   "mimetype": "text/x-python",
   "name": "python",
   "nbconvert_exporter": "python",
   "pygments_lexer": "ipython3",
   "version": "3.7.3"
  }
 },
 "nbformat": 4,
 "nbformat_minor": 1
}
