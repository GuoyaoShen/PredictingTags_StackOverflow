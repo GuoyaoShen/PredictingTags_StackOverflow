{
  "nbformat": 4,
  "nbformat_minor": 0,
  "metadata": {
    "colab": {
      "name": "yuhan_f.ipynb",
      "provenance": [],
      "collapsed_sections": [],
      "machine_shape": "hm"
    },
    "kernelspec": {
      "name": "python3",
      "display_name": "Python 3"
    }
  },
  "cells": [
    {
      "cell_type": "markdown",
      "metadata": {
        "_uuid": "9e2bd514fbb5fa41ff5faa1edae0899cc14d3e85",
        "colab_type": "text",
        "id": "s03tr1y31Zkr"
      },
      "source": [
        "![](https://i.imgur.com/sWyuy4Y.jpg)"
      ]
    },
    {
      "cell_type": "markdown",
      "metadata": {
        "_uuid": "929bb7239d67aa71cd065830de8680218023d9ae",
        "colab_type": "text",
        "id": "W_Cx-3an1Zkv"
      },
      "source": [
        "In this notebook, I'll use the dataset \"StackSample: 10% of Stack Overflow Q&A\", I'll only use the questions and the tags. \n",
        "I will implement a tag suggestion system. I'll both try machine learning models and deep learning models like Word2Vec. I'll then compare the performance of both approaches. \n",
        "\n",
        "This notebook will be divided in 2 parts:\n",
        "* PART 1 : Cleaning data and EDA\n",
        "* PART 2 : Classical classifiers implemented (SGC classifier, MultiNomial Naive Bayes Classifier, Random Forest Classfier, ...\n"
      ]
    },
    {
      "cell_type": "markdown",
      "metadata": {
        "_uuid": "a7cf70d54413735fe632aaa5df43f34e353e0ff4",
        "colab_type": "text",
        "id": "n-xo62bB1Zkw"
      },
      "source": [
        "**PART 1: Cleaning Data and Exploratory Data Analysis**"
      ]
    },
    {
      "cell_type": "markdown",
      "metadata": {
        "_uuid": "abe58b6f63ad6fc975f6b62c1a47d3af54a943e5",
        "colab_type": "text",
        "id": "QoubOsyM1Zkx"
      },
      "source": [
        "**1.1 Setting up the dataset for later training**"
      ]
    },
    {
      "cell_type": "markdown",
      "metadata": {
        "_uuid": "6ddb1e9c1032972f4c87204650195ee00fb3bb29",
        "colab_type": "text",
        "id": "n2Ewycd61Zky"
      },
      "source": [
        "Importing useful libraries at first"
      ]
    },
    {
      "cell_type": "code",
      "metadata": {
        "id": "9fdUmdmRziXn",
        "colab_type": "code",
        "colab": {}
      },
      "source": [
        "!pip install -q xgboost"
      ],
      "execution_count": 0,
      "outputs": []
    },
    {
      "cell_type": "code",
      "metadata": {
        "_cell_guid": "b1076dfc-b9ad-4769-8c92-a6c4dae69d19",
        "_kg_hide-input": true,
        "_uuid": "8f2839f25d086af736a60e9eeb907d3b93b6e0e5",
        "colab_type": "code",
        "id": "piqoXlRh1Zk0",
        "outputId": "fe624a03-b33d-41cf-e7c0-726c518f7ea9",
        "colab": {
          "base_uri": "https://localhost:8080/",
          "height": 73
        }
      },
      "source": [
        "import pandas as pd\n",
        "import numpy as np\n",
        "\n",
        "\n",
        "import matplotlib.pyplot as plt\n",
        "import matplotlib.lines as mlines\n",
        "import seaborn as sns\n",
        "\n",
        "import warnings\n",
        "\n",
        "import pickle\n",
        "import time\n",
        "\n",
        "import re\n",
        "from bs4 import BeautifulSoup\n",
        "import nltk\n",
        "from nltk.tokenize import ToktokTokenizer\n",
        "from nltk.stem.wordnet import WordNetLemmatizer\n",
        "from nltk.corpus import stopwords\n",
        "from string import punctuation\n",
        "\n",
        "import sklearn\n",
        "from sklearn.feature_extraction.text import TfidfVectorizer\n",
        "from sklearn.decomposition import LatentDirichletAllocation, TruncatedSVD\n",
        "from sklearn.preprocessing import MultiLabelBinarizer\n",
        "from sklearn.model_selection import train_test_split\n",
        "from sklearn.model_selection import learning_curve\n",
        "from sklearn.model_selection import ShuffleSplit\n",
        "from sklearn.dummy import DummyClassifier\n",
        "from sklearn.naive_bayes import MultinomialNB\n",
        "from sklearn.linear_model import SGDClassifier\n",
        "from sklearn.linear_model import LogisticRegression\n",
        "from sklearn.multiclass import OneVsRestClassifier\n",
        "from sklearn.svm import LinearSVC, SVC\n",
        "from sklearn.linear_model import Perceptron\n",
        "from sklearn.linear_model import PassiveAggressiveClassifier\n",
        "from sklearn.neural_network import MLPClassifier\n",
        "from sklearn.ensemble import RandomForestClassifier\n",
        "from sklearn import model_selection\n",
        "from sklearn.metrics import make_scorer\n",
        "from sklearn.metrics import confusion_matrix\n",
        "from sklearn.metrics import hamming_loss, zero_one_loss\n",
        "from sklearn.cluster import KMeans\n",
        "from sklearn import preprocessing, decomposition, model_selection, metrics, pipeline\n",
        "import xgboost as xgb\n",
        "from pandas import Series,DataFrame\n",
        "import pandas as pd\n",
        "from sklearn.externals import joblib #jbolib模块\n",
        "\n",
        "\n",
        "import logging\n",
        "\n",
        "from scipy.sparse import hstack\n",
        "\n",
        "warnings.filterwarnings(\"ignore\")\n",
        "plt.style.use('bmh')\n",
        "%matplotlib inline"
      ],
      "execution_count": 0,
      "outputs": [
        {
          "output_type": "stream",
          "text": [
            "/usr/local/lib/python3.6/dist-packages/sklearn/externals/joblib/__init__.py:15: DeprecationWarning: sklearn.externals.joblib is deprecated in 0.21 and will be removed in 0.23. Please import this functionality directly from joblib, which can be installed with: pip install joblib. If this warning is raised when loading pickled models, you may need to re-serialize those models with scikit-learn 0.21+.\n",
            "  warnings.warn(msg, category=DeprecationWarning)\n"
          ],
          "name": "stderr"
        }
      ]
    },
    {
      "cell_type": "code",
      "metadata": {
        "id": "Fw3Lw6929Bak",
        "colab_type": "code",
        "outputId": "0d1601b5-11e5-488b-d6b5-8ab1f5394232",
        "colab": {
          "base_uri": "https://localhost:8080/",
          "height": 127
        }
      },
      "source": [
        "from google.colab import drive\n",
        "drive.mount('/content/drive')"
      ],
      "execution_count": 0,
      "outputs": [
        {
          "output_type": "stream",
          "text": [
            "Go to this URL in a browser: https://accounts.google.com/o/oauth2/auth?client_id=947318989803-6bn6qk8qdgf4n4g3pfee6491hc0brc4i.apps.googleusercontent.com&redirect_uri=urn%3aietf%3awg%3aoauth%3a2.0%3aoob&response_type=code&scope=email%20https%3a%2f%2fwww.googleapis.com%2fauth%2fdocs.test%20https%3a%2f%2fwww.googleapis.com%2fauth%2fdrive%20https%3a%2f%2fwww.googleapis.com%2fauth%2fdrive.photos.readonly%20https%3a%2f%2fwww.googleapis.com%2fauth%2fpeopleapi.readonly\n",
            "\n",
            "Enter your authorization code:\n",
            "··········\n",
            "Mounted at /content/drive\n"
          ],
          "name": "stdout"
        }
      ]
    },
    {
      "cell_type": "code",
      "metadata": {
        "_cell_guid": "79c7e3d0-c299-4dcb-8224-4455121ee9b0",
        "_uuid": "d629ff2d2480ee46fbb7e2d37f6b5fab8052498a",
        "colab_type": "code",
        "id": "QtnVV9uI1Zk4",
        "colab": {}
      },
      "source": [
        "# Setting a random seed in order to keep the same random results each time I run the notebook\n",
        "np.random.seed(seed=11)"
      ],
      "execution_count": 0,
      "outputs": []
    },
    {
      "cell_type": "code",
      "metadata": {
        "_uuid": "dc1c92bf4166de1e2ce4bfb229b40b32eb94374a",
        "colab_type": "code",
        "id": "_pIvXQuv1Zk8",
        "outputId": "34c9c3c7-682a-4d06-f007-41cd0e5bfebf",
        "colab": {
          "base_uri": "https://localhost:8080/",
          "height": 35
        }
      },
      "source": [
        "import os \n",
        "print(os.listdir(\"/content/drive/My Drive/CIS 520/final\"))"
      ],
      "execution_count": 0,
      "outputs": [
        {
          "output_type": "stream",
          "text": [
            "['input', 'model', 'yuhan.ipynb']\n"
          ],
          "name": "stdout"
        }
      ]
    },
    {
      "cell_type": "code",
      "metadata": {
        "_uuid": "120edf8b2306a6391ad992cf3f48598739ec1940",
        "colab_type": "code",
        "id": "7MKGgqUT1ZlC",
        "colab": {}
      },
      "source": [
        "# Importing the database \n",
        "\n",
        "df = pd.read_csv(\"/content/drive/My Drive/CIS 520/final/input/Questions.csv\", encoding=\"ISO-8859-1\")"
      ],
      "execution_count": 0,
      "outputs": []
    },
    {
      "cell_type": "code",
      "metadata": {
        "_uuid": "40c3e09d38aecf03ce13fd0d88809e80a67d3d1a",
        "colab_type": "code",
        "id": "vTfXlq_b1ZlG",
        "outputId": "0de64941-7d27-4fae-9e49-775c7fda4e1e",
        "colab": {
          "base_uri": "https://localhost:8080/",
          "height": 197
        }
      },
      "source": [
        "df.head(5)"
      ],
      "execution_count": 0,
      "outputs": [
        {
          "output_type": "execute_result",
          "data": {
            "text/html": [
              "<div>\n",
              "<style scoped>\n",
              "    .dataframe tbody tr th:only-of-type {\n",
              "        vertical-align: middle;\n",
              "    }\n",
              "\n",
              "    .dataframe tbody tr th {\n",
              "        vertical-align: top;\n",
              "    }\n",
              "\n",
              "    .dataframe thead th {\n",
              "        text-align: right;\n",
              "    }\n",
              "</style>\n",
              "<table border=\"1\" class=\"dataframe\">\n",
              "  <thead>\n",
              "    <tr style=\"text-align: right;\">\n",
              "      <th></th>\n",
              "      <th>Id</th>\n",
              "      <th>OwnerUserId</th>\n",
              "      <th>CreationDate</th>\n",
              "      <th>ClosedDate</th>\n",
              "      <th>Score</th>\n",
              "      <th>Title</th>\n",
              "      <th>Body</th>\n",
              "    </tr>\n",
              "  </thead>\n",
              "  <tbody>\n",
              "    <tr>\n",
              "      <th>0</th>\n",
              "      <td>80</td>\n",
              "      <td>26.0</td>\n",
              "      <td>2008-08-01T13:57:07Z</td>\n",
              "      <td>NaN</td>\n",
              "      <td>26</td>\n",
              "      <td>SQLStatement.execute() - multiple queries in o...</td>\n",
              "      <td>&lt;p&gt;I've written a database generation script i...</td>\n",
              "    </tr>\n",
              "    <tr>\n",
              "      <th>1</th>\n",
              "      <td>90</td>\n",
              "      <td>58.0</td>\n",
              "      <td>2008-08-01T14:41:24Z</td>\n",
              "      <td>2012-12-26T03:45:49Z</td>\n",
              "      <td>144</td>\n",
              "      <td>Good branching and merging tutorials for Torto...</td>\n",
              "      <td>&lt;p&gt;Are there any really good tutorials explain...</td>\n",
              "    </tr>\n",
              "    <tr>\n",
              "      <th>2</th>\n",
              "      <td>120</td>\n",
              "      <td>83.0</td>\n",
              "      <td>2008-08-01T15:50:08Z</td>\n",
              "      <td>NaN</td>\n",
              "      <td>21</td>\n",
              "      <td>ASP.NET Site Maps</td>\n",
              "      <td>&lt;p&gt;Has anyone got experience creating &lt;strong&gt;...</td>\n",
              "    </tr>\n",
              "    <tr>\n",
              "      <th>3</th>\n",
              "      <td>180</td>\n",
              "      <td>2089740.0</td>\n",
              "      <td>2008-08-01T18:42:19Z</td>\n",
              "      <td>NaN</td>\n",
              "      <td>53</td>\n",
              "      <td>Function for creating color wheels</td>\n",
              "      <td>&lt;p&gt;This is something I've pseudo-solved many t...</td>\n",
              "    </tr>\n",
              "    <tr>\n",
              "      <th>4</th>\n",
              "      <td>260</td>\n",
              "      <td>91.0</td>\n",
              "      <td>2008-08-01T23:22:08Z</td>\n",
              "      <td>NaN</td>\n",
              "      <td>49</td>\n",
              "      <td>Adding scripting functionality to .NET applica...</td>\n",
              "      <td>&lt;p&gt;I have a little game written in C#. It uses...</td>\n",
              "    </tr>\n",
              "  </tbody>\n",
              "</table>\n",
              "</div>"
            ],
            "text/plain": [
              "    Id  ...                                               Body\n",
              "0   80  ...  <p>I've written a database generation script i...\n",
              "1   90  ...  <p>Are there any really good tutorials explain...\n",
              "2  120  ...  <p>Has anyone got experience creating <strong>...\n",
              "3  180  ...  <p>This is something I've pseudo-solved many t...\n",
              "4  260  ...  <p>I have a little game written in C#. It uses...\n",
              "\n",
              "[5 rows x 7 columns]"
            ]
          },
          "metadata": {
            "tags": []
          },
          "execution_count": 8
        }
      ]
    },
    {
      "cell_type": "code",
      "metadata": {
        "_uuid": "9beed1bea78dd1ed930caeef2923aef03420e1cc",
        "colab_type": "code",
        "id": "wTfYowht1ZlL",
        "colab": {}
      },
      "source": [
        "tags = pd.read_csv(\"/content/drive/My Drive/CIS 520/final/input/Tags.csv\", encoding=\"ISO-8859-1\", dtype={'Tag': str})"
      ],
      "execution_count": 0,
      "outputs": []
    },
    {
      "cell_type": "code",
      "metadata": {
        "_uuid": "3f4a7e6a7ee2745fc207f19fccb9c0dbc3a571a4",
        "colab_type": "code",
        "id": "4bIR36VL1ZlP",
        "outputId": "a568c62f-0942-4b64-bf38-fee47c2952fa",
        "colab": {
          "base_uri": "https://localhost:8080/",
          "height": 197
        }
      },
      "source": [
        "tags.head(5)"
      ],
      "execution_count": 0,
      "outputs": [
        {
          "output_type": "execute_result",
          "data": {
            "text/html": [
              "<div>\n",
              "<style scoped>\n",
              "    .dataframe tbody tr th:only-of-type {\n",
              "        vertical-align: middle;\n",
              "    }\n",
              "\n",
              "    .dataframe tbody tr th {\n",
              "        vertical-align: top;\n",
              "    }\n",
              "\n",
              "    .dataframe thead th {\n",
              "        text-align: right;\n",
              "    }\n",
              "</style>\n",
              "<table border=\"1\" class=\"dataframe\">\n",
              "  <thead>\n",
              "    <tr style=\"text-align: right;\">\n",
              "      <th></th>\n",
              "      <th>Id</th>\n",
              "      <th>Tag</th>\n",
              "    </tr>\n",
              "  </thead>\n",
              "  <tbody>\n",
              "    <tr>\n",
              "      <th>0</th>\n",
              "      <td>80</td>\n",
              "      <td>flex</td>\n",
              "    </tr>\n",
              "    <tr>\n",
              "      <th>1</th>\n",
              "      <td>80</td>\n",
              "      <td>actionscript-3</td>\n",
              "    </tr>\n",
              "    <tr>\n",
              "      <th>2</th>\n",
              "      <td>80</td>\n",
              "      <td>air</td>\n",
              "    </tr>\n",
              "    <tr>\n",
              "      <th>3</th>\n",
              "      <td>90</td>\n",
              "      <td>svn</td>\n",
              "    </tr>\n",
              "    <tr>\n",
              "      <th>4</th>\n",
              "      <td>90</td>\n",
              "      <td>tortoisesvn</td>\n",
              "    </tr>\n",
              "  </tbody>\n",
              "</table>\n",
              "</div>"
            ],
            "text/plain": [
              "   Id             Tag\n",
              "0  80            flex\n",
              "1  80  actionscript-3\n",
              "2  80             air\n",
              "3  90             svn\n",
              "4  90     tortoisesvn"
            ]
          },
          "metadata": {
            "tags": []
          },
          "execution_count": 10
        }
      ]
    },
    {
      "cell_type": "code",
      "metadata": {
        "_uuid": "ab191660e879734a6c26d1c1f2afd0e1218a50fc",
        "colab_type": "code",
        "id": "L8oFYITE1ZlS",
        "outputId": "2195c40c-27cb-4c06-b9ca-20ae50a31c61",
        "colab": {
          "base_uri": "https://localhost:8080/",
          "height": 234
        }
      },
      "source": [
        "df.info()"
      ],
      "execution_count": 0,
      "outputs": [
        {
          "output_type": "stream",
          "text": [
            "<class 'pandas.core.frame.DataFrame'>\n",
            "RangeIndex: 1264216 entries, 0 to 1264215\n",
            "Data columns (total 7 columns):\n",
            "Id              1264216 non-null int64\n",
            "OwnerUserId     1249762 non-null float64\n",
            "CreationDate    1264216 non-null object\n",
            "ClosedDate      55959 non-null object\n",
            "Score           1264216 non-null int64\n",
            "Title           1264216 non-null object\n",
            "Body            1264216 non-null object\n",
            "dtypes: float64(1), int64(2), object(4)\n",
            "memory usage: 67.5+ MB\n"
          ],
          "name": "stdout"
        }
      ]
    },
    {
      "cell_type": "code",
      "metadata": {
        "_uuid": "b71d45e2c86152d95f22679f01d8f855b042a62e",
        "colab_type": "code",
        "id": "LemBGLnN1ZlU",
        "outputId": "6adb78b5-e9fc-462a-b969-d5f260312bf3",
        "colab": {
          "base_uri": "https://localhost:8080/",
          "height": 144
        }
      },
      "source": [
        "tags.info()"
      ],
      "execution_count": 0,
      "outputs": [
        {
          "output_type": "stream",
          "text": [
            "<class 'pandas.core.frame.DataFrame'>\n",
            "RangeIndex: 3750994 entries, 0 to 3750993\n",
            "Data columns (total 2 columns):\n",
            "Id     int64\n",
            "Tag    object\n",
            "dtypes: int64(1), object(1)\n",
            "memory usage: 57.2+ MB\n"
          ],
          "name": "stdout"
        }
      ]
    },
    {
      "cell_type": "markdown",
      "metadata": {
        "_uuid": "ec6a03e07edd3ce3de1f20f073bdf18ffca87f4c",
        "colab_type": "text",
        "id": "UrJGnzVm1ZlX"
      },
      "source": [
        "First, what I want to do is to merge both dataframes. In order to do that, I'll have to group tags by the id of the post since a post can have multiple tags. I'll just use the groupeby function and then merge the dataframes on the id. "
      ]
    },
    {
      "cell_type": "code",
      "metadata": {
        "_uuid": "933761c8b2bdb668e0bca3c9ea9cab36dd1a4391",
        "colab_type": "code",
        "id": "27tZkuuq1ZlX",
        "colab": {}
      },
      "source": [
        "tags['Tag'] = tags['Tag'].astype(str)"
      ],
      "execution_count": 0,
      "outputs": []
    },
    {
      "cell_type": "code",
      "metadata": {
        "_kg_hide-output": true,
        "_uuid": "267d7c8f01a3b427ab139d689ce5d13ab8820913",
        "colab_type": "code",
        "id": "ds1QBt3b1Zlc",
        "colab": {}
      },
      "source": [
        "grouped_tags = tags.groupby(\"Id\")['Tag'].apply(lambda tags: ' '.join(tags))"
      ],
      "execution_count": 0,
      "outputs": []
    },
    {
      "cell_type": "code",
      "metadata": {
        "_uuid": "d4096130e47ec904f9bbe27822d1ddf403a675dc",
        "colab_type": "code",
        "id": "juhIyqKs1Zlf",
        "outputId": "1232c877-a06d-4ee0-84a5-08e8f80de1bd",
        "colab": {
          "base_uri": "https://localhost:8080/",
          "height": 144
        }
      },
      "source": [
        "grouped_tags.head(5)"
      ],
      "execution_count": 0,
      "outputs": [
        {
          "output_type": "execute_result",
          "data": {
            "text/plain": [
              "Id\n",
              "80                            flex actionscript-3 air\n",
              "90       svn tortoisesvn branch branching-and-merging\n",
              "120                               sql asp.net sitemap\n",
              "180    algorithm language-agnostic colors color-space\n",
              "260           c# .net scripting compiler-construction\n",
              "Name: Tag, dtype: object"
            ]
          },
          "metadata": {
            "tags": []
          },
          "execution_count": 15
        }
      ]
    },
    {
      "cell_type": "code",
      "metadata": {
        "_kg_hide-output": true,
        "_uuid": "a9ecae8a6445c671d9c0a1b207df8b530bae70ab",
        "colab_type": "code",
        "id": "N0GdgTaZ1Zli",
        "outputId": "78b1ab4b-d36d-4100-8bd4-5088d479534e",
        "colab": {
          "base_uri": "https://localhost:8080/",
          "height": 405
        }
      },
      "source": [
        "grouped_tags.reset_index()"
      ],
      "execution_count": 0,
      "outputs": [
        {
          "output_type": "execute_result",
          "data": {
            "text/html": [
              "<div>\n",
              "<style scoped>\n",
              "    .dataframe tbody tr th:only-of-type {\n",
              "        vertical-align: middle;\n",
              "    }\n",
              "\n",
              "    .dataframe tbody tr th {\n",
              "        vertical-align: top;\n",
              "    }\n",
              "\n",
              "    .dataframe thead th {\n",
              "        text-align: right;\n",
              "    }\n",
              "</style>\n",
              "<table border=\"1\" class=\"dataframe\">\n",
              "  <thead>\n",
              "    <tr style=\"text-align: right;\">\n",
              "      <th></th>\n",
              "      <th>Id</th>\n",
              "      <th>Tag</th>\n",
              "    </tr>\n",
              "  </thead>\n",
              "  <tbody>\n",
              "    <tr>\n",
              "      <th>0</th>\n",
              "      <td>80</td>\n",
              "      <td>flex actionscript-3 air</td>\n",
              "    </tr>\n",
              "    <tr>\n",
              "      <th>1</th>\n",
              "      <td>90</td>\n",
              "      <td>svn tortoisesvn branch branching-and-merging</td>\n",
              "    </tr>\n",
              "    <tr>\n",
              "      <th>2</th>\n",
              "      <td>120</td>\n",
              "      <td>sql asp.net sitemap</td>\n",
              "    </tr>\n",
              "    <tr>\n",
              "      <th>3</th>\n",
              "      <td>180</td>\n",
              "      <td>algorithm language-agnostic colors color-space</td>\n",
              "    </tr>\n",
              "    <tr>\n",
              "      <th>4</th>\n",
              "      <td>260</td>\n",
              "      <td>c# .net scripting compiler-construction</td>\n",
              "    </tr>\n",
              "    <tr>\n",
              "      <th>...</th>\n",
              "      <td>...</td>\n",
              "      <td>...</td>\n",
              "    </tr>\n",
              "    <tr>\n",
              "      <th>1264211</th>\n",
              "      <td>40143210</td>\n",
              "      <td>php .htaccess</td>\n",
              "    </tr>\n",
              "    <tr>\n",
              "      <th>1264212</th>\n",
              "      <td>40143300</td>\n",
              "      <td>google-bigquery</td>\n",
              "    </tr>\n",
              "    <tr>\n",
              "      <th>1264213</th>\n",
              "      <td>40143340</td>\n",
              "      <td>android android-studio</td>\n",
              "    </tr>\n",
              "    <tr>\n",
              "      <th>1264214</th>\n",
              "      <td>40143360</td>\n",
              "      <td>javascript vue.js</td>\n",
              "    </tr>\n",
              "    <tr>\n",
              "      <th>1264215</th>\n",
              "      <td>40143380</td>\n",
              "      <td>npm mocha babel</td>\n",
              "    </tr>\n",
              "  </tbody>\n",
              "</table>\n",
              "<p>1264216 rows × 2 columns</p>\n",
              "</div>"
            ],
            "text/plain": [
              "               Id                                             Tag\n",
              "0              80                         flex actionscript-3 air\n",
              "1              90    svn tortoisesvn branch branching-and-merging\n",
              "2             120                             sql asp.net sitemap\n",
              "3             180  algorithm language-agnostic colors color-space\n",
              "4             260         c# .net scripting compiler-construction\n",
              "...           ...                                             ...\n",
              "1264211  40143210                                   php .htaccess\n",
              "1264212  40143300                                 google-bigquery\n",
              "1264213  40143340                          android android-studio\n",
              "1264214  40143360                               javascript vue.js\n",
              "1264215  40143380                                 npm mocha babel\n",
              "\n",
              "[1264216 rows x 2 columns]"
            ]
          },
          "metadata": {
            "tags": []
          },
          "execution_count": 16
        }
      ]
    },
    {
      "cell_type": "code",
      "metadata": {
        "_uuid": "8da81a33552cd273c80e159e0c1cc8dddc98399c",
        "colab_type": "code",
        "id": "e6ZIvdqY1Zlk",
        "colab": {}
      },
      "source": [
        "grouped_tags_final = pd.DataFrame({'Id':grouped_tags.index, 'Tags':grouped_tags.values})"
      ],
      "execution_count": 0,
      "outputs": []
    },
    {
      "cell_type": "code",
      "metadata": {
        "_uuid": "9968760c364a005b7de54bd908cfc612fc9defe8",
        "colab_type": "code",
        "id": "eaqjPsv11Zln",
        "outputId": "941798aa-d367-4602-f2b4-4eb5996d4315",
        "colab": {
          "base_uri": "https://localhost:8080/",
          "height": 197
        }
      },
      "source": [
        "grouped_tags_final.head(5)"
      ],
      "execution_count": 0,
      "outputs": [
        {
          "output_type": "execute_result",
          "data": {
            "text/html": [
              "<div>\n",
              "<style scoped>\n",
              "    .dataframe tbody tr th:only-of-type {\n",
              "        vertical-align: middle;\n",
              "    }\n",
              "\n",
              "    .dataframe tbody tr th {\n",
              "        vertical-align: top;\n",
              "    }\n",
              "\n",
              "    .dataframe thead th {\n",
              "        text-align: right;\n",
              "    }\n",
              "</style>\n",
              "<table border=\"1\" class=\"dataframe\">\n",
              "  <thead>\n",
              "    <tr style=\"text-align: right;\">\n",
              "      <th></th>\n",
              "      <th>Id</th>\n",
              "      <th>Tags</th>\n",
              "    </tr>\n",
              "  </thead>\n",
              "  <tbody>\n",
              "    <tr>\n",
              "      <th>0</th>\n",
              "      <td>80</td>\n",
              "      <td>flex actionscript-3 air</td>\n",
              "    </tr>\n",
              "    <tr>\n",
              "      <th>1</th>\n",
              "      <td>90</td>\n",
              "      <td>svn tortoisesvn branch branching-and-merging</td>\n",
              "    </tr>\n",
              "    <tr>\n",
              "      <th>2</th>\n",
              "      <td>120</td>\n",
              "      <td>sql asp.net sitemap</td>\n",
              "    </tr>\n",
              "    <tr>\n",
              "      <th>3</th>\n",
              "      <td>180</td>\n",
              "      <td>algorithm language-agnostic colors color-space</td>\n",
              "    </tr>\n",
              "    <tr>\n",
              "      <th>4</th>\n",
              "      <td>260</td>\n",
              "      <td>c# .net scripting compiler-construction</td>\n",
              "    </tr>\n",
              "  </tbody>\n",
              "</table>\n",
              "</div>"
            ],
            "text/plain": [
              "    Id                                            Tags\n",
              "0   80                         flex actionscript-3 air\n",
              "1   90    svn tortoisesvn branch branching-and-merging\n",
              "2  120                             sql asp.net sitemap\n",
              "3  180  algorithm language-agnostic colors color-space\n",
              "4  260         c# .net scripting compiler-construction"
            ]
          },
          "metadata": {
            "tags": []
          },
          "execution_count": 18
        }
      ]
    },
    {
      "cell_type": "code",
      "metadata": {
        "_uuid": "2612dea031562d420f8dac14801d167721d2bcc9",
        "colab_type": "code",
        "id": "4ZqogExY1Zlq",
        "colab": {}
      },
      "source": [
        "df.drop(columns=['OwnerUserId', 'CreationDate', 'ClosedDate'], inplace=True)"
      ],
      "execution_count": 0,
      "outputs": []
    },
    {
      "cell_type": "code",
      "metadata": {
        "_uuid": "bd794a28df6e19818c754702ed5f3745262d866f",
        "colab_type": "code",
        "id": "gz4hIo3D1Zlu",
        "colab": {}
      },
      "source": [
        "df = df.merge(grouped_tags_final, on='Id')"
      ],
      "execution_count": 0,
      "outputs": []
    },
    {
      "cell_type": "code",
      "metadata": {
        "_uuid": "132c4501747d2832eaf8d95f5d9cb3acaadc97f4",
        "colab_type": "code",
        "id": "oSqjG86t1Zlw",
        "outputId": "6b29f11c-68fd-457c-9da7-a2831f5b3779",
        "scrolled": true,
        "colab": {
          "base_uri": "https://localhost:8080/",
          "height": 197
        }
      },
      "source": [
        "df.head(5)"
      ],
      "execution_count": 0,
      "outputs": [
        {
          "output_type": "execute_result",
          "data": {
            "text/html": [
              "<div>\n",
              "<style scoped>\n",
              "    .dataframe tbody tr th:only-of-type {\n",
              "        vertical-align: middle;\n",
              "    }\n",
              "\n",
              "    .dataframe tbody tr th {\n",
              "        vertical-align: top;\n",
              "    }\n",
              "\n",
              "    .dataframe thead th {\n",
              "        text-align: right;\n",
              "    }\n",
              "</style>\n",
              "<table border=\"1\" class=\"dataframe\">\n",
              "  <thead>\n",
              "    <tr style=\"text-align: right;\">\n",
              "      <th></th>\n",
              "      <th>Id</th>\n",
              "      <th>Score</th>\n",
              "      <th>Title</th>\n",
              "      <th>Body</th>\n",
              "      <th>Tags</th>\n",
              "    </tr>\n",
              "  </thead>\n",
              "  <tbody>\n",
              "    <tr>\n",
              "      <th>0</th>\n",
              "      <td>80</td>\n",
              "      <td>26</td>\n",
              "      <td>SQLStatement.execute() - multiple queries in o...</td>\n",
              "      <td>&lt;p&gt;I've written a database generation script i...</td>\n",
              "      <td>flex actionscript-3 air</td>\n",
              "    </tr>\n",
              "    <tr>\n",
              "      <th>1</th>\n",
              "      <td>90</td>\n",
              "      <td>144</td>\n",
              "      <td>Good branching and merging tutorials for Torto...</td>\n",
              "      <td>&lt;p&gt;Are there any really good tutorials explain...</td>\n",
              "      <td>svn tortoisesvn branch branching-and-merging</td>\n",
              "    </tr>\n",
              "    <tr>\n",
              "      <th>2</th>\n",
              "      <td>120</td>\n",
              "      <td>21</td>\n",
              "      <td>ASP.NET Site Maps</td>\n",
              "      <td>&lt;p&gt;Has anyone got experience creating &lt;strong&gt;...</td>\n",
              "      <td>sql asp.net sitemap</td>\n",
              "    </tr>\n",
              "    <tr>\n",
              "      <th>3</th>\n",
              "      <td>180</td>\n",
              "      <td>53</td>\n",
              "      <td>Function for creating color wheels</td>\n",
              "      <td>&lt;p&gt;This is something I've pseudo-solved many t...</td>\n",
              "      <td>algorithm language-agnostic colors color-space</td>\n",
              "    </tr>\n",
              "    <tr>\n",
              "      <th>4</th>\n",
              "      <td>260</td>\n",
              "      <td>49</td>\n",
              "      <td>Adding scripting functionality to .NET applica...</td>\n",
              "      <td>&lt;p&gt;I have a little game written in C#. It uses...</td>\n",
              "      <td>c# .net scripting compiler-construction</td>\n",
              "    </tr>\n",
              "  </tbody>\n",
              "</table>\n",
              "</div>"
            ],
            "text/plain": [
              "    Id  ...                                            Tags\n",
              "0   80  ...                         flex actionscript-3 air\n",
              "1   90  ...    svn tortoisesvn branch branching-and-merging\n",
              "2  120  ...                             sql asp.net sitemap\n",
              "3  180  ...  algorithm language-agnostic colors color-space\n",
              "4  260  ...         c# .net scripting compiler-construction\n",
              "\n",
              "[5 rows x 5 columns]"
            ]
          },
          "metadata": {
            "tags": []
          },
          "execution_count": 21
        }
      ]
    },
    {
      "cell_type": "markdown",
      "metadata": {
        "_uuid": "df4a7b2e88af524f4bd778c223d580de76c57cf7",
        "colab_type": "text",
        "id": "cdNFkikS1Zl0"
      },
      "source": [
        "Now, I'll take only quesions witha score greater than 5. I'm doing that for 2 reasons:\n",
        "* 1- I'll require less computational resources from kaggle.\n",
        "* 2- The posts will probably be with a better quality and will be better tagged since they have lots of upvotes. \n"
      ]
    },
    {
      "cell_type": "code",
      "metadata": {
        "_uuid": "ecebe90606c70e84e4e87e1661e49a11c37e529f",
        "colab_type": "code",
        "id": "AlI6G86W1Zl3",
        "colab": {}
      },
      "source": [
        "new_df = df[df['Score']>5]"
      ],
      "execution_count": 0,
      "outputs": []
    },
    {
      "cell_type": "markdown",
      "metadata": {
        "_uuid": "e462e56ec2d84a0f3810d53bee3715cb570907f1",
        "colab_type": "text",
        "id": "A5Qrwpw11Zl-"
      },
      "source": [
        "**1.2 Cleaning Data**"
      ]
    },
    {
      "cell_type": "code",
      "metadata": {
        "_uuid": "2f966f3733dfc5668fd20af7850302c8c2bbdbf7",
        "colab_type": "code",
        "id": "ochmDYtw1ZmB",
        "outputId": "a470582a-8813-4955-a8c4-62b1bce4da24",
        "colab": {
          "base_uri": "https://localhost:8080/",
          "height": 350
        }
      },
      "source": [
        "plt.figure(figsize=(5, 5))\n",
        "new_df.isnull().mean(axis=0).plot.barh()\n",
        "plt.title(\"Ratio of missing values per columns\")"
      ],
      "execution_count": 0,
      "outputs": [
        {
          "output_type": "execute_result",
          "data": {
            "text/plain": [
              "Text(0.5, 1.0, 'Ratio of missing values per columns')"
            ]
          },
          "metadata": {
            "tags": []
          },
          "execution_count": 23
        },
        {
          "output_type": "display_data",
          "data": {
            "image/png": "[encoded data removed]",
            "text/plain": [
              "<Figure size 360x360 with 1 Axes>"
            ]
          },
          "metadata": {
            "tags": []
          }
        }
      ]
    },
    {
      "cell_type": "code",
      "metadata": {
        "_uuid": "1550d62d082219a8c8564f8a95afb121d9096c67",
        "colab_type": "code",
        "id": "Ur3ziG_U1ZmE",
        "outputId": "3eedb00d-7267-4f17-b990-b0b37fc596e5",
        "scrolled": true,
        "colab": {
          "base_uri": "https://localhost:8080/",
          "height": 35
        }
      },
      "source": [
        "print('Dupplicate entries: {}'.format(new_df.duplicated().sum()))\n",
        "new_df.drop_duplicates(inplace = True)"
      ],
      "execution_count": 0,
      "outputs": [
        {
          "output_type": "stream",
          "text": [
            "Dupplicate entries: 0\n"
          ],
          "name": "stdout"
        }
      ]
    },
    {
      "cell_type": "markdown",
      "metadata": {
        "_uuid": "097a6864ce893217365a3dca22bb68b442746740",
        "colab_type": "text",
        "id": "fsXt8zN_1ZmG"
      },
      "source": [
        "This is a very good dataset since there are no missing valeus or dupplicate values. "
      ]
    },
    {
      "cell_type": "code",
      "metadata": {
        "_uuid": "6ed21b85891cb57be8273aa41443e6c8198c0d0c",
        "colab_type": "code",
        "id": "ziggU6hW1ZmH",
        "colab": {}
      },
      "source": [
        "new_df.drop(columns=['Id', 'Score'], inplace=True)"
      ],
      "execution_count": 0,
      "outputs": []
    },
    {
      "cell_type": "markdown",
      "metadata": {
        "_uuid": "4c6033e87a6ca08eeca49f64b8ca1bf6a9a2d11b",
        "colab_type": "text",
        "id": "QWSKjy4x1ZmJ"
      },
      "source": [
        "Now we only need 3 columns: Body, Title and Tags. "
      ]
    },
    {
      "cell_type": "markdown",
      "metadata": {
        "_uuid": "d3a6dc67414c2faf61fc32adf821d5d6c5a00e4e",
        "colab_type": "text",
        "id": "spvQ89M41ZmK"
      },
      "source": [
        "**1.2.1 Tags**"
      ]
    },
    {
      "cell_type": "markdown",
      "metadata": {
        "_uuid": "7d52b54ca515eb7ef5a9545b9f722090abc4c683",
        "colab_type": "text",
        "id": "uUW6-E-G1ZmL"
      },
      "source": [
        "Let's do some cleaning on the tags' column. Furthermore, I decided to keep the 100 most popular tags because I'll be easier to predict the right tag from 100 words than from 14,000 and because we want to keep macro tags and not be too specific since it's only a recommendation for a post, the user can add more specific tags himself. "
      ]
    },
    {
      "cell_type": "code",
      "metadata": {
        "_uuid": "f52f8b1079382f88516dd1df91aeaebe6d4f1dc4",
        "colab_type": "code",
        "id": "LrWt2L-V1ZmM",
        "outputId": "04d17e3b-3f64-42c2-bc05-b86b273366d2",
        "colab": {
          "base_uri": "https://localhost:8080/",
          "height": 197
        }
      },
      "source": [
        "new_df.head(5)"
      ],
      "execution_count": 0,
      "outputs": [
        {
          "output_type": "execute_result",
          "data": {
            "text/html": [
              "<div>\n",
              "<style scoped>\n",
              "    .dataframe tbody tr th:only-of-type {\n",
              "        vertical-align: middle;\n",
              "    }\n",
              "\n",
              "    .dataframe tbody tr th {\n",
              "        vertical-align: top;\n",
              "    }\n",
              "\n",
              "    .dataframe thead th {\n",
              "        text-align: right;\n",
              "    }\n",
              "</style>\n",
              "<table border=\"1\" class=\"dataframe\">\n",
              "  <thead>\n",
              "    <tr style=\"text-align: right;\">\n",
              "      <th></th>\n",
              "      <th>Title</th>\n",
              "      <th>Body</th>\n",
              "      <th>Tags</th>\n",
              "    </tr>\n",
              "  </thead>\n",
              "  <tbody>\n",
              "    <tr>\n",
              "      <th>0</th>\n",
              "      <td>SQLStatement.execute() - multiple queries in o...</td>\n",
              "      <td>&lt;p&gt;I've written a database generation script i...</td>\n",
              "      <td>flex actionscript-3 air</td>\n",
              "    </tr>\n",
              "    <tr>\n",
              "      <th>1</th>\n",
              "      <td>Good branching and merging tutorials for Torto...</td>\n",
              "      <td>&lt;p&gt;Are there any really good tutorials explain...</td>\n",
              "      <td>svn tortoisesvn branch branching-and-merging</td>\n",
              "    </tr>\n",
              "    <tr>\n",
              "      <th>2</th>\n",
              "      <td>ASP.NET Site Maps</td>\n",
              "      <td>&lt;p&gt;Has anyone got experience creating &lt;strong&gt;...</td>\n",
              "      <td>sql asp.net sitemap</td>\n",
              "    </tr>\n",
              "    <tr>\n",
              "      <th>3</th>\n",
              "      <td>Function for creating color wheels</td>\n",
              "      <td>&lt;p&gt;This is something I've pseudo-solved many t...</td>\n",
              "      <td>algorithm language-agnostic colors color-space</td>\n",
              "    </tr>\n",
              "    <tr>\n",
              "      <th>4</th>\n",
              "      <td>Adding scripting functionality to .NET applica...</td>\n",
              "      <td>&lt;p&gt;I have a little game written in C#. It uses...</td>\n",
              "      <td>c# .net scripting compiler-construction</td>\n",
              "    </tr>\n",
              "  </tbody>\n",
              "</table>\n",
              "</div>"
            ],
            "text/plain": [
              "                                               Title  ...                                            Tags\n",
              "0  SQLStatement.execute() - multiple queries in o...  ...                         flex actionscript-3 air\n",
              "1  Good branching and merging tutorials for Torto...  ...    svn tortoisesvn branch branching-and-merging\n",
              "2                                  ASP.NET Site Maps  ...                             sql asp.net sitemap\n",
              "3                 Function for creating color wheels  ...  algorithm language-agnostic colors color-space\n",
              "4  Adding scripting functionality to .NET applica...  ...         c# .net scripting compiler-construction\n",
              "\n",
              "[5 rows x 3 columns]"
            ]
          },
          "metadata": {
            "tags": []
          },
          "execution_count": 26
        }
      ]
    },
    {
      "cell_type": "code",
      "metadata": {
        "_kg_hide-output": true,
        "_uuid": "d112c6cca7ac7b8fecfafdecfe3c75820a8b6f8c",
        "colab_type": "code",
        "id": "kITqjN8r1ZmQ",
        "colab": {}
      },
      "source": [
        "new_df['Tags'] = new_df['Tags'].apply(lambda x: x.split())"
      ],
      "execution_count": 0,
      "outputs": []
    },
    {
      "cell_type": "code",
      "metadata": {
        "_uuid": "84505cde455a6d528b08e72688caa6c092893388",
        "colab_type": "code",
        "id": "LRa791Wo1ZmS",
        "colab": {}
      },
      "source": [
        "all_tags = [item for sublist in new_df['Tags'].values for item in sublist]"
      ],
      "execution_count": 0,
      "outputs": []
    },
    {
      "cell_type": "code",
      "metadata": {
        "_uuid": "79be7667451d41ac7cd9ef52b7edae19a8c9e846",
        "colab_type": "code",
        "id": "hgBETWVG1ZmU",
        "outputId": "a4eb9d2f-c376-4455-9abb-3473040f72dc",
        "colab": {
          "base_uri": "https://localhost:8080/",
          "height": 35
        }
      },
      "source": [
        "len(all_tags)"
      ],
      "execution_count": 0,
      "outputs": [
        {
          "output_type": "execute_result",
          "data": {
            "text/plain": [
              "224129"
            ]
          },
          "metadata": {
            "tags": []
          },
          "execution_count": 29
        }
      ]
    },
    {
      "cell_type": "code",
      "metadata": {
        "_uuid": "0a7e3c76664f2bbcbab52d1ecbf445e8451d877d",
        "colab_type": "code",
        "id": "WnLjcRjG1ZmW",
        "outputId": "5fbe6078-9901-4e33-f993-61d9d40ba3ac",
        "colab": {
          "base_uri": "https://localhost:8080/",
          "height": 35
        }
      },
      "source": [
        "my_set = set(all_tags)\n",
        "unique_tags = list(my_set)\n",
        "len(unique_tags)"
      ],
      "execution_count": 0,
      "outputs": [
        {
          "output_type": "execute_result",
          "data": {
            "text/plain": [
              "14883"
            ]
          },
          "metadata": {
            "tags": []
          },
          "execution_count": 30
        }
      ]
    },
    {
      "cell_type": "code",
      "metadata": {
        "_uuid": "56cecaeb6a313c81202a08fbcca65e33da95b3be",
        "colab_type": "code",
        "id": "aGl_WhFj1Zmb",
        "colab": {}
      },
      "source": [
        "flat_list = [item for sublist in new_df['Tags'].values for item in sublist]\n",
        "\n",
        "keywords = nltk.FreqDist(flat_list)\n",
        "\n",
        "keywords = nltk.FreqDist(keywords)\n",
        "\n",
        "frequencies_words = keywords.most_common(50)\n",
        "tags_features = [word[0] for word in frequencies_words]"
      ],
      "execution_count": 0,
      "outputs": []
    },
    {
      "cell_type": "code",
      "metadata": {
        "_uuid": "a97a5e5d2e1031394382558d4dc3b54530400005",
        "colab_type": "code",
        "id": "GDwplCW01Zmh",
        "outputId": "05707884-e49a-4d5d-936d-8db6ac5bc805",
        "colab": {
          "base_uri": "https://localhost:8080/",
          "height": 923
        }
      },
      "source": [
        "tags_features"
      ],
      "execution_count": 0,
      "outputs": [
        {
          "output_type": "execute_result",
          "data": {
            "text/plain": [
              "['c#',\n",
              " 'java',\n",
              " 'javascript',\n",
              " 'android',\n",
              " 'python',\n",
              " 'c++',\n",
              " 'php',\n",
              " 'jquery',\n",
              " '.net',\n",
              " 'ios',\n",
              " 'html',\n",
              " 'css',\n",
              " 'c',\n",
              " 'iphone',\n",
              " 'objective-c',\n",
              " 'ruby-on-rails',\n",
              " 'sql',\n",
              " 'asp.net',\n",
              " 'mysql',\n",
              " 'ruby',\n",
              " 'r',\n",
              " 'git',\n",
              " 'asp.net-mvc',\n",
              " 'linux',\n",
              " 'sql-server',\n",
              " 'node.js',\n",
              " 'angularjs',\n",
              " 'django',\n",
              " 'performance',\n",
              " 'algorithm',\n",
              " 'string',\n",
              " 'xcode',\n",
              " 'arrays',\n",
              " 'wpf',\n",
              " 'eclipse',\n",
              " 'haskell',\n",
              " 'windows',\n",
              " 'scala',\n",
              " 'multithreading',\n",
              " 'json',\n",
              " 'c++11',\n",
              " 'regex',\n",
              " 'visual-studio',\n",
              " 'html5',\n",
              " 'osx',\n",
              " 'swift',\n",
              " 'database',\n",
              " 'unit-testing',\n",
              " 'spring',\n",
              " 'xml']"
            ]
          },
          "metadata": {
            "tags": []
          },
          "execution_count": 32
        }
      ]
    },
    {
      "cell_type": "code",
      "metadata": {
        "_uuid": "e4a1cb0882531f0de6aef354e468cd0711bbb432",
        "colab_type": "code",
        "id": "93h9G1lV1Zmj",
        "outputId": "beabad3c-d1ab-4ef6-dd92-30d7888d77b7",
        "colab": {
          "base_uri": "https://localhost:8080/",
          "height": 688
        }
      },
      "source": [
        "fig, ax = plt.subplots(figsize=(15, 10))\n",
        "keywords.plot(100, cumulative=False)"
      ],
      "execution_count": 0,
      "outputs": [
        {
          "output_type": "display_data",
          "data": {
            "image/png": "[encoded data removed]",
            "text/plain": [
              "<Figure size 1080x720 with 1 Axes>"
            ]
          },
          "metadata": {
            "tags": []
          }
        }
      ]
    },
    {
      "cell_type": "code",
      "metadata": {
        "_uuid": "3dabce5e92dc9314e7042384add46fc2c31f3112",
        "colab_type": "code",
        "id": "i8ZaYcpK1Zmm",
        "colab": {}
      },
      "source": [
        "def most_common(tags):\n",
        "    tags_filtered = []\n",
        "    for i in range(0, len(tags)):\n",
        "        if tags[i] in tags_features:\n",
        "            tags_filtered.append(tags[i])\n",
        "    return tags_filtered"
      ],
      "execution_count": 0,
      "outputs": []
    },
    {
      "cell_type": "code",
      "metadata": {
        "_uuid": "e1b1f8eefaf9b94b5bffdbd295b5770fae7b2984",
        "colab_type": "code",
        "id": "vi5PdvjW1Zmo",
        "colab": {}
      },
      "source": [
        "new_df['Tags'] = new_df['Tags'].apply(lambda x: most_common(x))\n",
        "new_df['Tags'] = new_df['Tags'].apply(lambda x: x if len(x)>0 else None)"
      ],
      "execution_count": 0,
      "outputs": []
    },
    {
      "cell_type": "code",
      "metadata": {
        "_uuid": "be6aae9b05c9d212cb26adb487df1476e6040c48",
        "colab_type": "code",
        "id": "Kd4vNDZK1Zmq",
        "outputId": "0141a683-5083-40f6-99ee-0a30ba96ae69",
        "colab": {
          "base_uri": "https://localhost:8080/",
          "height": 35
        }
      },
      "source": [
        "new_df.shape"
      ],
      "execution_count": 0,
      "outputs": [
        {
          "output_type": "execute_result",
          "data": {
            "text/plain": [
              "(72950, 3)"
            ]
          },
          "metadata": {
            "tags": []
          },
          "execution_count": 36
        }
      ]
    },
    {
      "cell_type": "code",
      "metadata": {
        "_uuid": "1f9ffd9e9e0dfe7c2e4c595e31559e2f5ec513f4",
        "colab_type": "code",
        "id": "VlilMfyO1Zmr",
        "colab": {}
      },
      "source": [
        "new_df.dropna(subset=['Tags'], inplace=True)"
      ],
      "execution_count": 0,
      "outputs": []
    },
    {
      "cell_type": "code",
      "metadata": {
        "_uuid": "608e36814e0b2befb41bb9dc6eca073edf48fbe4",
        "colab_type": "code",
        "id": "vHdBysN_1Zmx",
        "outputId": "c7cd792f-2f58-40ea-ce43-551538d27e6b",
        "colab": {
          "base_uri": "https://localhost:8080/",
          "height": 35
        }
      },
      "source": [
        "new_df.shape"
      ],
      "execution_count": 0,
      "outputs": [
        {
          "output_type": "execute_result",
          "data": {
            "text/plain": [
              "(58872, 3)"
            ]
          },
          "metadata": {
            "tags": []
          },
          "execution_count": 38
        }
      ]
    },
    {
      "cell_type": "markdown",
      "metadata": {
        "_uuid": "8864db3bccbe04abb7656fa580fbbb87b0528c43",
        "colab_type": "text",
        "id": "550ivTqs1Zmz"
      },
      "source": [
        "We are here loosing 10000 rows but the it's for the greater good. "
      ]
    },
    {
      "cell_type": "markdown",
      "metadata": {
        "_uuid": "0240dc179aeabfdd8bbd6638d0e1b3ae5cb56877",
        "colab_type": "text",
        "id": "2JIKkXbd1Zmz"
      },
      "source": [
        "**1.2.2 Body**"
      ]
    },
    {
      "cell_type": "markdown",
      "metadata": {
        "_uuid": "598869f86fd4f9a6fe1e41f9acce43d392cb50aa",
        "colab_type": "text",
        "id": "ZORSuqnx1Zm0"
      },
      "source": [
        "In the next two columns: Body and Title, I'll use lots of text processing:\n",
        "* Removing html format \n",
        "* Lowering text\n",
        "* Transforming abbreviations \n",
        "* Removing punctuation (but keeping words like c# since it's the most popular tag)\n",
        "* Lemmatizing words\n",
        "* Removing stop words"
      ]
    },
    {
      "cell_type": "code",
      "metadata": {
        "_uuid": "e1b8ccc185a38ec08ee74deecd749b187053e444",
        "colab_type": "code",
        "id": "xhkizIZ01Zm1",
        "colab": {}
      },
      "source": [
        "# Converting html to text in the body\n",
        "\n",
        "new_df['Body'] = new_df['Body'].apply(lambda x: BeautifulSoup(x).get_text()) "
      ],
      "execution_count": 0,
      "outputs": []
    },
    {
      "cell_type": "code",
      "metadata": {
        "_uuid": "b25cd0dd5fd7bc22eaa629bdabfa9ce882661f85",
        "colab_type": "code",
        "id": "H2V371iw1Zm3",
        "colab": {}
      },
      "source": [
        "def clean_text(text):\n",
        "    text = text.lower()\n",
        "    text = re.sub(r\"what's\", \"what is \", text)\n",
        "    text = re.sub(r\"\\'s\", \" \", text)\n",
        "    text = re.sub(r\"\\'ve\", \" have \", text)\n",
        "    text = re.sub(r\"can't\", \"can not \", text)\n",
        "    text = re.sub(r\"n't\", \" not \", text)\n",
        "    text = re.sub(r\"i'm\", \"i am \", text)\n",
        "    text = re.sub(r\"\\'re\", \" are \", text)\n",
        "    text = re.sub(r\"\\'d\", \" would \", text)\n",
        "    text = re.sub(r\"\\'ll\", \" will \", text)\n",
        "    text = re.sub(r\"\\'scuse\", \" excuse \", text)\n",
        "    text = re.sub(r\"\\'\\n\", \" \", text)\n",
        "    text = re.sub(r\"\\'\\xa0\", \" \", text)\n",
        "    text = re.sub('\\s+', ' ', text)\n",
        "    text = text.strip(' ')\n",
        "    return text"
      ],
      "execution_count": 0,
      "outputs": []
    },
    {
      "cell_type": "code",
      "metadata": {
        "_uuid": "d39a9d9c3221288d7d72076070219cb861ad399e",
        "colab_type": "code",
        "id": "7rQbyizC1Zm5",
        "colab": {}
      },
      "source": [
        "new_df['Body'] = new_df['Body'].apply(lambda x: clean_text(x)) "
      ],
      "execution_count": 0,
      "outputs": []
    },
    {
      "cell_type": "code",
      "metadata": {
        "_uuid": "e2b3cfc4fbb0482324dc1937d8411feb5334f7d2",
        "colab_type": "code",
        "id": "25Kw2qcd1Zm7",
        "colab": {}
      },
      "source": [
        "token=ToktokTokenizer()"
      ],
      "execution_count": 0,
      "outputs": []
    },
    {
      "cell_type": "code",
      "metadata": {
        "_uuid": "e96435d0bb6d758f5868ae7cf1561e28293b21e0",
        "colab_type": "code",
        "id": "7Sd3TC5J1Zm9",
        "outputId": "6724acb5-5dc0-4ab8-9025-cd9da3fcc640",
        "colab": {
          "base_uri": "https://localhost:8080/",
          "height": 35
        }
      },
      "source": [
        "punctuation"
      ],
      "execution_count": 0,
      "outputs": [
        {
          "output_type": "execute_result",
          "data": {
            "text/plain": [
              "'!\"#$%&\\'()*+,-./:;<=>?@[\\\\]^_`{|}~'"
            ]
          },
          "metadata": {
            "tags": []
          },
          "execution_count": 43
        }
      ]
    },
    {
      "cell_type": "code",
      "metadata": {
        "_uuid": "52c525eabf07b51a54af954f4adc7404febdf27e",
        "colab_type": "code",
        "id": "gntmAcyJ1ZnD",
        "colab": {}
      },
      "source": [
        "punct = '!\"#$%&\\'()*+,./:;<=>?@[\\\\]^_`{|}~'"
      ],
      "execution_count": 0,
      "outputs": []
    },
    {
      "cell_type": "code",
      "metadata": {
        "_uuid": "7681b82ec0d4e8fb87fc7c2a2d7e90f00184bdb7",
        "colab_type": "code",
        "id": "HmVLyaAB1ZnI",
        "colab": {}
      },
      "source": [
        "def strip_list_noempty(mylist):\n",
        "    newlist = (item.strip() if hasattr(item, 'strip') else item for item in mylist)\n",
        "    return [item for item in newlist if item != '']"
      ],
      "execution_count": 0,
      "outputs": []
    },
    {
      "cell_type": "code",
      "metadata": {
        "_uuid": "e8d4bb83559025f06a5bae00aa511f5985bb56bd",
        "colab_type": "code",
        "id": "OzkDRIdl1ZnL",
        "colab": {}
      },
      "source": [
        "def clean_punct(text): \n",
        "    words=token.tokenize(text)\n",
        "    punctuation_filtered = []\n",
        "    regex = re.compile('[%s]' % re.escape(punct))\n",
        "    remove_punctuation = str.maketrans(' ', ' ', punct)\n",
        "    for w in words:\n",
        "        if w in tags_features:\n",
        "            punctuation_filtered.append(w)\n",
        "        else:\n",
        "            punctuation_filtered.append(regex.sub('', w))\n",
        "  \n",
        "    filtered_list = strip_list_noempty(punctuation_filtered)\n",
        "        \n",
        "    return ' '.join(map(str, filtered_list))\n",
        "\n",
        "\n"
      ],
      "execution_count": 0,
      "outputs": []
    },
    {
      "cell_type": "code",
      "metadata": {
        "_uuid": "997064cd595544af307751a19ac0680a392a79a4",
        "colab_type": "code",
        "id": "Kek_30Nm1ZnN",
        "colab": {}
      },
      "source": [
        "new_df['Body'] = new_df['Body'].apply(lambda x: clean_punct(x)) "
      ],
      "execution_count": 0,
      "outputs": []
    },
    {
      "cell_type": "code",
      "metadata": {
        "_uuid": "c32de0e6fb753123485706a2655a68260de9741a",
        "colab_type": "code",
        "id": "WadwSJ-D1ZnT",
        "outputId": "56fd6b80-3f67-41f5-f845-f0b8d0642c65",
        "colab": {
          "base_uri": "https://localhost:8080/",
          "height": 55
        }
      },
      "source": [
        "new_df['Body'][2]"
      ],
      "execution_count": 0,
      "outputs": [
        {
          "output_type": "execute_result",
          "data": {
            "text/plain": [
              "'has anyone got experience creating sql-based asp.net site-map providers i have got the default xml file websitemap working properly with my menu and sitemappath controls but i will need a way for the users of my site to create and modify pages dynamically i need to tie page viewing permissions into the standard asp.net membership system as well'"
            ]
          },
          "metadata": {
            "tags": []
          },
          "execution_count": 48
        }
      ]
    },
    {
      "cell_type": "code",
      "metadata": {
        "id": "3xInJXIu8yOw",
        "colab_type": "code",
        "outputId": "29d9428d-92d4-47fe-ca88-d8125d4b363d",
        "colab": {
          "base_uri": "https://localhost:8080/",
          "height": 107
        }
      },
      "source": [
        "import nltk\n",
        "nltk.download('stopwords')\n",
        "nltk.download('wordnet')"
      ],
      "execution_count": 0,
      "outputs": [
        {
          "output_type": "stream",
          "text": [
            "[nltk_data] Downloading package stopwords to /root/nltk_data...\n",
            "[nltk_data]   Unzipping corpora/stopwords.zip.\n",
            "[nltk_data] Downloading package wordnet to /root/nltk_data...\n",
            "[nltk_data]   Unzipping corpora/wordnet.zip.\n"
          ],
          "name": "stdout"
        },
        {
          "output_type": "execute_result",
          "data": {
            "text/plain": [
              "True"
            ]
          },
          "metadata": {
            "tags": []
          },
          "execution_count": 49
        }
      ]
    },
    {
      "cell_type": "code",
      "metadata": {
        "_uuid": "b18fd3ceb79801c3737758607e39ff6881dc1f0b",
        "colab_type": "code",
        "id": "arcScD6k1ZnV",
        "colab": {}
      },
      "source": [
        "lemma=WordNetLemmatizer()\n",
        "stop_words = set(stopwords.words(\"english\"))"
      ],
      "execution_count": 0,
      "outputs": []
    },
    {
      "cell_type": "code",
      "metadata": {
        "_uuid": "7adfb53ebffef9af3068171d4f4e8e7b4b959527",
        "colab_type": "code",
        "id": "7zzR3EMf1ZnY",
        "colab": {}
      },
      "source": [
        "def lemitizeWords(text):\n",
        "    words=token.tokenize(text)\n",
        "    listLemma=[]\n",
        "    for w in words:\n",
        "        x=lemma.lemmatize(w, pos=\"v\")\n",
        "        listLemma.append(x)\n",
        "    return ' '.join(map(str, listLemma))\n",
        "\n",
        "def stopWordsRemove(text):\n",
        "    \n",
        "    stop_words = set(stopwords.words(\"english\"))\n",
        "    \n",
        "    words=token.tokenize(text)\n",
        "    \n",
        "    filtered = [w for w in words if not w in stop_words]\n",
        "    \n",
        "    return ' '.join(map(str, filtered))"
      ],
      "execution_count": 0,
      "outputs": []
    },
    {
      "cell_type": "code",
      "metadata": {
        "_uuid": "32e75ae4b01dcafb295fceb59a1f973b1d5d4b86",
        "colab_type": "code",
        "id": "RJq0S8Tw1Znb",
        "colab": {}
      },
      "source": [
        "new_df['Body'] = new_df['Body'].apply(lambda x: lemitizeWords(x)) \n",
        "new_df['Body'] = new_df['Body'].apply(lambda x: stopWordsRemove(x)) "
      ],
      "execution_count": 0,
      "outputs": []
    },
    {
      "cell_type": "markdown",
      "metadata": {
        "_uuid": "8ae7426282e33a923238b13dddf083700bfaa360",
        "colab_type": "text",
        "id": "wSG3mNdR1Znj"
      },
      "source": [
        "**1.2.3 Title**"
      ]
    },
    {
      "cell_type": "code",
      "metadata": {
        "_uuid": "5151ce53b67e2a7a94565e28171d4dded9f3c390",
        "colab_type": "code",
        "id": "GVH77k7W1Znj",
        "colab": {}
      },
      "source": [
        "new_df['Title'] = new_df['Title'].apply(lambda x: str(x))\n",
        "new_df['Title'] = new_df['Title'].apply(lambda x: clean_text(x)) \n",
        "new_df['Title'] = new_df['Title'].apply(lambda x: clean_punct(x)) \n",
        "new_df['Title'] = new_df['Title'].apply(lambda x: lemitizeWords(x)) \n",
        "new_df['Title'] = new_df['Title'].apply(lambda x: stopWordsRemove(x)) "
      ],
      "execution_count": 0,
      "outputs": []
    },
    {
      "cell_type": "markdown",
      "metadata": {
        "_uuid": "fe90f28a386d20375d1ec8c40dec91684802142e",
        "colab_type": "text",
        "id": "3b4zmjvx1Znr"
      },
      "source": [
        "**1.3 EDA**"
      ]
    },
    {
      "cell_type": "markdown",
      "metadata": {
        "_uuid": "7103674c5e35809eb0b89c0fa86bdb1ec2f76af9",
        "colab_type": "text",
        "id": "Fy7aJpnT1Znr"
      },
      "source": [
        "Here I'll just use some LDA to see if shows any paterns in words and the main topics.  "
      ]
    },
    {
      "cell_type": "code",
      "metadata": {
        "_uuid": "14aee1be48cf9da95ba0b6f4425ba99a13713d40",
        "colab_type": "code",
        "id": "nNhNwbZQ1Zns",
        "colab": {}
      },
      "source": [
        "no_topics = 20"
      ],
      "execution_count": 0,
      "outputs": []
    },
    {
      "cell_type": "code",
      "metadata": {
        "_uuid": "bdba110b6091d86d5af652c2c54caf688690e82f",
        "colab_type": "code",
        "id": "rkOBE81K1Znt",
        "colab": {}
      },
      "source": [
        "text = new_df['Body']"
      ],
      "execution_count": 0,
      "outputs": []
    },
    {
      "cell_type": "code",
      "metadata": {
        "_uuid": "42b4c014172c9e2b55705d5e80f7e0a0d5d0424f",
        "colab_type": "code",
        "id": "JSIQ59tA1Znx",
        "colab": {}
      },
      "source": [
        "vectorizer_train = TfidfVectorizer(analyzer = 'word',\n",
        "                                       min_df=0.0,\n",
        "                                       max_df = 1.0,\n",
        "                                       strip_accents = None,\n",
        "                                       encoding = 'utf-8', \n",
        "                                       preprocessor=None,\n",
        "                                       token_pattern=r\"(?u)\\S\\S+\", # Need to repeat token pattern\n",
        "                                       max_features=1000)"
      ],
      "execution_count": 0,
      "outputs": []
    },
    {
      "cell_type": "code",
      "metadata": {
        "_uuid": "70c71f3bd686f989e504d8574b645b3bc3026e84",
        "colab_type": "code",
        "id": "OrXCWjQF1Znz",
        "colab": {}
      },
      "source": [
        "TF_IDF_matrix = vectorizer_train.fit_transform(text)"
      ],
      "execution_count": 0,
      "outputs": []
    },
    {
      "cell_type": "code",
      "metadata": {
        "_uuid": "6f8c7f50bea68a8b3878bdf91da12d87434863de",
        "colab_type": "code",
        "id": "uAChqQMe1Zn1",
        "colab": {}
      },
      "source": [
        "lda = LatentDirichletAllocation(n_components=no_topics, max_iter=5, learning_method='online', learning_offset=50,random_state=11).fit(TF_IDF_matrix)"
      ],
      "execution_count": 0,
      "outputs": []
    },
    {
      "cell_type": "code",
      "metadata": {
        "_uuid": "07526c92eb492e38f47d9d1bddeedbfdb36a25a9",
        "colab_type": "code",
        "id": "QuohqT9m1Zn3",
        "outputId": "3705b584-fd10-4a35-c119-b41b25aadeb8",
        "colab": {
          "base_uri": "https://localhost:8080/",
          "height": 1000
        }
      },
      "source": [
        "def display_topics(model, feature_names, no_top_words):\n",
        "    for topic_idx, topic in enumerate(model.components_):\n",
        "        print(\"--------------------------------------------\")\n",
        "        print(\"Topic %d:\" % (topic_idx))\n",
        "        print(\" \".join([feature_names[i]\n",
        "                        for i in topic.argsort()[:-no_top_words - 1:-1]]))\n",
        "        print(\"--------------------------------------------\")\n",
        "        \n",
        "\n",
        "no_top_words = 10\n",
        "display_topics(lda, vectorizer_train.get_feature_names(), no_top_words)"
      ],
      "execution_count": 0,
      "outputs": [
        {
          "output_type": "stream",
          "text": [
            "--------------------------------------------\n",
            "Topic 0:\n",
            "function var script div html consolelog jquery id input javascript\n",
            "--------------------------------------------\n",
            "--------------------------------------------\n",
            "Topic 1:\n",
            "request password user email send server url login response username\n",
            "--------------------------------------------\n",
            "--------------------------------------------\n",
            "Topic 2:\n",
            "array item list li items arr val element loop ul\n",
            "--------------------------------------------\n",
            "--------------------------------------------\n",
            "Topic 3:\n",
            "use web service json application api server google asp.net scala\n",
            "--------------------------------------------\n",
            "--------------------------------------------\n",
            "Topic 4:\n",
            "string character line print match file text output like str\n",
            "--------------------------------------------\n",
            "--------------------------------------------\n",
            "Topic 5:\n",
            "file git ios commit branch upload device devices directory use\n",
            "--------------------------------------------\n",
            "--------------------------------------------\n",
            "Topic 6:\n",
            "file error project run use build try get version instal\n",
            "--------------------------------------------\n",
            "--------------------------------------------\n",
            "Topic 7:\n",
            "public class new string void return object static int private\n",
            "--------------------------------------------\n",
            "--------------------------------------------\n",
            "Topic 8:\n",
            "php echo spring bean hello world pointer pointers game 42\n",
            "--------------------------------------------\n",
            "--------------------------------------------\n",
            "Topic 9:\n",
            "int std const foo return function char value double struct\n",
            "--------------------------------------------\n",
            "--------------------------------------------\n",
            "Topic 10:\n",
            "certificate npm notification sign transform xcode root collection push resource\n",
            "--------------------------------------------\n",
            "--------------------------------------------\n",
            "Topic 11:\n",
            "difference font c# use convert explain java someone format examples\n",
            "--------------------------------------------\n",
            "--------------------------------------------\n",
            "Topic 12:\n",
            "use would like question data time one code find way\n",
            "--------------------------------------------\n",
            "--------------------------------------------\n",
            "Topic 13:\n",
            "view button click controller event use user app activity page\n",
            "--------------------------------------------\n",
            "--------------------------------------------\n",
            "Topic 14:\n",
            "iphone phone apple app mac os mobile test windows unit\n",
            "--------------------------------------------\n",
            "--------------------------------------------\n",
            "Topic 15:\n",
            "android intent layoutwidth layoutheight textview wrapcontent matchparent eandroidruntime linearlayout xml\n",
            "--------------------------------------------\n",
            "--------------------------------------------\n",
            "Topic 16:\n",
            "table query select date row value data id column name\n",
            "--------------------------------------------\n",
            "--------------------------------------------\n",
            "Topic 17:\n",
            "div image width height color css style class text scroll\n",
            "--------------------------------------------\n",
            "--------------------------------------------\n",
            "Topic 18:\n",
            "import python module random scale lock equivalent schema line last\n",
            "--------------------------------------------\n",
            "--------------------------------------------\n",
            "Topic 19:\n",
            "124 thread self def end nil error return call code\n",
            "--------------------------------------------\n"
          ],
          "name": "stdout"
        }
      ]
    },
    {
      "cell_type": "markdown",
      "metadata": {
        "_uuid": "709f989864c43312c2a3606583be434572b75e40",
        "colab_type": "text",
        "id": "73ltfygW1Zn5"
      },
      "source": [
        "It's a bit disappointing but I'm certain that it can be done better. "
      ]
    },
    {
      "cell_type": "markdown",
      "metadata": {
        "_uuid": "119c8c35293cccd9627b58544acaaf06b4cb32d2",
        "colab_type": "text",
        "id": "KNSXjs8f1Zn5"
      },
      "source": [
        "**PART 2: Classical classifiers**"
      ]
    },
    {
      "cell_type": "markdown",
      "metadata": {
        "_uuid": "4d7d89ca6323645d6bf722bd572852edc2b9571c",
        "colab_type": "text",
        "id": "GCGhFhwM1Zn8"
      },
      "source": [
        "**2.1 Data preparation**"
      ]
    },
    {
      "cell_type": "markdown",
      "metadata": {
        "_uuid": "ccbc4065cdf68e9ef58fcad2889fc7454372425a",
        "colab_type": "text",
        "id": "Jk0kB2tH1Zn9"
      },
      "source": [
        "Now our data is almost ready to be put into a classifier. I just need to:\n",
        "* Binarize the tags\n",
        "* Use a TFIDF for body and Title\n",
        "The parameters in the TFIDF are very important for the performance of our tags since we don't want him to delete words like c# or.net. To do that we need to use the following pattern : token_pattern=r\"(?u)\\S\\S+\""
      ]
    },
    {
      "cell_type": "code",
      "metadata": {
        "_uuid": "8640de349b18ea297f15c3d3eed3836d3ed19e14",
        "colab_type": "code",
        "id": "USboTJiF1Zn9",
        "colab": {}
      },
      "source": [
        "X1 = new_df['Body']\n",
        "X2 = new_df['Title']\n",
        "y = new_df['Tags']"
      ],
      "execution_count": 0,
      "outputs": []
    },
    {
      "cell_type": "code",
      "metadata": {
        "_uuid": "a4669f647cb5a147710294f1116ac4e2f29f50d7",
        "colab_type": "code",
        "id": "ZrQ0jNSx1ZoA",
        "outputId": "8d43ab45-30b3-4739-d5d0-5a8a53a576f3",
        "colab": {
          "base_uri": "https://localhost:8080/",
          "height": 53
        }
      },
      "source": [
        "# -- binary multiclass --\n",
        "multilabel_binarizer = MultiLabelBinarizer()\n",
        "y_bin = multilabel_binarizer.fit_transform(y)\n",
        "\n",
        "# -- integer multiclass --\n",
        "# tags preprocessing \n",
        "y_ls = []\n",
        "for e in y.values:\n",
        "    y_ls.append(str(e))\n",
        "\n",
        "# print(len(y_ls))    \n",
        "lbl_enc = preprocessing.LabelEncoder()\n",
        "y_int = lbl_enc.fit_transform(y_ls)\n",
        "\n",
        "# -- test number of tags --\n",
        "data = {'val': (y_ls)}\n",
        "df =  DataFrame(data)\n",
        "print(df.val.nunique())\n",
        "print(y_int.max())"
      ],
      "execution_count": 0,
      "outputs": [
        {
          "output_type": "stream",
          "text": [
            "1973\n",
            "1972\n"
          ],
          "name": "stdout"
        }
      ]
    },
    {
      "cell_type": "code",
      "metadata": {
        "_uuid": "e8fd01469710da8a69fc45de00d37901d570814a",
        "colab_type": "code",
        "id": "9P_6-MYI1ZoB",
        "colab": {}
      },
      "source": [
        "vectorizer_X1 = TfidfVectorizer(analyzer = 'word',\n",
        "                                       min_df=0.0,\n",
        "                                       max_df = 1.0,\n",
        "                                       strip_accents = None,\n",
        "                                       encoding = 'utf-8', \n",
        "                                       preprocessor=None,\n",
        "                                       token_pattern=r\"(?u)\\S\\S+\",\n",
        "                                       max_features=1000)\n",
        "\n",
        "vectorizer_X2 = TfidfVectorizer(analyzer = 'word',\n",
        "                                       min_df=0.0,\n",
        "                                       max_df = 1.0,\n",
        "                                       strip_accents = None,\n",
        "                                       encoding = 'utf-8', \n",
        "                                       preprocessor=None,\n",
        "                                       token_pattern=r\"(?u)\\S\\S+\",\n",
        "                                       max_features=1000)"
      ],
      "execution_count": 0,
      "outputs": []
    },
    {
      "cell_type": "code",
      "metadata": {
        "_uuid": "2fa0c121a6510f161df99e7fd882534214a8e380",
        "colab_type": "code",
        "id": "lRgz6v4M1ZoD",
        "colab": {}
      },
      "source": [
        "X1_tfidf = vectorizer_X1.fit_transform(X1)\n",
        "X2_tfidf = vectorizer_X2.fit_transform(X2)"
      ],
      "execution_count": 0,
      "outputs": []
    },
    {
      "cell_type": "code",
      "metadata": {
        "_uuid": "d241fca148de1384e5323d2b194feb52727d14e1",
        "colab_type": "code",
        "id": "TmkDgJWR1ZoE",
        "colab": {}
      },
      "source": [
        "X_tfidf = hstack([X1_tfidf,X2_tfidf])"
      ],
      "execution_count": 0,
      "outputs": []
    },
    {
      "cell_type": "code",
      "metadata": {
        "_uuid": "1219d6cdc1f1d27c90910659f1be21a917f9288e",
        "colab_type": "code",
        "id": "5v2AwiZs1ZoG",
        "colab": {}
      },
      "source": [
        "# -- binary multiclass --\n",
        "X_train, X_test, y_train, y_test = train_test_split(X_tfidf, y_bin, test_size = 0.1, random_state = 1) # Do 80/20 split"
      ],
      "execution_count": 0,
      "outputs": []
    },
    {
      "cell_type": "markdown",
      "metadata": {
        "_uuid": "d9ba6707c5aef3d55a7a5a8d33182c87d83af703",
        "colab_type": "text",
        "id": "G3cYoMun1ZoI"
      },
      "source": [
        "Now it's finally ready. "
      ]
    },
    {
      "cell_type": "markdown",
      "metadata": {
        "_uuid": "6755c0843211713e0b4bf90cb4618cfdaa9fef85",
        "colab_type": "text",
        "id": "UzaVONms1ZoJ"
      },
      "source": [
        "**2.2 One vs Rest**"
      ]
    },
    {
      "cell_type": "markdown",
      "metadata": {
        "id": "PcMg9xgR8yQH",
        "colab_type": "text"
      },
      "source": [
        "2.2.1 Define different loss for performance evaluation, including:\n",
        "\n",
        "     1. multi class log loss\n",
        "\n",
        "     2. Jacard score\n",
        "\n",
        "     3. Hamming loss\n",
        "\n",
        "     4. Precision, recall"
      ]
    },
    {
      "cell_type": "code",
      "metadata": {
        "id": "-KkzTda-8yQI",
        "colab_type": "code",
        "colab": {}
      },
      "source": [
        "def multiclass_logloss(actual, predicted, eps=1e-15):\n",
        "    \"\"\"对数损失度量（Logarithmic Loss  Metric）的多分类版本。\n",
        "    :param actual: 包含actual target classes的数组\n",
        "    :param predicted: 分类预测结果矩阵, 每个类别都有一个概率\n",
        "    \"\"\"\n",
        "    # Convert 'actual' to a binary array if it's not already:\n",
        "    if len(actual.shape) == 1:\n",
        "        actual2 = np.zeros((actual.shape[0], predicted.shape[1]))\n",
        "        for i, val in enumerate(actual):\n",
        "            actual2[i, val] = 1\n",
        "        actual = actual2\n",
        "\n",
        "    clip = np.clip(predicted, eps, 1 - eps)\n",
        "    rows = actual.shape[0]\n",
        "    vsota = np.sum(actual * np.log(clip))\n",
        "    return -1.0 / rows * vsota\n",
        "\n",
        "def avg_jacard(y_true,y_pred):\n",
        "    '''\n",
        "    see https://en.wikipedia.org/wiki/Multi-label_classification#Statistics_and_evaluation_metrics\n",
        "    '''\n",
        "    jacard = np.minimum(y_true,y_pred).sum(axis=1) / np.maximum(y_true,y_pred).sum(axis=1)\n",
        "    \n",
        "    return jacard.mean()*100\n",
        "\n",
        "def hamming_loss_percent(y_true,y_pred):\n",
        "    '''\n",
        "    see https://en.wikipedia.org/wiki/Multi-label_classification#Statistics_and_evaluation_metrics\n",
        "    '''\n",
        "    loss = hamming_loss(y_true, y_pred)\n",
        "    \n",
        "    return loss*100\n",
        "\n",
        "def accuracy(tags_predict, tags_true, prob_threshold):\n",
        "    '''\n",
        "    tag_dim indicate the num of tags\n",
        "    :param tags_predict: shape [batch_size, tag_dim]\n",
        "    :param tags_true: shape [batch_size, tag_dim]\n",
        "    :param prob_threshold: float from 0 to 1\n",
        "    :return: acc: the average accuracy of predictions for batch size examples\n",
        "    '''\n",
        "    # make sure it's numpy\n",
        "    tags_predict = np.array(tags_predict).astype(float)\n",
        "    tags_true = np.array(tags_true).astype(float)\n",
        "    if tags_predict.ndim>1:\n",
        "        N = tags_predict.shape[0]\n",
        "    else:\n",
        "        N=1\n",
        "    # print('N:', N)\n",
        "\n",
        "    tags_predict_mix = np.where(tags_predict >= prob_threshold, 1, tags_predict)  # mix of prob and 1\n",
        "    tags_predict_binary = np.where(tags_predict >= prob_threshold, 1, 0) # 0 or 1\n",
        "\n",
        "    # right = np.sum(tags_predict_binary*tags_true)\n",
        "    # wrong = np.sum(tags_predict_mix)-right\n",
        "\n",
        "    right = np.sum(tags_predict_binary * tags_true)\n",
        "    wrong = np.sum(tags_predict_binary) - right\n",
        "    # print('right', right)\n",
        "    # print('wrong', wrong)\n",
        "\n",
        "    acc = (right - wrong)/N\n",
        "    if acc < 0:\n",
        "        acc = 0\n",
        "    return acc\n",
        "\n",
        "\n",
        "def evaluation(tags_predict, tags_true, prob_threshold, name_type):\n",
        "    '''\n",
        "    Give evaluation of the prediction for true tags\n",
        "    :param tags_predict: shape [batch_size, tag_dim]\n",
        "    :param tags_true: shape [batch_size, tag_dim]\n",
        "    :param prob_threshold: float from 0 to 1\n",
        "    :param name_type: str, evaluation type: 'precision', 'recall'('sensitivity')\n",
        "    :return: eval: the average evaluation of predictions for batch size examples\n",
        "    '''\n",
        "    # make sure it's numpy\n",
        "    tags_predict = np.array(tags_predict).astype(float)\n",
        "    tags_true = np.array(tags_true).astype(float)\n",
        "    if tags_predict.ndim > 1:\n",
        "        N = tags_predict.shape[0]\n",
        "    else:\n",
        "        N = 1\n",
        "\n",
        "    tags_predict_mix = np.where(tags_predict >= prob_threshold, 1, tags_predict)  # mix of prob and 1\n",
        "    tags_predict_binary = np.where(tags_predict >= prob_threshold, 1, 0)  # 0 or 1\n",
        "\n",
        "    if name_type == 'precision':\n",
        "        TP = np.sum(tags_predict_binary * tags_true)\n",
        "        TPFP = np.sum(tags_predict_binary)\n",
        "        eval = TP / (TPFP*1.0)\n",
        "    elif name_type == 'recall':\n",
        "        TP = np.sum(tags_predict_binary * tags_true)\n",
        "        TPFN = np.sum(tags_true)\n",
        "        eval = TP / (TPFN*1.0)\n",
        "    else:\n",
        "        print('NOT supported, please set type(arg3) as: precision/ recall')\n",
        "        eval = 0\n",
        "\n",
        "    return eval\n",
        "\n",
        "def print_score(*args):\n",
        "\n",
        "    Hloss = hamming_loss(y_test, args[1])\n",
        "    acc = accuracy(args[1], y_test, 0.5)*100\n",
        "    Jscore = avg_jacard(y_test, args[1])\n",
        "\n",
        "    print(\"---\")\n",
        "    print(\"Clf: \", args[0].__class__.__name__)\n",
        "    print(\"Jacard score: {}\".format(avg_jacard(y_test, args[1])))\n",
        "    print(\"Hamming loss: {}\".format(hamming_loss(y_test, args[1])))\n",
        "    print(\"Precision: {}\".format(accuracy(args[1], y_test, 0.5)*100))\n",
        "    print(\"---\")    \n",
        "\n",
        "    return Hloss, acc, Jscore\n",
        "\n",
        "def plot_performance(P_ls):\n",
        "  y_lable = ['Jacard score ', '% of precision ', 'Hamming Loss ']\n",
        "  scale_ls = range(5)\n",
        "  x_label = ['LinearRegression', 'RandomForest', 'MultinomialNB', 'SVC', 'PAC']\n",
        "\n",
        "  HL = []\n",
        "  JS = []\n",
        "  AC = []\n",
        "\n",
        "  h_ls = [JS,AC,HL]\n",
        "\n",
        "  \n",
        "  # for j in range(len(P_ls)):\n",
        "  #   P_ls[j]\n",
        "  #   for i in range(len(P_ls[j])):\n",
        "  #     h_ls[i].append(P_ls[j][i])\n",
        "\n",
        "  for k in range(3):  \n",
        "    plt.plot(P_ls[k])\n",
        "    plt.xticks(scale_ls,x_label)\n",
        "    plt.xlabel('model')\n",
        "    plt.ylabel(y_lable[k])\n",
        "    plt.title(y_lable[k]+'versus models')\n",
        "    plt.show()\n",
        "    plt.close()\n",
        "\n",
        "  print(HL)"
      ],
      "execution_count": 0,
      "outputs": []
    },
    {
      "cell_type": "markdown",
      "metadata": {
        "id": "ERWH0KSj8yQN",
        "colab_type": "text"
      },
      "source": [
        "2.2.2 Define the one vs rest models used, including:\n",
        "\n",
        "     1. Simple logistic regression model\n",
        "\n",
        "     2. Xgboost_classifier/Xgboost_randomForest\n",
        "\n",
        "     3. MultinomialNB\n",
        "\n",
        "     4. Linear SVC\n",
        "\n",
        "     5. MLP"
      ]
    },
    {
      "cell_type": "code",
      "metadata": {
        "id": "3W7qmwu98yQO",
        "colab_type": "code",
        "colab": {}
      },
      "source": [
        "# Logistic Regression based on TF-IDF \n",
        "clf_logistic = (LogisticRegression(C=3.78, penalty='l1'))\n",
        "# clf_logistic1 = (LogisticRegression(C=10, penalty='l1'))\n",
        "\n",
        "\n",
        "# XGBoost based on TF-IDF\n",
        "clf_xg = (xgb.XGBClassifier(max_depth=9, n_estimators=200, colsample_bytree=0.8, gpu_id=0, \n",
        "                        subsample=0.8, nthread=12, learning_rate=0.01))\n",
        "\n",
        "clf_xgRF = (xgb.XGBRFClassifier(max_depth=9, n_estimators=200, colsample_bytree=0.8, gpu_id=0,\n",
        "                        subsample=0.8, nthread=12, learning_rate=0.01))\n",
        "\n",
        "# MultinomialNB\n",
        "clf_mult = (MultinomialNB())\n",
        "\n",
        "# Linear SVC\n",
        "clf_Lsvc =  (LinearSVC(C=0.96))\n",
        "\n",
        "# PAC\n",
        "clf_pac = PassiveAggressiveClassifier(C=0.104, loss='hinge')\n",
        "\n",
        "# SGD\n",
        "clf_sgd = SGDClassifier()\n",
        "\n",
        "# Form a list of classifiers\n",
        "clf_ls = [clf_logistic, clf_xgRF, clf_mult, clf_Lsvc, clf_pac]\n",
        "# clf_ls = [clf_logistic, clf_mult, clf_xg, clf_xgRF, clf_svc]\n",
        "# clf_ls = [clf_xg, clf_xgRF, clf_mult, clf_svc]\n",
        "# clf_ls = [clf_pac, clf_mult]"
      ],
      "execution_count": 0,
      "outputs": []
    },
    {
      "cell_type": "markdown",
      "metadata": {
        "id": "xnO5wlAJ8yQS",
        "colab_type": "text"
      },
      "source": [
        "2.2.3 Fit the models and save model "
      ]
    },
    {
      "cell_type": "code",
      "metadata": {
        "id": "eZ8e9HNi8yQT",
        "colab_type": "code",
        "outputId": "741616b4-6972-4bb2-c9a7-750f7c729d51",
        "colab": {
          "base_uri": "https://localhost:8080/",
          "height": 1000
        }
      },
      "source": [
        "# restore performance\n",
        "J_ls = []\n",
        "H_ls = []\n",
        "A_ls = []\n",
        "M_ls=[]\n",
        "\n",
        "# train model accourding to classifier list\n",
        "for classifier in clf_ls:\n",
        "    clf = OneVsRestClassifier(classifier)\n",
        "    if (classifier == clf_xg or classifier == clf_xgRF):\n",
        "        clf.fit(X_train.tocsc(),y_train)\n",
        "        pred_prob = clf.predict_proba(X_test.tocsc())\n",
        "        pred = clf.predict(X_test.tocsc())\n",
        "        Hloss, acc, Jscore = print_score(classifier, pred)\n",
        "        J_ls.append(Jscore)\n",
        "        H_ls.append(Hloss)\n",
        "        A_ls.append(acc)\n",
        "    else:\n",
        "        clf.fit(X_train, y_train)\n",
        "        pred = clf.predict(X_test)\n",
        "        Hloss, acc, Jscore = print_score(classifier, pred)\n",
        "        J_ls.append(Jscore)\n",
        "        H_ls.append(Hloss)\n",
        "        A_ls.append(acc)\n",
        "\n",
        "    # plot performance of each model\n",
        "    P_ls = [J_ls,A_ls,H_ls]\n",
        "\n",
        "plot_performance(P_ls)\n",
        "    \n",
        "    "
      ],
      "execution_count": 0,
      "outputs": [
        {
          "output_type": "stream",
          "text": [
            "---\n",
            "Clf:  LogisticRegression\n",
            "Jacard score: 56.45437047101449\n",
            "Hamming loss: 0.015387228260869565\n",
            "Precision: 64.82676630434783\n",
            "---\n",
            "---\n",
            "Clf:  XGBRFClassifier\n",
            "Jacard score: 56.05581974637681\n",
            "Hamming loss: 0.01532608695652174\n",
            "Precision: 65.13247282608695\n",
            "---\n",
            "---\n",
            "Clf:  MultinomialNB\n",
            "Jacard score: 45.10275135869565\n",
            "Hamming loss: 0.019748641304347826\n",
            "Precision: 43.01970108695652\n",
            "---\n",
            "---\n",
            "Clf:  LinearSVC\n",
            "Jacard score: 57.452445652173914\n",
            "Hamming loss: 0.01547554347826087\n",
            "Precision: 64.38519021739131\n",
            "---\n",
            "---\n",
            "Clf:  PassiveAggressiveClassifier\n",
            "Jacard score: 58.97418478260869\n",
            "Hamming loss: 0.014857336956521739\n",
            "Precision: 67.47622282608695\n",
            "---\n"
          ],
          "name": "stdout"
        },
        {
          "output_type": "display_data",
          "data": {
            "image/png": "[encoded data removed]",
            "text/plain": [
              "<Figure size 432x288 with 1 Axes>"
            ]
          },
          "metadata": {
            "tags": []
          }
        },
        {
          "output_type": "display_data",
          "data": {
            "image/png": "[encoded data removed]",
            "text/plain": [
              "<Figure size 432x288 with 1 Axes>"
            ]
          },
          "metadata": {
            "tags": []
          }
        },
        {
          "output_type": "display_data",
          "data": {
            "image/png": "[encoded data removed]",
            "text/plain": [
              "<Figure size 432x288 with 1 Axes>"
            ]
          },
          "metadata": {
            "tags": []
          }
        },
        {
          "output_type": "stream",
          "text": [
            "[]\n"
          ],
          "name": "stdout"
        }
      ]
    },
    {
      "cell_type": "markdown",
      "metadata": {
        "id": "_T1GzX_SAmrq",
        "colab_type": "text"
      },
      "source": [
        "2.2.4 Grid Search"
      ]
    },
    {
      "cell_type": "code",
      "metadata": {
        "id": "lVf2QaTi2X1O",
        "colab_type": "code",
        "outputId": "8500ab7a-e88c-4ff2-9ecd-80b499ed7ed8",
        "colab": {
          "base_uri": "https://localhost:8080/",
          "height": 1000
        }
      },
      "source": [
        "# \"\"\"\n",
        "# Chosen Parameters:\n",
        "#   LinearSVC: C=1, penalty=l1\n",
        "\n",
        "\n",
        "# \"\"\"\n",
        "\n",
        "# Define score\n",
        "jacard_scorer = metrics.make_scorer(avg_jacard, needs_proba=False)\n",
        "Loss_score = metrics.make_scorer(hamming_loss_percent, greater_is_better=False, needs_proba=False)\n",
        "score_ls = [jacard_scorer,]\n",
        "\n",
        "# define pipeline \n",
        "# Lsvc = OneVsRestClassifier(LinearSVC())\n",
        "# lr = OneVsRestClassifier(LogisticRegression())\n",
        "\n",
        "clf = pipeline.Pipeline([('Lsvc', OneVsRestClassifier(clf_Lsvc))])\n",
        "\n",
        "# define param grid\n",
        "param_grid = {'Lsvc__estimator__C': np.linspace(0.8,1.2,10),}\n",
        "        # 'Lsvc__estimator__penalty': ['l1', 'l2']}\n",
        "\n",
        "        # 'lr__C': [0.8, 1.0, 1.2], \n",
        "        # 'lr__penalty': ['l1', 'l2']\n",
        "\n",
        "# Initialize Grid Search\n",
        "SVC_search_result = []\n",
        "for score in score_ls:\n",
        "  # Re-split dataset into train and test(80/20)\n",
        "  X_train, X_test, y_train, y_test = train_test_split(X_tfidf, y_bin, test_size = 0.5, random_state = 1)\n",
        "  model = model_selection.GridSearchCV(estimator=clf, param_grid=param_grid, scoring=score,\n",
        "                  verbose=10, cv=5)\n",
        "\n",
        "  # Fit model\n",
        "  model.fit(X_train, y_train)\n",
        "\n",
        "  print(\"Best score: %0.3f\" % model.best_score_)\n",
        "  print(\"Best parameters set:\")\n",
        "  best_parameters = model.best_estimator_.get_params()\n",
        "  for param_name in sorted(param_grid.keys()):\n",
        "      print(\"\\t%s: %r\" % (param_name, best_parameters[param_name]))\n",
        "\n",
        "  SVC_search_result.append(model.cv_results_)\n",
        "\n"
      ],
      "execution_count": 0,
      "outputs": [
        {
          "output_type": "stream",
          "text": [
            "Fitting 5 folds for each of 10 candidates, totalling 50 fits\n",
            "[CV] Lsvc__estimator__C=0.8 ..........................................\n"
          ],
          "name": "stdout"
        },
        {
          "output_type": "stream",
          "text": [
            "[Parallel(n_jobs=1)]: Using backend SequentialBackend with 1 concurrent workers.\n"
          ],
          "name": "stderr"
        },
        {
          "output_type": "stream",
          "text": [
            "[CV] ............. Lsvc__estimator__C=0.8, score=54.496, total=   4.8s\n",
            "[CV] Lsvc__estimator__C=0.8 ..........................................\n"
          ],
          "name": "stdout"
        },
        {
          "output_type": "stream",
          "text": [
            "[Parallel(n_jobs=1)]: Done   1 out of   1 | elapsed:    4.8s remaining:    0.0s\n"
          ],
          "name": "stderr"
        },
        {
          "output_type": "stream",
          "text": [
            "[CV] ............. Lsvc__estimator__C=0.8, score=54.883, total=   4.8s\n",
            "[CV] Lsvc__estimator__C=0.8 ..........................................\n"
          ],
          "name": "stdout"
        },
        {
          "output_type": "stream",
          "text": [
            "[Parallel(n_jobs=1)]: Done   2 out of   2 | elapsed:    9.6s remaining:    0.0s\n"
          ],
          "name": "stderr"
        },
        {
          "output_type": "stream",
          "text": [
            "[CV] ............. Lsvc__estimator__C=0.8, score=54.386, total=   4.9s\n",
            "[CV] Lsvc__estimator__C=0.8 ..........................................\n"
          ],
          "name": "stdout"
        },
        {
          "output_type": "stream",
          "text": [
            "[Parallel(n_jobs=1)]: Done   3 out of   3 | elapsed:   14.5s remaining:    0.0s\n"
          ],
          "name": "stderr"
        },
        {
          "output_type": "stream",
          "text": [
            "[CV] ............. Lsvc__estimator__C=0.8, score=55.103, total=   5.0s\n",
            "[CV] Lsvc__estimator__C=0.8 ..........................................\n"
          ],
          "name": "stdout"
        },
        {
          "output_type": "stream",
          "text": [
            "[Parallel(n_jobs=1)]: Done   4 out of   4 | elapsed:   19.5s remaining:    0.0s\n"
          ],
          "name": "stderr"
        },
        {
          "output_type": "stream",
          "text": [
            "[CV] ............. Lsvc__estimator__C=0.8, score=54.390, total=   5.0s\n",
            "[CV] Lsvc__estimator__C=0.8444444444444444 ...........................\n"
          ],
          "name": "stdout"
        },
        {
          "output_type": "stream",
          "text": [
            "[Parallel(n_jobs=1)]: Done   5 out of   5 | elapsed:   24.5s remaining:    0.0s\n"
          ],
          "name": "stderr"
        },
        {
          "output_type": "stream",
          "text": [
            "[CV]  Lsvc__estimator__C=0.8444444444444444, score=54.486, total=   4.8s\n",
            "[CV] Lsvc__estimator__C=0.8444444444444444 ...........................\n"
          ],
          "name": "stdout"
        },
        {
          "output_type": "stream",
          "text": [
            "[Parallel(n_jobs=1)]: Done   6 out of   6 | elapsed:   29.3s remaining:    0.0s\n"
          ],
          "name": "stderr"
        },
        {
          "output_type": "stream",
          "text": [
            "[CV]  Lsvc__estimator__C=0.8444444444444444, score=54.887, total=   4.7s\n",
            "[CV] Lsvc__estimator__C=0.8444444444444444 ...........................\n"
          ],
          "name": "stdout"
        },
        {
          "output_type": "stream",
          "text": [
            "[Parallel(n_jobs=1)]: Done   7 out of   7 | elapsed:   34.0s remaining:    0.0s\n"
          ],
          "name": "stderr"
        },
        {
          "output_type": "stream",
          "text": [
            "[CV]  Lsvc__estimator__C=0.8444444444444444, score=54.402, total=   4.8s\n",
            "[CV] Lsvc__estimator__C=0.8444444444444444 ...........................\n"
          ],
          "name": "stdout"
        },
        {
          "output_type": "stream",
          "text": [
            "[Parallel(n_jobs=1)]: Done   8 out of   8 | elapsed:   38.8s remaining:    0.0s\n"
          ],
          "name": "stderr"
        },
        {
          "output_type": "stream",
          "text": [
            "[CV]  Lsvc__estimator__C=0.8444444444444444, score=55.095, total=   4.7s\n",
            "[CV] Lsvc__estimator__C=0.8444444444444444 ...........................\n"
          ],
          "name": "stdout"
        },
        {
          "output_type": "stream",
          "text": [
            "[Parallel(n_jobs=1)]: Done   9 out of   9 | elapsed:   43.5s remaining:    0.0s\n"
          ],
          "name": "stderr"
        },
        {
          "output_type": "stream",
          "text": [
            "[CV]  Lsvc__estimator__C=0.8444444444444444, score=54.299, total=   4.8s\n",
            "[CV] Lsvc__estimator__C=0.888888888888889 ............................\n",
            "[CV]  Lsvc__estimator__C=0.888888888888889, score=54.452, total=   4.7s\n",
            "[CV] Lsvc__estimator__C=0.888888888888889 ............................\n",
            "[CV]  Lsvc__estimator__C=0.888888888888889, score=54.881, total=   4.6s\n",
            "[CV] Lsvc__estimator__C=0.888888888888889 ............................\n",
            "[CV]  Lsvc__estimator__C=0.888888888888889, score=54.385, total=   4.8s\n",
            "[CV] Lsvc__estimator__C=0.888888888888889 ............................\n",
            "[CV]  Lsvc__estimator__C=0.888888888888889, score=55.170, total=   4.7s\n",
            "[CV] Lsvc__estimator__C=0.888888888888889 ............................\n",
            "[CV]  Lsvc__estimator__C=0.888888888888889, score=54.315, total=   4.6s\n",
            "[CV] Lsvc__estimator__C=0.9333333333333333 ...........................\n",
            "[CV]  Lsvc__estimator__C=0.9333333333333333, score=54.413, total=   4.8s\n",
            "[CV] Lsvc__estimator__C=0.9333333333333333 ...........................\n",
            "[CV]  Lsvc__estimator__C=0.9333333333333333, score=54.868, total=   4.8s\n",
            "[CV] Lsvc__estimator__C=0.9333333333333333 ...........................\n",
            "[CV]  Lsvc__estimator__C=0.9333333333333333, score=54.494, total=   4.7s\n",
            "[CV] Lsvc__estimator__C=0.9333333333333333 ...........................\n",
            "[CV]  Lsvc__estimator__C=0.9333333333333333, score=55.257, total=   4.8s\n",
            "[CV] Lsvc__estimator__C=0.9333333333333333 ...........................\n",
            "[CV]  Lsvc__estimator__C=0.9333333333333333, score=54.411, total=   4.8s\n",
            "[CV] Lsvc__estimator__C=0.9777777777777777 ...........................\n",
            "[CV]  Lsvc__estimator__C=0.9777777777777777, score=54.438, total=   5.2s\n",
            "[CV] Lsvc__estimator__C=0.9777777777777777 ...........................\n",
            "[CV]  Lsvc__estimator__C=0.9777777777777777, score=54.910, total=   5.2s\n",
            "[CV] Lsvc__estimator__C=0.9777777777777777 ...........................\n",
            "[CV]  Lsvc__estimator__C=0.9777777777777777, score=54.498, total=   5.4s\n",
            "[CV] Lsvc__estimator__C=0.9777777777777777 ...........................\n",
            "[CV]  Lsvc__estimator__C=0.9777777777777777, score=55.252, total=   5.6s\n",
            "[CV] Lsvc__estimator__C=0.9777777777777777 ...........................\n",
            "[CV]  Lsvc__estimator__C=0.9777777777777777, score=54.444, total=   5.9s\n",
            "[CV] Lsvc__estimator__C=1.0222222222222221 ...........................\n",
            "[CV]  Lsvc__estimator__C=1.0222222222222221, score=54.356, total=   6.3s\n",
            "[CV] Lsvc__estimator__C=1.0222222222222221 ...........................\n",
            "[CV]  Lsvc__estimator__C=1.0222222222222221, score=54.865, total=   5.6s\n",
            "[CV] Lsvc__estimator__C=1.0222222222222221 ...........................\n",
            "[CV]  Lsvc__estimator__C=1.0222222222222221, score=54.446, total=   5.5s\n",
            "[CV] Lsvc__estimator__C=1.0222222222222221 ...........................\n",
            "[CV]  Lsvc__estimator__C=1.0222222222222221, score=55.297, total=   5.6s\n",
            "[CV] Lsvc__estimator__C=1.0222222222222221 ...........................\n",
            "[CV]  Lsvc__estimator__C=1.0222222222222221, score=54.417, total=   5.7s\n",
            "[CV] Lsvc__estimator__C=1.0666666666666667 ...........................\n",
            "[CV]  Lsvc__estimator__C=1.0666666666666667, score=54.343, total=   5.6s\n",
            "[CV] Lsvc__estimator__C=1.0666666666666667 ...........................\n",
            "[CV]  Lsvc__estimator__C=1.0666666666666667, score=54.818, total=   5.4s\n",
            "[CV] Lsvc__estimator__C=1.0666666666666667 ...........................\n",
            "[CV]  Lsvc__estimator__C=1.0666666666666667, score=54.379, total=   5.5s\n",
            "[CV] Lsvc__estimator__C=1.0666666666666667 ...........................\n",
            "[CV]  Lsvc__estimator__C=1.0666666666666667, score=55.234, total=   5.5s\n",
            "[CV] Lsvc__estimator__C=1.0666666666666667 ...........................\n",
            "[CV]  Lsvc__estimator__C=1.0666666666666667, score=54.391, total=   5.4s\n",
            "[CV] Lsvc__estimator__C=1.1111111111111112 ...........................\n",
            "[CV]  Lsvc__estimator__C=1.1111111111111112, score=54.354, total=   5.5s\n",
            "[CV] Lsvc__estimator__C=1.1111111111111112 ...........................\n",
            "[CV]  Lsvc__estimator__C=1.1111111111111112, score=54.771, total=   5.5s\n",
            "[CV] Lsvc__estimator__C=1.1111111111111112 ...........................\n",
            "[CV]  Lsvc__estimator__C=1.1111111111111112, score=54.409, total=   5.5s\n",
            "[CV] Lsvc__estimator__C=1.1111111111111112 ...........................\n",
            "[CV]  Lsvc__estimator__C=1.1111111111111112, score=55.246, total=   5.5s\n",
            "[CV] Lsvc__estimator__C=1.1111111111111112 ...........................\n",
            "[CV]  Lsvc__estimator__C=1.1111111111111112, score=54.392, total=   5.7s\n",
            "[CV] Lsvc__estimator__C=1.1555555555555554 ...........................\n",
            "[CV]  Lsvc__estimator__C=1.1555555555555554, score=54.339, total=   5.6s\n",
            "[CV] Lsvc__estimator__C=1.1555555555555554 ...........................\n",
            "[CV]  Lsvc__estimator__C=1.1555555555555554, score=54.680, total=   5.8s\n",
            "[CV] Lsvc__estimator__C=1.1555555555555554 ...........................\n",
            "[CV]  Lsvc__estimator__C=1.1555555555555554, score=54.392, total=   5.6s\n",
            "[CV] Lsvc__estimator__C=1.1555555555555554 ...........................\n",
            "[CV]  Lsvc__estimator__C=1.1555555555555554, score=55.249, total=   5.8s\n",
            "[CV] Lsvc__estimator__C=1.1555555555555554 ...........................\n",
            "[CV]  Lsvc__estimator__C=1.1555555555555554, score=54.351, total=   5.2s\n",
            "[CV] Lsvc__estimator__C=1.2 ..........................................\n",
            "[CV] ............. Lsvc__estimator__C=1.2, score=54.303, total=   5.6s\n",
            "[CV] Lsvc__estimator__C=1.2 ..........................................\n",
            "[CV] ............. Lsvc__estimator__C=1.2, score=54.740, total=   5.6s\n",
            "[CV] Lsvc__estimator__C=1.2 ..........................................\n",
            "[CV] ............. Lsvc__estimator__C=1.2, score=54.390, total=   6.0s\n",
            "[CV] Lsvc__estimator__C=1.2 ..........................................\n",
            "[CV] ............. Lsvc__estimator__C=1.2, score=55.223, total=   6.1s\n",
            "[CV] Lsvc__estimator__C=1.2 ..........................................\n",
            "[CV] ............. Lsvc__estimator__C=1.2, score=54.385, total=   5.7s\n"
          ],
          "name": "stdout"
        },
        {
          "output_type": "stream",
          "text": [
            "[Parallel(n_jobs=1)]: Done  50 out of  50 | elapsed:  4.4min finished\n"
          ],
          "name": "stderr"
        },
        {
          "output_type": "stream",
          "text": [
            "Best score: 54.708\n",
            "Best parameters set:\n",
            "\tLsvc__estimator__C: 0.9777777777777777\n"
          ],
          "name": "stdout"
        },
        {
          "output_type": "error",
          "ename": "NameError",
          "evalue": "ignored",
          "traceback": [
            "\u001b[0;31m---------------------------------------------------------------------------\u001b[0m",
            "\u001b[0;31mNameError\u001b[0m                                 Traceback (most recent call last)",
            "\u001b[0;32m<ipython-input-77-04383152e30a>\u001b[0m in \u001b[0;36m<module>\u001b[0;34m()\u001b[0m\n\u001b[1;32m     39\u001b[0m \u001b[0;34m\u001b[0m\u001b[0m\n\u001b[1;32m     40\u001b[0m \u001b[0mplt\u001b[0m\u001b[0;34m.\u001b[0m\u001b[0mplot\u001b[0m\u001b[0;34m(\u001b[0m\u001b[0mSVC_search_result\u001b[0m\u001b[0;34m[\u001b[0m\u001b[0;36m0\u001b[0m\u001b[0;34m]\u001b[0m\u001b[0;34m.\u001b[0m\u001b[0mget\u001b[0m\u001b[0;34m(\u001b[0m\u001b[0;34m'mean_test_score'\u001b[0m\u001b[0;34m)\u001b[0m\u001b[0;34m)\u001b[0m\u001b[0;34m\u001b[0m\u001b[0;34m\u001b[0m\u001b[0m\n\u001b[0;32m---> 41\u001b[0;31m \u001b[0mplt\u001b[0m\u001b[0;34m.\u001b[0m\u001b[0mxticks\u001b[0m\u001b[0;34m(\u001b[0m\u001b[0mscale_ls\u001b[0m\u001b[0;34m,\u001b[0m \u001b[0msca_ls\u001b[0m\u001b[0;34m)\u001b[0m\u001b[0;34m\u001b[0m\u001b[0;34m\u001b[0m\u001b[0m\n\u001b[0m\u001b[1;32m     42\u001b[0m \u001b[0mplt\u001b[0m\u001b[0;34m.\u001b[0m\u001b[0mxlabel\u001b[0m\u001b[0;34m(\u001b[0m\u001b[0;34m'learning rate'\u001b[0m\u001b[0;34m)\u001b[0m\u001b[0;34m\u001b[0m\u001b[0;34m\u001b[0m\u001b[0m\n\u001b[1;32m     43\u001b[0m \u001b[0mplt\u001b[0m\u001b[0;34m.\u001b[0m\u001b[0mylabel\u001b[0m\u001b[0;34m(\u001b[0m\u001b[0;34m'Jaccard score'\u001b[0m\u001b[0;34m)\u001b[0m\u001b[0;34m\u001b[0m\u001b[0;34m\u001b[0m\u001b[0m\n",
            "\u001b[0;31mNameError\u001b[0m: name 'sca_ls' is not defined"
          ]
        },
        {
          "output_type": "display_data",
          "data": {
            "image/png": "[encoded data removed]",
            "text/plain": [
              "<Figure size 432x288 with 1 Axes>"
            ]
          },
          "metadata": {
            "tags": []
          }
        }
      ]
    },
    {
      "cell_type": "code",
      "metadata": {
        "id": "0IscxLLreaDe",
        "colab_type": "code",
        "outputId": "956da865-f487-4c7f-8857-14ed9e52484f",
        "colab": {
          "base_uri": "https://localhost:8080/",
          "height": 314
        }
      },
      "source": [
        "scale_ls = range(10)\n",
        "lr_ls = np.around(np.linspace(0.8,1.2,10),2)\n",
        "\n",
        "plt.plot(SVC_search_result[0].get('mean_test_score'))\n",
        "plt.xticks(scale_ls, lr_ls)\n",
        "plt.xlabel('learning rate')\n",
        "plt.ylabel('Jaccard score')\n",
        "plt.title('Jaccard score versus learning rate on SVC')"
      ],
      "execution_count": 0,
      "outputs": [
        {
          "output_type": "execute_result",
          "data": {
            "text/plain": [
              "Text(0.5, 1.0, 'Jaccard score versus learning rate on SVC')"
            ]
          },
          "metadata": {
            "tags": []
          },
          "execution_count": 80
        },
        {
          "output_type": "display_data",
          "data": {
            "image/png": "[encoded data removed]",
            "text/plain": [
              "<Figure size 432x288 with 1 Axes>"
            ]
          },
          "metadata": {
            "tags": []
          }
        }
      ]
    },
    {
      "cell_type": "code",
      "metadata": {
        "id": "WMpYYnxfCBtn",
        "colab_type": "code",
        "outputId": "eac829b3-299c-4572-802b-c4f850f1e0b2",
        "colab": {
          "base_uri": "https://localhost:8080/",
          "height": 1000
        }
      },
      "source": [
        "# \"\"\"\n",
        "# Chosen Parameters:\n",
        "#   LinearRegression: C=1, penalty=l1\n",
        "\n",
        "# \"\"\"\n",
        "\n",
        "# Define score\n",
        "jacard_scorer = metrics.make_scorer(avg_jacard, needs_proba=False)\n",
        "Loss_score = metrics.make_scorer(hamming_loss_percent, greater_is_better=False, needs_proba=False)\n",
        "score_ls = [jacard_scorer,]\n",
        "\n",
        "# define pipeline \n",
        "# Lsvc = OneVsRestClassifier(LinearSVC())\n",
        "# lr = OneVsRestClassifier(LogisticRegression())\n",
        "\n",
        "clf = pipeline.Pipeline([('Lr', OneVsRestClassifier(clf_logistic))])\n",
        "\n",
        "# define param grid\n",
        "param_grid = {'Lr__estimator__C': np.linspace(2,6,10),}\n",
        "        # 'Lr__estimator__penalty': ['l1', 'l2']}\n",
        "\n",
        "# Initialize Grid Search\n",
        "Lr_search_result = []\n",
        "for score in score_ls:\n",
        "  # Re-split dataset into train and test(80/20)\n",
        "  X_train, X_test, y_train, y_test = train_test_split(X_tfidf, y_bin, test_size = 0.5, random_state = 1)\n",
        "  model = model_selection.GridSearchCV(estimator=clf, param_grid=param_grid, scoring=score,\n",
        "                  verbose=10, cv=5)\n",
        "\n",
        "  # Fit model\n",
        "  model.fit(X_train, y_train)\n",
        "\n",
        "  print(\"Best score: %0.3f\" % model.best_score_)\n",
        "  print(\"Best parameters set:\")\n",
        "  best_parameters = model.best_estimator_.get_params()\n",
        "  for param_name in sorted(param_grid.keys()):\n",
        "      print(\"\\t%s: %r\" % (param_name, best_parameters[param_name]))\n",
        "\n",
        "  Lr_search_result.append(model.cv_results_)"
      ],
      "execution_count": 0,
      "outputs": [
        {
          "output_type": "stream",
          "text": [
            "Fitting 5 folds for each of 10 candidates, totalling 50 fits\n",
            "[CV] Lr__estimator__C=2.0 ............................................\n"
          ],
          "name": "stdout"
        },
        {
          "output_type": "stream",
          "text": [
            "[Parallel(n_jobs=1)]: Using backend SequentialBackend with 1 concurrent workers.\n"
          ],
          "name": "stderr"
        },
        {
          "output_type": "stream",
          "text": [
            "[CV] ............... Lr__estimator__C=2.0, score=54.644, total=  20.4s\n",
            "[CV] Lr__estimator__C=2.0 ............................................\n"
          ],
          "name": "stdout"
        },
        {
          "output_type": "stream",
          "text": [
            "[Parallel(n_jobs=1)]: Done   1 out of   1 | elapsed:   20.4s remaining:    0.0s\n"
          ],
          "name": "stderr"
        },
        {
          "output_type": "stream",
          "text": [
            "[CV] ............... Lr__estimator__C=2.0, score=55.168, total=  19.7s\n",
            "[CV] Lr__estimator__C=2.0 ............................................\n"
          ],
          "name": "stdout"
        },
        {
          "output_type": "stream",
          "text": [
            "[Parallel(n_jobs=1)]: Done   2 out of   2 | elapsed:   40.0s remaining:    0.0s\n"
          ],
          "name": "stderr"
        },
        {
          "output_type": "stream",
          "text": [
            "[CV] ............... Lr__estimator__C=2.0, score=54.867, total=  20.2s\n",
            "[CV] Lr__estimator__C=2.0 ............................................\n"
          ],
          "name": "stdout"
        },
        {
          "output_type": "stream",
          "text": [
            "[Parallel(n_jobs=1)]: Done   3 out of   3 | elapsed:  1.0min remaining:    0.0s\n"
          ],
          "name": "stderr"
        },
        {
          "output_type": "stream",
          "text": [
            "[CV] ............... Lr__estimator__C=2.0, score=55.611, total=  19.8s\n",
            "[CV] Lr__estimator__C=2.0 ............................................\n"
          ],
          "name": "stdout"
        },
        {
          "output_type": "stream",
          "text": [
            "[Parallel(n_jobs=1)]: Done   4 out of   4 | elapsed:  1.3min remaining:    0.0s\n"
          ],
          "name": "stderr"
        },
        {
          "output_type": "stream",
          "text": [
            "[CV] ............... Lr__estimator__C=2.0, score=54.603, total=  19.8s\n",
            "[CV] Lr__estimator__C=2.4444444444444446 .............................\n"
          ],
          "name": "stdout"
        },
        {
          "output_type": "stream",
          "text": [
            "[Parallel(n_jobs=1)]: Done   5 out of   5 | elapsed:  1.7min remaining:    0.0s\n"
          ],
          "name": "stderr"
        },
        {
          "output_type": "stream",
          "text": [
            "[CV]  Lr__estimator__C=2.4444444444444446, score=55.043, total=  22.7s\n",
            "[CV] Lr__estimator__C=2.4444444444444446 .............................\n"
          ],
          "name": "stdout"
        },
        {
          "output_type": "stream",
          "text": [
            "[Parallel(n_jobs=1)]: Done   6 out of   6 | elapsed:  2.0min remaining:    0.0s\n"
          ],
          "name": "stderr"
        },
        {
          "output_type": "stream",
          "text": [
            "[CV]  Lr__estimator__C=2.4444444444444446, score=55.423, total=  22.9s\n",
            "[CV] Lr__estimator__C=2.4444444444444446 .............................\n"
          ],
          "name": "stdout"
        },
        {
          "output_type": "stream",
          "text": [
            "[Parallel(n_jobs=1)]: Done   7 out of   7 | elapsed:  2.4min remaining:    0.0s\n"
          ],
          "name": "stderr"
        },
        {
          "output_type": "stream",
          "text": [
            "[CV]  Lr__estimator__C=2.4444444444444446, score=55.326, total=  23.2s\n",
            "[CV] Lr__estimator__C=2.4444444444444446 .............................\n"
          ],
          "name": "stdout"
        },
        {
          "output_type": "stream",
          "text": [
            "[Parallel(n_jobs=1)]: Done   8 out of   8 | elapsed:  2.8min remaining:    0.0s\n"
          ],
          "name": "stderr"
        },
        {
          "output_type": "stream",
          "text": [
            "[CV]  Lr__estimator__C=2.4444444444444446, score=55.850, total=  23.8s\n",
            "[CV] Lr__estimator__C=2.4444444444444446 .............................\n"
          ],
          "name": "stdout"
        },
        {
          "output_type": "stream",
          "text": [
            "[Parallel(n_jobs=1)]: Done   9 out of   9 | elapsed:  3.2min remaining:    0.0s\n"
          ],
          "name": "stderr"
        },
        {
          "output_type": "stream",
          "text": [
            "[CV]  Lr__estimator__C=2.4444444444444446, score=54.945, total=  23.7s\n",
            "[CV] Lr__estimator__C=2.888888888888889 ..............................\n",
            "[CV] . Lr__estimator__C=2.888888888888889, score=55.026, total=  26.1s\n",
            "[CV] Lr__estimator__C=2.888888888888889 ..............................\n",
            "[CV] . Lr__estimator__C=2.888888888888889, score=55.585, total=  25.7s\n",
            "[CV] Lr__estimator__C=2.888888888888889 ..............................\n",
            "[CV] . Lr__estimator__C=2.888888888888889, score=55.553, total=  25.8s\n",
            "[CV] Lr__estimator__C=2.888888888888889 ..............................\n",
            "[CV] . Lr__estimator__C=2.888888888888889, score=55.908, total=  26.9s\n",
            "[CV] Lr__estimator__C=2.888888888888889 ..............................\n",
            "[CV] . Lr__estimator__C=2.888888888888889, score=55.276, total=  25.8s\n",
            "[CV] Lr__estimator__C=3.333333333333333 ..............................\n",
            "[CV] . Lr__estimator__C=3.333333333333333, score=55.196, total=  28.8s\n",
            "[CV] Lr__estimator__C=3.333333333333333 ..............................\n",
            "[CV] . Lr__estimator__C=3.333333333333333, score=55.719, total=  28.4s\n",
            "[CV] Lr__estimator__C=3.333333333333333 ..............................\n",
            "[CV] . Lr__estimator__C=3.333333333333333, score=55.570, total=  28.8s\n",
            "[CV] Lr__estimator__C=3.333333333333333 ..............................\n",
            "[CV] . Lr__estimator__C=3.333333333333333, score=55.996, total=  29.3s\n",
            "[CV] Lr__estimator__C=3.333333333333333 ..............................\n",
            "[CV] . Lr__estimator__C=3.333333333333333, score=55.343, total=  28.2s\n",
            "[CV] Lr__estimator__C=3.7777777777777777 .............................\n",
            "[CV]  Lr__estimator__C=3.7777777777777777, score=55.258, total=  30.9s\n",
            "[CV] Lr__estimator__C=3.7777777777777777 .............................\n",
            "[CV]  Lr__estimator__C=3.7777777777777777, score=55.800, total=  31.2s\n",
            "[CV] Lr__estimator__C=3.7777777777777777 .............................\n",
            "[CV]  Lr__estimator__C=3.7777777777777777, score=55.563, total=  31.2s\n",
            "[CV] Lr__estimator__C=3.7777777777777777 .............................\n",
            "[CV]  Lr__estimator__C=3.7777777777777777, score=56.137, total=  31.3s\n",
            "[CV] Lr__estimator__C=3.7777777777777777 .............................\n",
            "[CV]  Lr__estimator__C=3.7777777777777777, score=55.294, total=  31.3s\n",
            "[CV] Lr__estimator__C=4.222222222222222 ..............................\n",
            "[CV] . Lr__estimator__C=4.222222222222222, score=55.276, total=  33.9s\n",
            "[CV] Lr__estimator__C=4.222222222222222 ..............................\n",
            "[CV] . Lr__estimator__C=4.222222222222222, score=55.786, total=  33.3s\n",
            "[CV] Lr__estimator__C=4.222222222222222 ..............................\n",
            "[CV] . Lr__estimator__C=4.222222222222222, score=55.403, total=  33.4s\n",
            "[CV] Lr__estimator__C=4.222222222222222 ..............................\n",
            "[CV] . Lr__estimator__C=4.222222222222222, score=56.018, total=  33.0s\n",
            "[CV] Lr__estimator__C=4.222222222222222 ..............................\n",
            "[CV] . Lr__estimator__C=4.222222222222222, score=55.217, total=  33.6s\n",
            "[CV] Lr__estimator__C=4.666666666666666 ..............................\n",
            "[CV] . Lr__estimator__C=4.666666666666666, score=55.228, total=  36.8s\n",
            "[CV] Lr__estimator__C=4.666666666666666 ..............................\n",
            "[CV] . Lr__estimator__C=4.666666666666666, score=55.702, total=  35.7s\n",
            "[CV] Lr__estimator__C=4.666666666666666 ..............................\n",
            "[CV] . Lr__estimator__C=4.666666666666666, score=55.290, total=  36.0s\n",
            "[CV] Lr__estimator__C=4.666666666666666 ..............................\n",
            "[CV] . Lr__estimator__C=4.666666666666666, score=55.877, total=  36.4s\n",
            "[CV] Lr__estimator__C=4.666666666666666 ..............................\n",
            "[CV] . Lr__estimator__C=4.666666666666666, score=55.222, total=  35.6s\n",
            "[CV] Lr__estimator__C=5.111111111111111 ..............................\n",
            "[CV] . Lr__estimator__C=5.111111111111111, score=55.173, total=  38.3s\n",
            "[CV] Lr__estimator__C=5.111111111111111 ..............................\n",
            "[CV] . Lr__estimator__C=5.111111111111111, score=55.513, total=  38.7s\n",
            "[CV] Lr__estimator__C=5.111111111111111 ..............................\n",
            "[CV] . Lr__estimator__C=5.111111111111111, score=55.272, total=  38.8s\n",
            "[CV] Lr__estimator__C=5.111111111111111 ..............................\n",
            "[CV] . Lr__estimator__C=5.111111111111111, score=55.818, total=  38.4s\n",
            "[CV] Lr__estimator__C=5.111111111111111 ..............................\n",
            "[CV] . Lr__estimator__C=5.111111111111111, score=55.189, total=  39.2s\n",
            "[CV] Lr__estimator__C=5.555555555555555 ..............................\n",
            "[CV] . Lr__estimator__C=5.555555555555555, score=55.018, total=  44.2s\n",
            "[CV] Lr__estimator__C=5.555555555555555 ..............................\n",
            "[CV] . Lr__estimator__C=5.555555555555555, score=55.278, total=  43.3s\n",
            "[CV] Lr__estimator__C=5.555555555555555 ..............................\n",
            "[CV] . Lr__estimator__C=5.555555555555555, score=55.196, total=  43.3s\n",
            "[CV] Lr__estimator__C=5.555555555555555 ..............................\n",
            "[CV] . Lr__estimator__C=5.555555555555555, score=55.746, total=  43.9s\n",
            "[CV] Lr__estimator__C=5.555555555555555 ..............................\n",
            "[CV] . Lr__estimator__C=5.555555555555555, score=55.178, total=  43.3s\n",
            "[CV] Lr__estimator__C=6.0 ............................................\n",
            "[CV] ............... Lr__estimator__C=6.0, score=54.875, total=  45.9s\n",
            "[CV] Lr__estimator__C=6.0 ............................................\n",
            "[CV] ............... Lr__estimator__C=6.0, score=55.096, total=  47.0s\n",
            "[CV] Lr__estimator__C=6.0 ............................................\n",
            "[CV] ............... Lr__estimator__C=6.0, score=55.145, total=  46.4s\n",
            "[CV] Lr__estimator__C=6.0 ............................................\n",
            "[CV] ............... Lr__estimator__C=6.0, score=55.703, total=  45.4s\n",
            "[CV] Lr__estimator__C=6.0 ............................................\n",
            "[CV] ............... Lr__estimator__C=6.0, score=55.134, total=  46.1s\n"
          ],
          "name": "stdout"
        },
        {
          "output_type": "stream",
          "text": [
            "[Parallel(n_jobs=1)]: Done  50 out of  50 | elapsed: 27.3min finished\n"
          ],
          "name": "stderr"
        },
        {
          "output_type": "stream",
          "text": [
            "Best score: 55.610\n",
            "Best parameters set:\n",
            "\tLr__estimator__C: 3.7777777777777777\n"
          ],
          "name": "stdout"
        }
      ]
    },
    {
      "cell_type": "code",
      "metadata": {
        "id": "9Gr4m8TTDsvd",
        "colab_type": "code",
        "outputId": "48f0620c-3016-4d72-fe1c-9ab2d95eae28",
        "colab": {
          "base_uri": "https://localhost:8080/",
          "height": 314
        }
      },
      "source": [
        "scale_ls = range(10)\n",
        "lr_ls = np.around(np.linspace(2,6,10),2)\n",
        "\n",
        "plt.plot(Lr_search_result[0].get('mean_test_score'))\n",
        "plt.xticks(scale_ls, lr_ls)\n",
        "plt.xlabel('learning rate')\n",
        "plt.ylabel('Jaccard score')\n",
        "plt.title('Jaccard score versus learning rate on LinearRegression')"
      ],
      "execution_count": 0,
      "outputs": [
        {
          "output_type": "execute_result",
          "data": {
            "text/plain": [
              "Text(0.5, 1.0, 'Jaccard score versus learning rate on LinearRegression')"
            ]
          },
          "metadata": {
            "tags": []
          },
          "execution_count": 69
        },
        {
          "output_type": "display_data",
          "data": {
            "image/png": "[encoded data removed]",
            "text/plain": [
              "<Figure size 432x288 with 1 Axes>"
            ]
          },
          "metadata": {
            "tags": []
          }
        }
      ]
    },
    {
      "cell_type": "code",
      "metadata": {
        "id": "F6H4LZpZQQwB",
        "colab_type": "code",
        "outputId": "1b5324e0-6b6f-437b-f011-c1d65a783643",
        "colab": {
          "base_uri": "https://localhost:8080/",
          "height": 1000
        }
      },
      "source": [
        "\"\"\"\n",
        "Chosen Parameters:\n",
        "  PassiveAggressiveClassifier: C=0.1, penalty=hinge\n",
        "\n",
        "\"\"\"\n",
        "\n",
        "# Define score\n",
        "jacard_scorer = metrics.make_scorer(avg_jacard, needs_proba=False)\n",
        "Loss_score = metrics.make_scorer(hamming_loss_percent, greater_is_better=False, needs_proba=False)\n",
        "score_ls = [jacard_scorer,]\n",
        "\n",
        "# define pipeline \n",
        "# Lsvc = OneVsRestClassifier(LinearSVC())\n",
        "# lr = OneVsRestClassifier(LogisticRegression())\n",
        "\n",
        "clf = pipeline.Pipeline([('pac', OneVsRestClassifier(clf_pac))])\n",
        "print(clf.get_params().keys())\n",
        "\n",
        "# define param grid\n",
        "param_grid = {'pac__estimator__C': np.linspace(0.08,0.3,10),}\n",
        "        # 'pac__estimator__loss': ['hinge', 'squared_hinge']}\n",
        "\n",
        "# Initialize Grid Search\n",
        "search_result = []\n",
        "for score in score_ls:\n",
        "  # Re-split dataset into train and test(80/20)\n",
        "  X_train, X_test, y_train, y_test = train_test_split(X_tfidf, y_bin, test_size = 0.5, random_state = 1)\n",
        "  model = model_selection.GridSearchCV(estimator=clf, param_grid=param_grid, scoring=score,\n",
        "                  verbose=10, cv=5)\n",
        "\n",
        "  # Fit model\n",
        "  model.fit(X_train, y_train)\n",
        "\n",
        "  print(\"Best score: %0.3f\" % model.best_score_)\n",
        "  print(\"Best parameters set:\")\n",
        "  best_parameters = model.best_estimator_.get_params()\n",
        "  for param_name in sorted(param_grid.keys()):\n",
        "      print(\"\\t%s: %r\" % (param_name, best_parameters[param_name]))\n",
        "\n",
        "  search_result.append(model.cv_results_)"
      ],
      "execution_count": 0,
      "outputs": [
        {
          "output_type": "stream",
          "text": [
            "dict_keys(['memory', 'steps', 'verbose', 'pac', 'pac__estimator__C', 'pac__estimator__average', 'pac__estimator__class_weight', 'pac__estimator__early_stopping', 'pac__estimator__fit_intercept', 'pac__estimator__loss', 'pac__estimator__max_iter', 'pac__estimator__n_iter_no_change', 'pac__estimator__n_jobs', 'pac__estimator__random_state', 'pac__estimator__shuffle', 'pac__estimator__tol', 'pac__estimator__validation_fraction', 'pac__estimator__verbose', 'pac__estimator__warm_start', 'pac__estimator', 'pac__n_jobs'])\n",
            "Fitting 5 folds for each of 10 candidates, totalling 50 fits\n",
            "[CV] pac__estimator__C=0.08 ..........................................\n"
          ],
          "name": "stdout"
        },
        {
          "output_type": "stream",
          "text": [
            "[Parallel(n_jobs=1)]: Using backend SequentialBackend with 1 concurrent workers.\n"
          ],
          "name": "stderr"
        },
        {
          "output_type": "stream",
          "text": [
            "[CV] ............. pac__estimator__C=0.08, score=56.027, total=   4.5s\n",
            "[CV] pac__estimator__C=0.08 ..........................................\n"
          ],
          "name": "stdout"
        },
        {
          "output_type": "stream",
          "text": [
            "[Parallel(n_jobs=1)]: Done   1 out of   1 | elapsed:    4.5s remaining:    0.0s\n"
          ],
          "name": "stderr"
        },
        {
          "output_type": "stream",
          "text": [
            "[CV] ............. pac__estimator__C=0.08, score=57.297, total=   3.9s\n",
            "[CV] pac__estimator__C=0.08 ..........................................\n"
          ],
          "name": "stdout"
        },
        {
          "output_type": "stream",
          "text": [
            "[Parallel(n_jobs=1)]: Done   2 out of   2 | elapsed:    8.4s remaining:    0.0s\n"
          ],
          "name": "stderr"
        },
        {
          "output_type": "stream",
          "text": [
            "[CV] ............. pac__estimator__C=0.08, score=56.493, total=   3.7s\n",
            "[CV] pac__estimator__C=0.08 ..........................................\n"
          ],
          "name": "stdout"
        },
        {
          "output_type": "stream",
          "text": [
            "[Parallel(n_jobs=1)]: Done   3 out of   3 | elapsed:   12.1s remaining:    0.0s\n"
          ],
          "name": "stderr"
        },
        {
          "output_type": "stream",
          "text": [
            "[CV] ............. pac__estimator__C=0.08, score=56.701, total=   4.3s\n",
            "[CV] pac__estimator__C=0.08 ..........................................\n"
          ],
          "name": "stdout"
        },
        {
          "output_type": "stream",
          "text": [
            "[Parallel(n_jobs=1)]: Done   4 out of   4 | elapsed:   16.4s remaining:    0.0s\n"
          ],
          "name": "stderr"
        },
        {
          "output_type": "stream",
          "text": [
            "[CV] ............. pac__estimator__C=0.08, score=56.387, total=   4.2s\n",
            "[CV] pac__estimator__C=0.10444444444444445 ...........................\n"
          ],
          "name": "stdout"
        },
        {
          "output_type": "stream",
          "text": [
            "[Parallel(n_jobs=1)]: Done   5 out of   5 | elapsed:   20.5s remaining:    0.0s\n"
          ],
          "name": "stderr"
        },
        {
          "output_type": "stream",
          "text": [
            "[CV]  pac__estimator__C=0.10444444444444445, score=56.707, total=   3.8s\n",
            "[CV] pac__estimator__C=0.10444444444444445 ...........................\n"
          ],
          "name": "stdout"
        },
        {
          "output_type": "stream",
          "text": [
            "[Parallel(n_jobs=1)]: Done   6 out of   6 | elapsed:   24.4s remaining:    0.0s\n"
          ],
          "name": "stderr"
        },
        {
          "output_type": "stream",
          "text": [
            "[CV]  pac__estimator__C=0.10444444444444445, score=57.042, total=   4.7s\n",
            "[CV] pac__estimator__C=0.10444444444444445 ...........................\n"
          ],
          "name": "stdout"
        },
        {
          "output_type": "stream",
          "text": [
            "[Parallel(n_jobs=1)]: Done   7 out of   7 | elapsed:   29.1s remaining:    0.0s\n"
          ],
          "name": "stderr"
        },
        {
          "output_type": "stream",
          "text": [
            "[CV]  pac__estimator__C=0.10444444444444445, score=56.711, total=   4.4s\n",
            "[CV] pac__estimator__C=0.10444444444444445 ...........................\n"
          ],
          "name": "stdout"
        },
        {
          "output_type": "stream",
          "text": [
            "[Parallel(n_jobs=1)]: Done   8 out of   8 | elapsed:   33.5s remaining:    0.0s\n"
          ],
          "name": "stderr"
        },
        {
          "output_type": "stream",
          "text": [
            "[CV]  pac__estimator__C=0.10444444444444445, score=57.262, total=   4.5s\n",
            "[CV] pac__estimator__C=0.10444444444444445 ...........................\n"
          ],
          "name": "stdout"
        },
        {
          "output_type": "stream",
          "text": [
            "[Parallel(n_jobs=1)]: Done   9 out of   9 | elapsed:   38.0s remaining:    0.0s\n"
          ],
          "name": "stderr"
        },
        {
          "output_type": "stream",
          "text": [
            "[CV]  pac__estimator__C=0.10444444444444445, score=56.642, total=   4.4s\n",
            "[CV] pac__estimator__C=0.1288888888888889 ............................\n",
            "[CV]  pac__estimator__C=0.1288888888888889, score=56.000, total=   4.4s\n",
            "[CV] pac__estimator__C=0.1288888888888889 ............................\n",
            "[CV]  pac__estimator__C=0.1288888888888889, score=57.155, total=   4.8s\n",
            "[CV] pac__estimator__C=0.1288888888888889 ............................\n",
            "[CV]  pac__estimator__C=0.1288888888888889, score=56.621, total=   4.9s\n",
            "[CV] pac__estimator__C=0.1288888888888889 ............................\n",
            "[CV]  pac__estimator__C=0.1288888888888889, score=56.928, total=   4.3s\n",
            "[CV] pac__estimator__C=0.1288888888888889 ............................\n",
            "[CV]  pac__estimator__C=0.1288888888888889, score=56.779, total=   4.4s\n",
            "[CV] pac__estimator__C=0.15333333333333332 ...........................\n",
            "[CV]  pac__estimator__C=0.15333333333333332, score=56.203, total=   5.0s\n",
            "[CV] pac__estimator__C=0.15333333333333332 ...........................\n",
            "[CV]  pac__estimator__C=0.15333333333333332, score=56.776, total=   4.9s\n",
            "[CV] pac__estimator__C=0.15333333333333332 ...........................\n",
            "[CV]  pac__estimator__C=0.15333333333333332, score=56.390, total=   5.0s\n",
            "[CV] pac__estimator__C=0.15333333333333332 ...........................\n",
            "[CV]  pac__estimator__C=0.15333333333333332, score=57.682, total=   4.5s\n",
            "[CV] pac__estimator__C=0.15333333333333332 ...........................\n",
            "[CV]  pac__estimator__C=0.15333333333333332, score=56.080, total=   5.2s\n",
            "[CV] pac__estimator__C=0.17777777777777776 ...........................\n",
            "[CV]  pac__estimator__C=0.17777777777777776, score=55.984, total=   4.6s\n",
            "[CV] pac__estimator__C=0.17777777777777776 ...........................\n",
            "[CV]  pac__estimator__C=0.17777777777777776, score=56.903, total=   5.1s\n",
            "[CV] pac__estimator__C=0.17777777777777776 ...........................\n",
            "[CV]  pac__estimator__C=0.17777777777777776, score=55.950, total=   5.1s\n",
            "[CV] pac__estimator__C=0.17777777777777776 ...........................\n",
            "[CV]  pac__estimator__C=0.17777777777777776, score=57.034, total=   4.8s\n",
            "[CV] pac__estimator__C=0.17777777777777776 ...........................\n",
            "[CV]  pac__estimator__C=0.17777777777777776, score=56.002, total=   4.5s\n",
            "[CV] pac__estimator__C=0.2022222222222222 ............................\n",
            "[CV]  pac__estimator__C=0.2022222222222222, score=55.787, total=   4.7s\n",
            "[CV] pac__estimator__C=0.2022222222222222 ............................\n",
            "[CV]  pac__estimator__C=0.2022222222222222, score=55.900, total=   4.9s\n",
            "[CV] pac__estimator__C=0.2022222222222222 ............................\n",
            "[CV]  pac__estimator__C=0.2022222222222222, score=55.971, total=   5.2s\n",
            "[CV] pac__estimator__C=0.2022222222222222 ............................\n",
            "[CV]  pac__estimator__C=0.2022222222222222, score=56.923, total=   5.0s\n",
            "[CV] pac__estimator__C=0.2022222222222222 ............................\n",
            "[CV]  pac__estimator__C=0.2022222222222222, score=56.028, total=   4.8s\n",
            "[CV] pac__estimator__C=0.22666666666666668 ...........................\n",
            "[CV]  pac__estimator__C=0.22666666666666668, score=55.052, total=   4.9s\n",
            "[CV] pac__estimator__C=0.22666666666666668 ...........................\n",
            "[CV]  pac__estimator__C=0.22666666666666668, score=55.671, total=   5.4s\n",
            "[CV] pac__estimator__C=0.22666666666666668 ...........................\n",
            "[CV]  pac__estimator__C=0.22666666666666668, score=55.627, total=   5.0s\n",
            "[CV] pac__estimator__C=0.22666666666666668 ...........................\n",
            "[CV]  pac__estimator__C=0.22666666666666668, score=56.185, total=   5.1s\n",
            "[CV] pac__estimator__C=0.22666666666666668 ...........................\n",
            "[CV]  pac__estimator__C=0.22666666666666668, score=55.590, total=   4.9s\n",
            "[CV] pac__estimator__C=0.2511111111111111 ............................\n",
            "[CV]  pac__estimator__C=0.2511111111111111, score=54.900, total=   4.9s\n",
            "[CV] pac__estimator__C=0.2511111111111111 ............................\n",
            "[CV]  pac__estimator__C=0.2511111111111111, score=55.616, total=   5.2s\n",
            "[CV] pac__estimator__C=0.2511111111111111 ............................\n",
            "[CV]  pac__estimator__C=0.2511111111111111, score=55.359, total=   5.4s\n",
            "[CV] pac__estimator__C=0.2511111111111111 ............................\n",
            "[CV]  pac__estimator__C=0.2511111111111111, score=55.610, total=   5.0s\n",
            "[CV] pac__estimator__C=0.2511111111111111 ............................\n",
            "[CV]  pac__estimator__C=0.2511111111111111, score=55.200, total=   5.1s\n",
            "[CV] pac__estimator__C=0.27555555555555555 ...........................\n",
            "[CV]  pac__estimator__C=0.27555555555555555, score=54.362, total=   4.9s\n",
            "[CV] pac__estimator__C=0.27555555555555555 ...........................\n",
            "[CV]  pac__estimator__C=0.27555555555555555, score=55.174, total=   4.9s\n",
            "[CV] pac__estimator__C=0.27555555555555555 ...........................\n",
            "[CV]  pac__estimator__C=0.27555555555555555, score=55.091, total=   5.0s\n",
            "[CV] pac__estimator__C=0.27555555555555555 ...........................\n",
            "[CV]  pac__estimator__C=0.27555555555555555, score=55.380, total=   4.8s\n",
            "[CV] pac__estimator__C=0.27555555555555555 ...........................\n",
            "[CV]  pac__estimator__C=0.27555555555555555, score=55.233, total=   5.2s\n",
            "[CV] pac__estimator__C=0.3 ...........................................\n",
            "[CV] .............. pac__estimator__C=0.3, score=54.059, total=   5.1s\n",
            "[CV] pac__estimator__C=0.3 ...........................................\n",
            "[CV] .............. pac__estimator__C=0.3, score=54.911, total=   5.3s\n",
            "[CV] pac__estimator__C=0.3 ...........................................\n",
            "[CV] .............. pac__estimator__C=0.3, score=54.779, total=   5.1s\n",
            "[CV] pac__estimator__C=0.3 ...........................................\n",
            "[CV] .............. pac__estimator__C=0.3, score=55.164, total=   5.8s\n",
            "[CV] pac__estimator__C=0.3 ...........................................\n",
            "[CV] .............. pac__estimator__C=0.3, score=54.864, total=   5.6s\n"
          ],
          "name": "stdout"
        },
        {
          "output_type": "stream",
          "text": [
            "[Parallel(n_jobs=1)]: Done  50 out of  50 | elapsed:  4.0min finished\n"
          ],
          "name": "stderr"
        },
        {
          "output_type": "stream",
          "text": [
            "Best score: 56.873\n",
            "Best parameters set:\n",
            "\tpac__estimator__C: 0.10444444444444445\n"
          ],
          "name": "stdout"
        }
      ]
    },
    {
      "cell_type": "code",
      "metadata": {
        "id": "d-Wx3FYK0Km7",
        "colab_type": "code",
        "outputId": "45a4d2eb-4d69-4b38-c380-d4d34f46a8b4",
        "colab": {
          "base_uri": "https://localhost:8080/",
          "height": 314
        }
      },
      "source": [
        "scale_ls = range(10)\n",
        "np.set_printoptions(precision=3)\n",
        "lr_ls = np.around(np.linspace(0.08,0.3,10),2)\n",
        "\n",
        "\n",
        "plt.plot(search_result[0].get('mean_test_score'))\n",
        "plt.xticks(scale_ls, lr_ls)\n",
        "plt.xlabel('learning rate')\n",
        "plt.ylabel('Jaccard score')\n",
        "plt.title('Jaccard score versus learning rate on PAC')"
      ],
      "execution_count": 0,
      "outputs": [
        {
          "output_type": "execute_result",
          "data": {
            "text/plain": [
              "Text(0.5, 1.0, 'Jaccard score versus learning rate on PAC')"
            ]
          },
          "metadata": {
            "tags": []
          },
          "execution_count": 196
        },
        {
          "output_type": "display_data",
          "data": {
            "image/png": "[encoded data removed]",
            "text/plain": [
              "<Figure size 432x288 with 1 Axes>"
            ]
          },
          "metadata": {
            "tags": []
          }
        }
      ]
    },
    {
      "cell_type": "code",
      "metadata": {
        "id": "VC7KapSAZzjb",
        "colab_type": "code",
        "outputId": "adc1bf38-b1d0-4aca-950d-e1e1918133d4",
        "colab": {
          "base_uri": "https://localhost:8080/",
          "height": 1000
        }
      },
      "source": [
        "# \"\"\"\n",
        "# Chosen Parameters:\n",
        "#   XgboostRFClassifier: C=0.1, penalty=hinge\n",
        "\n",
        "# \"\"\"\n",
        "\n",
        "# Define score\n",
        "jacard_scorer = metrics.make_scorer(avg_jacard, needs_proba=False)\n",
        "Loss_score = metrics.make_scorer(hamming_loss_percent, greater_is_better=False, needs_proba=False)\n",
        "score_ls = [jacard_scorer]\n",
        "\n",
        "# define pipeline \n",
        "clf = pipeline.Pipeline([('xgrf', OneVsRestClassifier(clf_xgRF))])\n",
        "print(clf.get_params().keys())\n",
        "\n",
        "# define param grid\n",
        "param_grid = {'xgrf__estimator__learning_rate': [0.01, 0.1, 0.2],\n",
        "        'xgrf__estimator__max_depth': [3, 6, 9]}\n",
        "        # 'xgrf__estimator__n_estimator': [100, 200, 300]}\n",
        "        # 'xgrf__estimator__gamma': [0, 0.01, 0.1, 1],\n",
        "        # 'xgrf__estimator__min_child_weight': [1, 3, 5],\n",
        "        # 'xgrf__estimator__reg_alpha': [0, 0.01, 0.1, 1]}\n",
        "        # 'xgrf__estimator__reg_lambda': [3, 5, 7, 9]}\n",
        "\n",
        "# Initialize Grid Search\n",
        "xgb_search_result = []\n",
        "for score in score_ls:\n",
        "  # Re-split dataset into train and test(80/20)\n",
        "  X_train, X_test, y_train, y_test = train_test_split(X_tfidf, y_bin, test_size = 0.9, random_state = 1)\n",
        "  model = model_selection.GridSearchCV(estimator=clf, param_grid=param_grid, scoring=score,\n",
        "                  verbose=10, cv=5)\n",
        "\n",
        "  # Fit model\n",
        "  model.fit(X_train, y_train)\n",
        "\n",
        "  print(\"Best score: %0.3f\" % model.best_score_)\n",
        "  print(\"Best parameters set:\")\n",
        "  best_parameters = model.best_estimator_.get_params()\n",
        "  for param_name in sorted(param_grid.keys()):\n",
        "      print(\"\\t%s: %r\" % (param_name, best_parameters[param_name]))\n",
        "\n",
        "  xgb_search_result.append(model.cv_results_)"
      ],
      "execution_count": 0,
      "outputs": [
        {
          "output_type": "stream",
          "text": [
            "dict_keys(['memory', 'steps', 'verbose', 'xgrf', 'xgrf__estimator__base_score', 'xgrf__estimator__colsample_bylevel', 'xgrf__estimator__colsample_bynode', 'xgrf__estimator__colsample_bytree', 'xgrf__estimator__gamma', 'xgrf__estimator__learning_rate', 'xgrf__estimator__max_delta_step', 'xgrf__estimator__max_depth', 'xgrf__estimator__min_child_weight', 'xgrf__estimator__missing', 'xgrf__estimator__n_estimators', 'xgrf__estimator__n_jobs', 'xgrf__estimator__nthread', 'xgrf__estimator__objective', 'xgrf__estimator__random_state', 'xgrf__estimator__reg_alpha', 'xgrf__estimator__reg_lambda', 'xgrf__estimator__scale_pos_weight', 'xgrf__estimator__seed', 'xgrf__estimator__silent', 'xgrf__estimator__subsample', 'xgrf__estimator__verbosity', 'xgrf__estimator__gpu_id', 'xgrf__estimator', 'xgrf__n_jobs'])\n",
            "Fitting 5 folds for each of 9 candidates, totalling 45 fits\n",
            "[CV] xgrf__estimator__learning_rate=0.01, xgrf__estimator__max_depth=3 \n"
          ],
          "name": "stdout"
        },
        {
          "output_type": "stream",
          "text": [
            "[Parallel(n_jobs=1)]: Using backend SequentialBackend with 1 concurrent workers.\n"
          ],
          "name": "stderr"
        },
        {
          "output_type": "stream",
          "text": [
            "[CV]  xgrf__estimator__learning_rate=0.01, xgrf__estimator__max_depth=3, score=46.886, total= 1.2min\n",
            "[CV] xgrf__estimator__learning_rate=0.01, xgrf__estimator__max_depth=3 \n"
          ],
          "name": "stdout"
        },
        {
          "output_type": "stream",
          "text": [
            "[Parallel(n_jobs=1)]: Done   1 out of   1 | elapsed:  1.2min remaining:    0.0s\n"
          ],
          "name": "stderr"
        },
        {
          "output_type": "stream",
          "text": [
            "[CV]  xgrf__estimator__learning_rate=0.01, xgrf__estimator__max_depth=3, score=45.621, total= 1.2min\n",
            "[CV] xgrf__estimator__learning_rate=0.01, xgrf__estimator__max_depth=3 \n"
          ],
          "name": "stdout"
        },
        {
          "output_type": "stream",
          "text": [
            "[Parallel(n_jobs=1)]: Done   2 out of   2 | elapsed:  2.4min remaining:    0.0s\n"
          ],
          "name": "stderr"
        },
        {
          "output_type": "stream",
          "text": [
            "[CV]  xgrf__estimator__learning_rate=0.01, xgrf__estimator__max_depth=3, score=46.702, total= 1.2min\n",
            "[CV] xgrf__estimator__learning_rate=0.01, xgrf__estimator__max_depth=3 \n"
          ],
          "name": "stdout"
        },
        {
          "output_type": "stream",
          "text": [
            "[Parallel(n_jobs=1)]: Done   3 out of   3 | elapsed:  3.6min remaining:    0.0s\n"
          ],
          "name": "stderr"
        },
        {
          "output_type": "stream",
          "text": [
            "[CV]  xgrf__estimator__learning_rate=0.01, xgrf__estimator__max_depth=3, score=45.809, total= 1.2min\n",
            "[CV] xgrf__estimator__learning_rate=0.01, xgrf__estimator__max_depth=3 \n"
          ],
          "name": "stdout"
        },
        {
          "output_type": "stream",
          "text": [
            "[Parallel(n_jobs=1)]: Done   4 out of   4 | elapsed:  4.8min remaining:    0.0s\n"
          ],
          "name": "stderr"
        },
        {
          "output_type": "stream",
          "text": [
            "[CV]  xgrf__estimator__learning_rate=0.01, xgrf__estimator__max_depth=3, score=47.199, total= 1.2min\n",
            "[CV] xgrf__estimator__learning_rate=0.01, xgrf__estimator__max_depth=6 \n"
          ],
          "name": "stdout"
        },
        {
          "output_type": "stream",
          "text": [
            "[Parallel(n_jobs=1)]: Done   5 out of   5 | elapsed:  6.0min remaining:    0.0s\n"
          ],
          "name": "stderr"
        },
        {
          "output_type": "stream",
          "text": [
            "[CV]  xgrf__estimator__learning_rate=0.01, xgrf__estimator__max_depth=6, score=48.220, total= 2.3min\n",
            "[CV] xgrf__estimator__learning_rate=0.01, xgrf__estimator__max_depth=6 \n"
          ],
          "name": "stdout"
        },
        {
          "output_type": "stream",
          "text": [
            "[Parallel(n_jobs=1)]: Done   6 out of   6 | elapsed:  8.2min remaining:    0.0s\n"
          ],
          "name": "stderr"
        },
        {
          "output_type": "stream",
          "text": [
            "[CV]  xgrf__estimator__learning_rate=0.01, xgrf__estimator__max_depth=6, score=48.043, total= 2.3min\n",
            "[CV] xgrf__estimator__learning_rate=0.01, xgrf__estimator__max_depth=6 \n"
          ],
          "name": "stdout"
        },
        {
          "output_type": "stream",
          "text": [
            "[Parallel(n_jobs=1)]: Done   7 out of   7 | elapsed: 10.5min remaining:    0.0s\n"
          ],
          "name": "stderr"
        },
        {
          "output_type": "stream",
          "text": [
            "[CV]  xgrf__estimator__learning_rate=0.01, xgrf__estimator__max_depth=6, score=49.191, total= 2.3min\n",
            "[CV] xgrf__estimator__learning_rate=0.01, xgrf__estimator__max_depth=6 \n"
          ],
          "name": "stdout"
        },
        {
          "output_type": "stream",
          "text": [
            "[Parallel(n_jobs=1)]: Done   8 out of   8 | elapsed: 12.8min remaining:    0.0s\n"
          ],
          "name": "stderr"
        },
        {
          "output_type": "stream",
          "text": [
            "[CV]  xgrf__estimator__learning_rate=0.01, xgrf__estimator__max_depth=6, score=47.147, total= 2.3min\n",
            "[CV] xgrf__estimator__learning_rate=0.01, xgrf__estimator__max_depth=6 \n"
          ],
          "name": "stdout"
        },
        {
          "output_type": "stream",
          "text": [
            "[Parallel(n_jobs=1)]: Done   9 out of   9 | elapsed: 15.1min remaining:    0.0s\n"
          ],
          "name": "stderr"
        },
        {
          "output_type": "stream",
          "text": [
            "[CV]  xgrf__estimator__learning_rate=0.01, xgrf__estimator__max_depth=6, score=49.762, total= 2.3min\n",
            "[CV] xgrf__estimator__learning_rate=0.01, xgrf__estimator__max_depth=9 \n",
            "[CV]  xgrf__estimator__learning_rate=0.01, xgrf__estimator__max_depth=9, score=49.946, total= 3.3min\n",
            "[CV] xgrf__estimator__learning_rate=0.01, xgrf__estimator__max_depth=9 \n",
            "[CV]  xgrf__estimator__learning_rate=0.01, xgrf__estimator__max_depth=9, score=49.211, total= 3.4min\n",
            "[CV] xgrf__estimator__learning_rate=0.01, xgrf__estimator__max_depth=9 \n",
            "[CV]  xgrf__estimator__learning_rate=0.01, xgrf__estimator__max_depth=9, score=49.708, total= 3.4min\n",
            "[CV] xgrf__estimator__learning_rate=0.01, xgrf__estimator__max_depth=9 \n",
            "[CV]  xgrf__estimator__learning_rate=0.01, xgrf__estimator__max_depth=9, score=48.520, total= 3.4min\n",
            "[CV] xgrf__estimator__learning_rate=0.01, xgrf__estimator__max_depth=9 \n",
            "[CV]  xgrf__estimator__learning_rate=0.01, xgrf__estimator__max_depth=9, score=50.293, total= 3.3min\n",
            "[CV] xgrf__estimator__learning_rate=0.1, xgrf__estimator__max_depth=3 \n",
            "[CV]  xgrf__estimator__learning_rate=0.1, xgrf__estimator__max_depth=3, score=46.886, total= 1.2min\n",
            "[CV] xgrf__estimator__learning_rate=0.1, xgrf__estimator__max_depth=3 \n",
            "[CV]  xgrf__estimator__learning_rate=0.1, xgrf__estimator__max_depth=3, score=45.621, total= 1.2min\n",
            "[CV] xgrf__estimator__learning_rate=0.1, xgrf__estimator__max_depth=3 \n",
            "[CV]  xgrf__estimator__learning_rate=0.1, xgrf__estimator__max_depth=3, score=46.702, total= 1.2min\n",
            "[CV] xgrf__estimator__learning_rate=0.1, xgrf__estimator__max_depth=3 \n",
            "[CV]  xgrf__estimator__learning_rate=0.1, xgrf__estimator__max_depth=3, score=45.809, total= 1.2min\n",
            "[CV] xgrf__estimator__learning_rate=0.1, xgrf__estimator__max_depth=3 \n",
            "[CV]  xgrf__estimator__learning_rate=0.1, xgrf__estimator__max_depth=3, score=47.199, total= 1.2min\n",
            "[CV] xgrf__estimator__learning_rate=0.1, xgrf__estimator__max_depth=6 \n",
            "[CV]  xgrf__estimator__learning_rate=0.1, xgrf__estimator__max_depth=6, score=48.220, total= 2.3min\n",
            "[CV] xgrf__estimator__learning_rate=0.1, xgrf__estimator__max_depth=6 \n",
            "[CV]  xgrf__estimator__learning_rate=0.1, xgrf__estimator__max_depth=6, score=48.043, total= 2.3min\n",
            "[CV] xgrf__estimator__learning_rate=0.1, xgrf__estimator__max_depth=6 \n",
            "[CV]  xgrf__estimator__learning_rate=0.1, xgrf__estimator__max_depth=6, score=49.191, total= 2.3min\n",
            "[CV] xgrf__estimator__learning_rate=0.1, xgrf__estimator__max_depth=6 \n",
            "[CV]  xgrf__estimator__learning_rate=0.1, xgrf__estimator__max_depth=6, score=47.147, total= 2.3min\n",
            "[CV] xgrf__estimator__learning_rate=0.1, xgrf__estimator__max_depth=6 \n",
            "[CV]  xgrf__estimator__learning_rate=0.1, xgrf__estimator__max_depth=6, score=49.762, total= 2.3min\n",
            "[CV] xgrf__estimator__learning_rate=0.1, xgrf__estimator__max_depth=9 \n",
            "[CV]  xgrf__estimator__learning_rate=0.1, xgrf__estimator__max_depth=9, score=49.946, total= 3.3min\n",
            "[CV] xgrf__estimator__learning_rate=0.1, xgrf__estimator__max_depth=9 \n",
            "[CV]  xgrf__estimator__learning_rate=0.1, xgrf__estimator__max_depth=9, score=49.211, total= 3.3min\n",
            "[CV] xgrf__estimator__learning_rate=0.1, xgrf__estimator__max_depth=9 \n",
            "[CV]  xgrf__estimator__learning_rate=0.1, xgrf__estimator__max_depth=9, score=49.708, total= 3.3min\n",
            "[CV] xgrf__estimator__learning_rate=0.1, xgrf__estimator__max_depth=9 \n",
            "[CV]  xgrf__estimator__learning_rate=0.1, xgrf__estimator__max_depth=9, score=48.520, total= 3.3min\n",
            "[CV] xgrf__estimator__learning_rate=0.1, xgrf__estimator__max_depth=9 \n",
            "[CV]  xgrf__estimator__learning_rate=0.1, xgrf__estimator__max_depth=9, score=50.293, total= 3.3min\n",
            "[CV] xgrf__estimator__learning_rate=0.2, xgrf__estimator__max_depth=3 \n",
            "[CV]  xgrf__estimator__learning_rate=0.2, xgrf__estimator__max_depth=3, score=46.886, total= 1.2min\n",
            "[CV] xgrf__estimator__learning_rate=0.2, xgrf__estimator__max_depth=3 \n",
            "[CV]  xgrf__estimator__learning_rate=0.2, xgrf__estimator__max_depth=3, score=45.621, total= 1.2min\n",
            "[CV] xgrf__estimator__learning_rate=0.2, xgrf__estimator__max_depth=3 \n",
            "[CV]  xgrf__estimator__learning_rate=0.2, xgrf__estimator__max_depth=3, score=46.702, total= 1.2min\n",
            "[CV] xgrf__estimator__learning_rate=0.2, xgrf__estimator__max_depth=3 \n",
            "[CV]  xgrf__estimator__learning_rate=0.2, xgrf__estimator__max_depth=3, score=45.809, total= 1.2min\n",
            "[CV] xgrf__estimator__learning_rate=0.2, xgrf__estimator__max_depth=3 \n",
            "[CV]  xgrf__estimator__learning_rate=0.2, xgrf__estimator__max_depth=3, score=47.199, total= 1.2min\n",
            "[CV] xgrf__estimator__learning_rate=0.2, xgrf__estimator__max_depth=6 \n",
            "[CV]  xgrf__estimator__learning_rate=0.2, xgrf__estimator__max_depth=6, score=48.220, total= 2.3min\n",
            "[CV] xgrf__estimator__learning_rate=0.2, xgrf__estimator__max_depth=6 \n",
            "[CV]  xgrf__estimator__learning_rate=0.2, xgrf__estimator__max_depth=6, score=48.043, total= 2.3min\n",
            "[CV] xgrf__estimator__learning_rate=0.2, xgrf__estimator__max_depth=6 \n",
            "[CV]  xgrf__estimator__learning_rate=0.2, xgrf__estimator__max_depth=6, score=49.191, total= 2.3min\n",
            "[CV] xgrf__estimator__learning_rate=0.2, xgrf__estimator__max_depth=6 \n",
            "[CV]  xgrf__estimator__learning_rate=0.2, xgrf__estimator__max_depth=6, score=47.147, total= 2.3min\n",
            "[CV] xgrf__estimator__learning_rate=0.2, xgrf__estimator__max_depth=6 \n",
            "[CV]  xgrf__estimator__learning_rate=0.2, xgrf__estimator__max_depth=6, score=49.762, total= 2.3min\n",
            "[CV] xgrf__estimator__learning_rate=0.2, xgrf__estimator__max_depth=9 \n",
            "[CV]  xgrf__estimator__learning_rate=0.2, xgrf__estimator__max_depth=9, score=49.946, total= 3.3min\n",
            "[CV] xgrf__estimator__learning_rate=0.2, xgrf__estimator__max_depth=9 \n",
            "[CV]  xgrf__estimator__learning_rate=0.2, xgrf__estimator__max_depth=9, score=49.211, total= 3.3min\n",
            "[CV] xgrf__estimator__learning_rate=0.2, xgrf__estimator__max_depth=9 \n",
            "[CV]  xgrf__estimator__learning_rate=0.2, xgrf__estimator__max_depth=9, score=49.708, total= 3.3min\n",
            "[CV] xgrf__estimator__learning_rate=0.2, xgrf__estimator__max_depth=9 \n",
            "[CV]  xgrf__estimator__learning_rate=0.2, xgrf__estimator__max_depth=9, score=48.520, total= 3.4min\n",
            "[CV] xgrf__estimator__learning_rate=0.2, xgrf__estimator__max_depth=9 \n",
            "[CV]  xgrf__estimator__learning_rate=0.2, xgrf__estimator__max_depth=9, score=50.293, total= 3.3min\n"
          ],
          "name": "stdout"
        },
        {
          "output_type": "stream",
          "text": [
            "[Parallel(n_jobs=1)]: Done  45 out of  45 | elapsed: 102.3min finished\n"
          ],
          "name": "stderr"
        },
        {
          "output_type": "stream",
          "text": [
            "Best score: 49.536\n",
            "Best parameters set:\n",
            "\txgrf__estimator__learning_rate: 0.01\n",
            "\txgrf__estimator__max_depth: 9\n"
          ],
          "name": "stdout"
        }
      ]
    },
    {
      "cell_type": "code",
      "metadata": {
        "id": "bjwcsOtmWceE",
        "colab_type": "code",
        "outputId": "cb7d7ee3-2d11-4827-8f97-f36a767eb3e8",
        "colab": {
          "base_uri": "https://localhost:8080/",
          "height": 635
        }
      },
      "source": [
        "scale_ls = range(10)\n",
        "np.set_printoptions(precision=3)\n",
        "\n",
        "lr = ['0.01','0.1','0.2']\n",
        "max_depth = ['\\n+3', '\\n+6', '\\n+9']\n",
        "pa_ls = []\n",
        "\n",
        "for i in range(3):\n",
        "  for j in range(3):\n",
        "    pa_ls.append(lr[i]+max_depth[j])\n",
        "\n",
        "lr_ls = np.around(np.linspace(0.08,0.3,10),2)\n",
        "print(xgb_search_result[0])\n",
        "\n",
        "plt.plot(xgb_search_result[0].get('mean_test_score'))\n",
        "plt.xticks(scale_ls, pa_ls)\n",
        "plt.xlabel('learning rate and max_depth')\n",
        "plt.ylabel('Jaccard score')\n",
        "plt.title('Jaccard score versus parameters on random forest')"
      ],
      "execution_count": 0,
      "outputs": [
        {
          "output_type": "stream",
          "text": [
            "{'mean_fit_time': array([ 70.971, 135.986, 200.486,  71.818, 137.269, 197.718,  70.644,\n",
            "       136.607, 198.988]), 'std_fit_time': array([0.469, 1.337, 1.307, 0.984, 1.104, 1.046, 0.637, 0.663, 1.598]), 'mean_score_time': array([0.745, 0.823, 0.933, 0.74 , 0.829, 0.93 , 0.749, 0.827, 0.94 ]), 'std_score_time': array([0.01 , 0.014, 0.031, 0.005, 0.008, 0.007, 0.008, 0.014, 0.012]), 'param_xgrf__estimator__learning_rate': masked_array(data=[0.01, 0.01, 0.01, 0.1, 0.1, 0.1, 0.2, 0.2, 0.2],\n",
            "             mask=[False, False, False, False, False, False, False, False,\n",
            "                   False],\n",
            "       fill_value='?',\n",
            "            dtype=object), 'param_xgrf__estimator__max_depth': masked_array(data=[3, 6, 9, 3, 6, 9, 3, 6, 9],\n",
            "             mask=[False, False, False, False, False, False, False, False,\n",
            "                   False],\n",
            "       fill_value='?',\n",
            "            dtype=object), 'params': [{'xgrf__estimator__learning_rate': 0.01, 'xgrf__estimator__max_depth': 3}, {'xgrf__estimator__learning_rate': 0.01, 'xgrf__estimator__max_depth': 6}, {'xgrf__estimator__learning_rate': 0.01, 'xgrf__estimator__max_depth': 9}, {'xgrf__estimator__learning_rate': 0.1, 'xgrf__estimator__max_depth': 3}, {'xgrf__estimator__learning_rate': 0.1, 'xgrf__estimator__max_depth': 6}, {'xgrf__estimator__learning_rate': 0.1, 'xgrf__estimator__max_depth': 9}, {'xgrf__estimator__learning_rate': 0.2, 'xgrf__estimator__max_depth': 3}, {'xgrf__estimator__learning_rate': 0.2, 'xgrf__estimator__max_depth': 6}, {'xgrf__estimator__learning_rate': 0.2, 'xgrf__estimator__max_depth': 9}], 'split0_test_score': array([46.886, 48.22 , 49.946, 46.886, 48.22 , 49.946, 46.886, 48.22 ,\n",
            "       49.946]), 'split1_test_score': array([45.621, 48.043, 49.211, 45.621, 48.043, 49.211, 45.621, 48.043,\n",
            "       49.211]), 'split2_test_score': array([46.702, 49.191, 49.708, 46.702, 49.191, 49.708, 46.702, 49.191,\n",
            "       49.708]), 'split3_test_score': array([45.809, 47.147, 48.52 , 45.809, 47.147, 48.52 , 45.809, 47.147,\n",
            "       48.52 ]), 'split4_test_score': array([47.199, 49.762, 50.293, 47.199, 49.762, 50.293, 47.199, 49.762,\n",
            "       50.293]), 'mean_test_score': array([46.443, 48.473, 49.536, 46.443, 48.473, 49.536, 46.443, 48.473,\n",
            "       49.536]), 'std_test_score': array([0.619, 0.915, 0.618, 0.619, 0.915, 0.618, 0.619, 0.915, 0.618]), 'rank_test_score': array([7, 4, 1, 7, 4, 1, 7, 4, 1], dtype=int32)}\n"
          ],
          "name": "stdout"
        },
        {
          "output_type": "execute_result",
          "data": {
            "text/plain": [
              "Text(0.5, 1.0, 'Jaccard score versus parameters on random forest')"
            ]
          },
          "metadata": {
            "tags": []
          },
          "execution_count": 78
        },
        {
          "output_type": "display_data",
          "data": {
            "image/png": "[encoded data removed]",
            "text/plain": [
              "<Figure size 432x288 with 1 Axes>"
            ]
          },
          "metadata": {
            "tags": []
          }
        }
      ]
    },
    {
      "cell_type": "code",
      "metadata": {
        "id": "9_DqgjuR5N-5",
        "colab_type": "code",
        "colab": {}
      },
      "source": [
        "# print(xgb_search_result)"
      ],
      "execution_count": 0,
      "outputs": []
    },
    {
      "cell_type": "markdown",
      "metadata": {
        "id": "xLOrUZu08yQc",
        "colab_type": "text"
      },
      "source": [
        "Model ensemble"
      ]
    },
    {
      "cell_type": "code",
      "metadata": {
        "id": "SMtGcIJmjjg1",
        "colab_type": "code",
        "colab": {}
      },
      "source": [
        "import numpy as np\n",
        "from sklearn.metrics import roc_auc_score\n",
        "from sklearn.preprocessing import LabelEncoder\n",
        "from sklearn.model_selection import StratifiedKFold, KFold\n",
        "\n",
        "class modelEnsemble():\n",
        "  def __init__(self, model_ls, loss, accuracy, num_folds=15, lower_is_better=False):\n",
        "    \"\"\"\n",
        "    modelEnsemble() init\n",
        "    input:\n",
        "     model_ls: The list of models used for ensemble, model_ls[0] is the level 0 model\n",
        "     num_folds: The number of folds used for ensemble\n",
        "     loss: Loss or score used to evaluate model\n",
        "     lower_is_better: loss or score\n",
        "    \"\"\"\n",
        "    # init for modelEnsemble class\n",
        "    self.model_ls = model_ls\n",
        "    self.num_folds = num_folds\n",
        "    self.loss = loss\n",
        "    self.accuracy = accuracy\n",
        "    self.lower_is_better = lower_is_better\n",
        "    self.levels = len(self.model_ls)\n",
        "\n",
        "    # init for model.fit and model.predict\n",
        "    self.model_save = []\n",
        "    self.validation_scores = []\n",
        "    self.X_train = None\n",
        "    self.test = None\n",
        "    self.y_train = None\n",
        "    self.train_pred = None\n",
        "    self.test_pred = None\n",
        "    self.num_classes = None\n",
        "    self.final_model = OneVsRestClassifier(model_ls[-1][0])\n",
        "\n",
        "  \n",
        "  def fit(self, X_train, y_train):\n",
        "    \"\"\"\n",
        "    model.fit()\n",
        "    input:\n",
        "     X_train_ls: training data n*p\n",
        "     y_train: training label n*100\n",
        "    Output:\n",
        "     prediction_ls: Stacking of predictions\n",
        "    \"\"\"\n",
        "\n",
        "    # extract train data into class\n",
        "    self.X_train = X_train\n",
        "    self.y_train = y_train\n",
        "\n",
        "    # K-folders validation\n",
        "    self.num_classes = (self.y_train.shape[1])\n",
        "    print(\"Found %d classes\", self.num_classes)\n",
        "\n",
        "    kf = KFold(n_splits=self.num_folds)\n",
        "\n",
        "    # main loop to train models in different levels\n",
        "    for level in range(self.levels-1):\n",
        "      print(\"Begin to fit level {}\".format(level))\n",
        "\n",
        "      # Setup array to record training data pred from different levels\n",
        "      self.train_pred = np.zeros((self.y_train.shape[0], len(model_ls[level])*self.y_train.shape[1]))  # n*400\n",
        "\n",
        "      # init model save for each level\n",
        "      model_level = []\n",
        "\n",
        "      for num, model in enumerate(self.model_ls[level]):\n",
        "        foldnum = 1\n",
        "        model_folder = []\n",
        "\n",
        "        for train_index, valid_index in kf.split(self.X_train, self.y_train):\n",
        "          print(\"Training Level {} Fold # {}. Model {}\".format(level, foldnum, model.__class__.__name__)) \n",
        "\n",
        "          # extract train and validation set        \n",
        "          X_train_v, X_v, y_train_v, y_v = self.X_train[train_index, :], self.X_train[valid_index, :], y_train[train_index], y_train[valid_index]\n",
        "          clf = OneVsRestClassifier(model)\n",
        "          clf.fit(X_train_v, y_train_v)\n",
        "\n",
        "          print(\"Predicting Level {} Fold # {}. Model {}\".format(level, foldnum, model.__class__.__name__))\n",
        "          y_temp = clf.predict(X_v)     \n",
        "          print(self.num_classes*num , self.num_classes*(num+1))     \n",
        "          self.train_pred[valid_index, self.num_classes*num : self.num_classes*(num+1)] = y_temp\n",
        "\n",
        "          # store validation error\n",
        "          Jacard_score = self.loss(y_temp, y_v)\n",
        "          acc = self.accuracy(y_temp, y_v, 0.5)\n",
        "          self.validation_scores.append(Jacard_score)\n",
        "          print(\"Validation score is {}, precision is {}\".format(Jacard_score, acc))\n",
        "          print(\"// ------------------------------------------------------ //\")\n",
        "\n",
        "          foldnum += 1\n",
        "          # model_folder.append(clf)\n",
        "        # save model\n",
        "        model_level.append(clf)\n",
        "      # save model into different levels\n",
        "      self.model_save.append(model_level)\n",
        "\n",
        "    print(\"Begin to fit final level model .........\")\n",
        "    # dtrain = xgb.DMatrix(self.train_pred, label=self.y_train)\n",
        "    # dtest = xgb.DMatrix(X_test, label=y_test)  \n",
        "    self.final_model.fit(self.train_pred, self.y_train)  \n",
        "\n",
        "    print(\"==================== Finish fitting =========================\")\n",
        "    \n",
        "\n",
        "  def predict(self, X_test):\n",
        "    \"\"\"\n",
        "    model.predict()\n",
        "    input:\n",
        "     X_train: test data n*p\n",
        "    Output:\n",
        "     pred: Predcition of final model\n",
        "    \"\"\"\n",
        "\n",
        "    # extract train data into class\n",
        "    self.X_test = X_test\n",
        "    n,p = self.X_test.shape\n",
        "\n",
        "    # K-folders validation\n",
        "    kf = KFold(n_splits=self.num_folds)\n",
        "\n",
        "    # main loop to train models in different levels\n",
        "    for level in range(self.levels-1):\n",
        "      print(\"Begin to predict level {}\".format(level))\n",
        "      \n",
        "      # Setup array to record training data pred from different levels\n",
        "      self.test_pred = np.zeros((self.X_test.shape[0], len(model_ls[level])*self.num_classes))\n",
        "\n",
        "      # Convert test data to predict data\n",
        "      for num in range(len(self.model_ls[level])):\n",
        "        validation_scores = []\n",
        "        foldnum = 1\n",
        "\n",
        "        # for train_index, valid_index in kf.split(self.X_train[:n], self.y_train[:n]):\n",
        "        #   X_test_v, X_v = self.X_test[train_index, :], self.X_test[valid_index, :]\n",
        "\n",
        "        model = self.model_save[level][num]\n",
        "        # print(\"Predicting Level {} Fold # {}. Model {}\".format(level, foldnum, model.__class__.__name__)) \n",
        "        self.test_pred[:, self.num_classes*num : self.num_classes*(num+1)] = model.predict(self.X_test)\n",
        "\n",
        "    print(\"Begin to predict final level model ........\")\n",
        "    pred = self.final_model.predict(self.test_pred)\n",
        "\n",
        "    return pred\n",
        "\n"
      ],
      "execution_count": 0,
      "outputs": []
    },
    {
      "cell_type": "markdown",
      "metadata": {
        "id": "pdbBIRw6dFMI",
        "colab_type": "text"
      },
      "source": [
        "Run ensemble model"
      ]
    },
    {
      "cell_type": "code",
      "metadata": {
        "id": "zRbc7Lc6dD9o",
        "colab_type": "code",
        "outputId": "cc747d63-bfe6-440d-e0ba-a9b19281173e",
        "colab": {
          "base_uri": "https://localhost:8080/",
          "height": 1000
        }
      },
      "source": [
        "# -- binary multiclass --\n",
        "X_train, X_test, y_train, y_test = train_test_split(X_tfidf, y_bin, test_size = 0.1, random_state = 1) # Do 80/20 split\n",
        "clf_pac1 = PassiveAggressiveClassifier(C=0.1, loss='hinge')\n",
        "clf_pac3 = PassiveAggressiveClassifier(C=0.3, loss='hinge')\n",
        "clf_pac2 = PassiveAggressiveClassifier(C=0.2, loss='hinge')\n",
        "\n",
        "loss = avg_jacard\n",
        "# model_ls = [[clf_logistic, clf_xgRF, clf_sgd], [clf_pac1]]\n",
        "model_ls = [[clf_Lsvc, clf_logistic, clf_pac], [clf_xgRF]]\n",
        "# model_ls = [[clf_sgd], [clf_mult]]\n",
        "\n",
        "clf_ensemble = modelEnsemble(model_ls, loss, accuracy)\n",
        "clf_ensemble.fit(X_train, y_train)"
      ],
      "execution_count": 0,
      "outputs": [
        {
          "output_type": "stream",
          "text": [
            "Found %d classes 50\n",
            "Begin to fit level 0\n",
            "Training Level 0 Fold # 1. Model LinearSVC\n",
            "Predicting Level 0 Fold # 1. Model LinearSVC\n",
            "0 50\n",
            "Validation score is 55.97886593074819, precision is 0.6088310217945089\n",
            "// ------------------------------------------------------ //\n",
            "Training Level 0 Fold # 2. Model LinearSVC\n",
            "Predicting Level 0 Fold # 2. Model LinearSVC\n",
            "0 50\n",
            "Validation score is 56.78743277667705, precision is 0.626379847155392\n",
            "// ------------------------------------------------------ //\n",
            "Training Level 0 Fold # 3. Model LinearSVC\n",
            "Predicting Level 0 Fold # 3. Model LinearSVC\n",
            "0 50\n",
            "Validation score is 56.626568544202286, precision is 0.6243985281630342\n",
            "// ------------------------------------------------------ //\n",
            "Training Level 0 Fold # 4. Model LinearSVC\n",
            "Predicting Level 0 Fold # 4. Model LinearSVC\n",
            "0 50\n",
            "Validation score is 56.370884045664695, precision is 0.6221341636003397\n",
            "// ------------------------------------------------------ //\n",
            "Training Level 0 Fold # 5. Model LinearSVC\n",
            "Predicting Level 0 Fold # 5. Model LinearSVC\n",
            "0 50\n",
            "Validation score is 57.53161570403926, precision is 0.6560022650056625\n",
            "// ------------------------------------------------------ //\n",
            "Training Level 0 Fold # 6. Model LinearSVC\n",
            "Predicting Level 0 Fold # 6. Model LinearSVC\n",
            "0 50\n",
            "Validation score is 56.24339373348434, precision is 0.6126840317100792\n",
            "// ------------------------------------------------------ //\n",
            "Training Level 0 Fold # 7. Model LinearSVC\n",
            "Predicting Level 0 Fold # 7. Model LinearSVC\n",
            "0 50\n",
            "Validation score is 55.923933559833905, precision is 0.594563986409966\n",
            "// ------------------------------------------------------ //\n",
            "Training Level 0 Fold # 8. Model LinearSVC\n",
            "Predicting Level 0 Fold # 8. Model LinearSVC\n",
            "0 50\n",
            "Validation score is 56.24103435258587, precision is 0.622876557191393\n",
            "// ------------------------------------------------------ //\n",
            "Training Level 0 Fold # 9. Model LinearSVC\n",
            "Predicting Level 0 Fold # 9. Model LinearSVC\n",
            "0 50\n",
            "Validation score is 56.99792374480936, precision is 0.637599093997735\n",
            "// ------------------------------------------------------ //\n",
            "Training Level 0 Fold # 10. Model LinearSVC\n",
            "Predicting Level 0 Fold # 10. Model LinearSVC\n",
            "0 50\n",
            "Validation score is 56.28444696111741, precision is 0.6157984144960362\n",
            "// ------------------------------------------------------ //\n",
            "Training Level 0 Fold # 11. Model LinearSVC\n",
            "Predicting Level 0 Fold # 11. Model LinearSVC\n",
            "0 50\n",
            "Validation score is 56.18629671574179, precision is 0.6104190260475651\n",
            "// ------------------------------------------------------ //\n",
            "Training Level 0 Fold # 12. Model LinearSVC\n",
            "Predicting Level 0 Fold # 12. Model LinearSVC\n",
            "0 50\n",
            "Validation score is 57.501887504718766, precision is 0.6268403171007928\n",
            "// ------------------------------------------------------ //\n",
            "Training Level 0 Fold # 13. Model LinearSVC\n",
            "Predicting Level 0 Fold # 13. Model LinearSVC\n",
            "0 50\n",
            "Validation score is 57.7765194412986, precision is 0.6398640996602492\n",
            "// ------------------------------------------------------ //\n",
            "Training Level 0 Fold # 14. Model LinearSVC\n",
            "Predicting Level 0 Fold # 14. Model LinearSVC\n",
            "0 50\n",
            "Validation score is 56.14099660249151, precision is 0.6293884484711212\n",
            "// ------------------------------------------------------ //\n",
            "Training Level 0 Fold # 15. Model LinearSVC\n",
            "Predicting Level 0 Fold # 15. Model LinearSVC\n",
            "0 50\n",
            "Validation score is 55.87533031332579, precision is 0.622876557191393\n",
            "// ------------------------------------------------------ //\n",
            "Training Level 0 Fold # 1. Model LogisticRegression\n",
            "Predicting Level 0 Fold # 1. Model LogisticRegression\n",
            "50 100\n",
            "Validation score is 56.675629776394, precision is 0.6043022926691197\n",
            "// ------------------------------------------------------ //\n",
            "Training Level 0 Fold # 2. Model LogisticRegression\n",
            "Predicting Level 0 Fold # 2. Model LogisticRegression\n",
            "50 100\n",
            "Validation score is 57.09312199264082, precision is 0.6116614774978771\n",
            "// ------------------------------------------------------ //\n",
            "Training Level 0 Fold # 3. Model LogisticRegression\n",
            "Predicting Level 0 Fold # 3. Model LogisticRegression\n",
            "50 100\n",
            "Validation score is 57.077554486272284, precision is 0.6173223889046137\n",
            "// ------------------------------------------------------ //\n",
            "Training Level 0 Fold # 4. Model LogisticRegression\n",
            "Predicting Level 0 Fold # 4. Model LogisticRegression\n",
            "50 100\n",
            "Validation score is 57.21577507312011, precision is 0.6201528446079819\n",
            "// ------------------------------------------------------ //\n",
            "Training Level 0 Fold # 5. Model LogisticRegression\n",
            "Predicting Level 0 Fold # 5. Model LogisticRegression\n",
            "50 100\n",
            "Validation score is 58.088901472253674, precision is 0.6455266138165345\n",
            "// ------------------------------------------------------ //\n",
            "Training Level 0 Fold # 6. Model LogisticRegression\n",
            "Predicting Level 0 Fold # 6. Model LogisticRegression\n",
            "50 100\n",
            "Validation score is 56.72470743676858, precision is 0.6022083805209513\n",
            "// ------------------------------------------------------ //\n",
            "Training Level 0 Fold # 7. Model LogisticRegression\n",
            "Predicting Level 0 Fold # 7. Model LogisticRegression\n",
            "50 100\n",
            "Validation score is 56.620422801057, precision is 0.5894677236693092\n",
            "// ------------------------------------------------------ //\n",
            "Training Level 0 Fold # 8. Model LogisticRegression\n",
            "Predicting Level 0 Fold # 8. Model LogisticRegression\n",
            "50 100\n",
            "Validation score is 56.70866364665912, precision is 0.6143827859569649\n",
            "// ------------------------------------------------------ //\n",
            "Training Level 0 Fold # 9. Model LogisticRegression\n",
            "Predicting Level 0 Fold # 9. Model LogisticRegression\n",
            "50 100\n",
            "Validation score is 58.088429596073986, precision is 0.6398640996602492\n",
            "// ------------------------------------------------------ //\n",
            "Training Level 0 Fold # 10. Model LogisticRegression\n",
            "Predicting Level 0 Fold # 10. Model LogisticRegression\n",
            "50 100\n",
            "Validation score is 57.11730841827104, precision is 0.6095696489241224\n",
            "// ------------------------------------------------------ //\n",
            "Training Level 0 Fold # 11. Model LogisticRegression\n",
            "Predicting Level 0 Fold # 11. Model LogisticRegression\n",
            "50 100\n",
            "Validation score is 56.44063797659493, precision is 0.5988108720271801\n",
            "// ------------------------------------------------------ //\n",
            "Training Level 0 Fold # 12. Model LogisticRegression\n",
            "Predicting Level 0 Fold # 12. Model LogisticRegression\n",
            "50 100\n",
            "Validation score is 58.30171762929406, precision is 0.6225934314835787\n",
            "// ------------------------------------------------------ //\n",
            "Training Level 0 Fold # 13. Model LogisticRegression\n",
            "Predicting Level 0 Fold # 13. Model LogisticRegression\n",
            "50 100\n",
            "Validation score is 58.854284635711586, precision is 0.6398640996602492\n",
            "// ------------------------------------------------------ //\n",
            "Training Level 0 Fold # 14. Model LogisticRegression\n",
            "Predicting Level 0 Fold # 14. Model LogisticRegression\n",
            "50 100\n",
            "Validation score is 56.90118912797282, precision is 0.6149490373725934\n",
            "// ------------------------------------------------------ //\n",
            "Training Level 0 Fold # 15. Model LogisticRegression\n",
            "Predicting Level 0 Fold # 15. Model LogisticRegression\n",
            "50 100\n",
            "Validation score is 56.158456021140054, precision is 0.6075877689694225\n",
            "// ------------------------------------------------------ //\n",
            "Training Level 0 Fold # 1. Model PassiveAggressiveClassifier\n",
            "Predicting Level 0 Fold # 1. Model PassiveAggressiveClassifier\n",
            "100 150\n",
            "Validation score is 57.49787715822248, precision is 0.6402490801018964\n",
            "// ------------------------------------------------------ //\n",
            "Training Level 0 Fold # 2. Model PassiveAggressiveClassifier\n",
            "Predicting Level 0 Fold # 2. Model PassiveAggressiveClassifier\n",
            "100 150\n",
            "Validation score is 57.83564487215776, precision is 0.6450608547976224\n",
            "// ------------------------------------------------------ //\n",
            "Training Level 0 Fold # 3. Model PassiveAggressiveClassifier\n",
            "Predicting Level 0 Fold # 3. Model PassiveAggressiveClassifier\n",
            "100 150\n",
            "Validation score is 58.76450608547975, precision is 0.6606283611661478\n",
            "// ------------------------------------------------------ //\n",
            "Training Level 0 Fold # 4. Model PassiveAggressiveClassifier\n",
            "Predicting Level 0 Fold # 4. Model PassiveAggressiveClassifier\n",
            "100 150\n",
            "Validation score is 58.622511557694125, precision is 0.6660062270025474\n",
            "// ------------------------------------------------------ //\n",
            "Training Level 0 Fold # 5. Model PassiveAggressiveClassifier\n",
            "Predicting Level 0 Fold # 5. Model PassiveAggressiveClassifier\n",
            "100 150\n",
            "Validation score is 59.361551528878806, precision is 0.6882785956964892\n",
            "// ------------------------------------------------------ //\n",
            "Training Level 0 Fold # 6. Model PassiveAggressiveClassifier\n",
            "Predicting Level 0 Fold # 6. Model PassiveAggressiveClassifier\n",
            "100 150\n",
            "Validation score is 58.626368440921105, precision is 0.655436013590034\n",
            "// ------------------------------------------------------ //\n",
            "Training Level 0 Fold # 7. Model PassiveAggressiveClassifier\n",
            "Predicting Level 0 Fold # 7. Model PassiveAggressiveClassifier\n",
            "100 150\n",
            "Validation score is 57.38108720271801, precision is 0.622876557191393\n",
            "// ------------------------------------------------------ //\n",
            "Training Level 0 Fold # 8. Model PassiveAggressiveClassifier\n",
            "Predicting Level 0 Fold # 8. Model PassiveAggressiveClassifier\n",
            "100 150\n",
            "Validation score is 57.21073990184975, precision is 0.6452434881087202\n",
            "// ------------------------------------------------------ //\n",
            "Training Level 0 Fold # 9. Model PassiveAggressiveClassifier\n",
            "Predicting Level 0 Fold # 9. Model PassiveAggressiveClassifier\n",
            "100 150\n",
            "Validation score is 58.21064552661382, precision is 0.665911664779162\n",
            "// ------------------------------------------------------ //\n",
            "Training Level 0 Fold # 10. Model PassiveAggressiveClassifier\n",
            "Predicting Level 0 Fold # 10. Model PassiveAggressiveClassifier\n",
            "100 150\n",
            "Validation score is 58.290864477161186, precision is 0.6506228765571914\n",
            "// ------------------------------------------------------ //\n",
            "Training Level 0 Fold # 11. Model PassiveAggressiveClassifier\n",
            "Predicting Level 0 Fold # 11. Model PassiveAggressiveClassifier\n",
            "100 150\n",
            "Validation score is 57.741128727821824, precision is 0.6452434881087202\n",
            "// ------------------------------------------------------ //\n",
            "Training Level 0 Fold # 12. Model PassiveAggressiveClassifier\n",
            "Predicting Level 0 Fold # 12. Model PassiveAggressiveClassifier\n",
            "100 150\n",
            "Validation score is 58.10164212910532, precision is 0.6514722536806342\n",
            "// ------------------------------------------------------ //\n",
            "Training Level 0 Fold # 13. Model PassiveAggressiveClassifier\n",
            "Predicting Level 0 Fold # 13. Model PassiveAggressiveClassifier\n",
            "100 150\n",
            "Validation score is 59.02085692714232, precision is 0.6642129105322764\n",
            "// ------------------------------------------------------ //\n",
            "Training Level 0 Fold # 14. Model PassiveAggressiveClassifier\n",
            "Predicting Level 0 Fold # 14. Model PassiveAggressiveClassifier\n",
            "100 150\n",
            "Validation score is 57.47546243865609, precision is 0.6526047565118913\n",
            "// ------------------------------------------------------ //\n",
            "Training Level 0 Fold # 15. Model PassiveAggressiveClassifier\n",
            "Predicting Level 0 Fold # 15. Model PassiveAggressiveClassifier\n",
            "100 150\n",
            "Validation score is 57.35230275575689, precision is 0.6534541336353341\n",
            "// ------------------------------------------------------ //\n",
            "Begin to fit final level model .........\n",
            "==================== Finish fitting =========================\n"
          ],
          "name": "stdout"
        }
      ]
    },
    {
      "cell_type": "code",
      "metadata": {
        "id": "cZNR9_UGlzu1",
        "colab_type": "code",
        "outputId": "9a25751a-0ab2-4ba9-8bf3-183160653819",
        "colab": {
          "base_uri": "https://localhost:8080/",
          "height": 180
        }
      },
      "source": [
        "pred = clf_ensemble.predict(X_test)\n",
        "print_score(clf_ensemble, pred, y_test)"
      ],
      "execution_count": 0,
      "outputs": [
        {
          "output_type": "stream",
          "text": [
            "Begin to predict level 0\n",
            "Begin to predict final level model ........\n",
            "---\n",
            "Clf:  modelEnsemble\n",
            "Multiclass Log loss: 1.4164959965848446e-15\n",
            "Jacard score: 59.5417232789855\n",
            "Hamming loss: 0.014707880434782609\n",
            "Precision: 68.22350543478261\n",
            "---\n"
          ],
          "name": "stdout"
        }
      ]
    },
    {
      "cell_type": "code",
      "metadata": {
        "id": "DXnhQnRh4jZm",
        "colab_type": "code",
        "outputId": "566f45cf-57be-43d6-fe2e-42326a6531e8",
        "colab": {
          "base_uri": "https://localhost:8080/",
          "height": 125
        }
      },
      "source": [
        "X_train, X_test, y_train, y_test = train_test_split(X_tfidf, y_bin, test_size = 0.1, random_state = 0) # Do 80/20 split\n",
        "pred_last = clf_ensemble.predict(X_test[-1090])\n",
        "print(pred_last)\n",
        "print(y_test[-1090])\n"
      ],
      "execution_count": 0,
      "outputs": [
        {
          "output_type": "stream",
          "text": [
            "Begin to predict level 0\n",
            "Begin to predict final level model ........\n",
            "[[0 0 0 0 0 0 0 0 0 0 0 0 0 0 1 0 0 0 0 0 0 1 0 0 0 0 0 0 0 0 0 0 0 0 0 0\n",
            "  0 0 0 0 0 0 0 0 0 0 0 0 0 0]]\n",
            "[0 0 0 0 0 0 0 0 0 0 0 0 0 0 1 0 0 0 0 0 0 1 0 0 0 0 0 0 0 0 0 0 0 0 0 0 0\n",
            " 0 0 0 0 0 0 0 0 0 0 0 0 0]\n"
          ],
          "name": "stdout"
        }
      ]
    }
  ]
}